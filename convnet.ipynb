{
 "cells": [
  {
   "cell_type": "code",
   "execution_count": 1,
   "metadata": {},
   "outputs": [
    {
     "name": "stdout",
     "output_type": "stream",
     "text": [
      "numpy version: 1.23.5\n",
      "cwd: /home/alfred/nicolas/IACG/edgestuff/MNISTonEDGE\n"
     ]
    }
   ],
   "source": [
    "import numpy as np\n",
    "import os\n",
    "\n",
    "print('numpy version: {}'.format(np.__version__))\n",
    "\n",
    "# print the current working directory\n",
    "print('cwd: {}'.format(os.getcwd()))"
   ]
  },
  {
   "cell_type": "code",
   "execution_count": 2,
   "metadata": {},
   "outputs": [
    {
     "name": "stdout",
     "output_type": "stream",
     "text": [
      "cuda:0\n"
     ]
    }
   ],
   "source": [
    "import torch\n",
    "import torch.nn as nn\n",
    "import torchvision.transforms as T\n",
    "import torch.nn.functional as F\n",
    "import torchvision.datasets as datasets\n",
    "import numpy as np\n",
    "import matplotlib.pyplot as plt\n",
    "import os\n",
    "# os.environ['TF_CPP_MIN_LOG_LEVEL'] = '2'\n",
    "import tensorflow as tf\n",
    "from torchsummary import summary\n",
    "import onnx\n",
    "import onnxruntime\n",
    "# # import tensorflow_addons as tfa\n",
    "# from onnx_tf.backend import prepare\n",
    "import sys\n",
    "from tqdm import tqdm\n",
    "\n",
    "#  enable benchmarking\n",
    "torch.backends.cudnn.benchmark = True\n",
    "\n",
    "mydevice = torch.device(\"cuda:0\" if torch.cuda.is_available() else \"cpu\")\n",
    "print(mydevice)"
   ]
  },
  {
   "cell_type": "markdown",
   "metadata": {},
   "source": [
    "# train a convnet model"
   ]
  },
  {
   "cell_type": "code",
   "execution_count": 3,
   "metadata": {},
   "outputs": [
    {
     "name": "stdout",
     "output_type": "stream",
     "text": [
      "==========================================================================================\n",
      "Layer (type:depth-idx)                   Output Shape              Param #\n",
      "==========================================================================================\n",
      "├─Conv2d: 1-1                            [-1, 1, 22, 22]           50\n",
      "├─ReLU: 1-2                              [-1, 1, 22, 22]           --\n",
      "├─Conv2d: 1-3                            [-1, 1, 22, 22]           10\n",
      "├─ReLU: 1-4                              [-1, 1, 22, 22]           --\n",
      "├─Conv2d: 1-5                            [-1, 1, 22, 22]           10\n",
      "├─ReLU: 1-6                              [-1, 1, 22, 22]           --\n",
      "├─Conv2d: 1-7                            [-1, 1, 22, 22]           10\n",
      "├─ReLU: 1-8                              [-1, 1, 22, 22]           --\n",
      "├─Conv2d: 1-9                            [-1, 1, 18, 18]           26\n",
      "├─ReLU: 1-10                             [-1, 1, 18, 18]           --\n",
      "├─Conv2d: 1-11                           [-1, 1, 18, 18]           10\n",
      "├─ReLU: 1-12                             [-1, 1, 18, 18]           --\n",
      "├─Conv2d: 1-13                           [-1, 1, 18, 18]           10\n",
      "├─ReLU: 1-14                             [-1, 1, 18, 18]           --\n",
      "├─Conv2d: 1-15                           [-1, 1, 18, 18]           10\n",
      "├─ReLU: 1-16                             [-1, 1, 18, 18]           --\n",
      "├─Conv2d: 1-17                           [-1, 1, 14, 14]           26\n",
      "├─ReLU: 1-18                             [-1, 1, 14, 14]           --\n",
      "├─Conv2d: 1-19                           [-1, 1, 14, 14]           10\n",
      "├─ReLU: 1-20                             [-1, 1, 14, 14]           --\n",
      "├─Conv2d: 1-21                           [-1, 1, 14, 14]           10\n",
      "├─ReLU: 1-22                             [-1, 1, 14, 14]           --\n",
      "├─Conv2d: 1-23                           [-1, 1, 14, 14]           10\n",
      "├─ReLU: 1-24                             [-1, 1, 14, 14]           --\n",
      "├─Conv2d: 1-25                           [-1, 1, 10, 10]           26\n",
      "├─ReLU: 1-26                             [-1, 1, 10, 10]           --\n",
      "├─Linear: 1-27                           [-1, 10]                  1,010\n",
      "==========================================================================================\n",
      "Total params: 1,228\n",
      "Trainable params: 1,228\n",
      "Non-trainable params: 0\n",
      "Total mult-adds (M): 0.07\n",
      "==========================================================================================\n",
      "Input size (MB): 0.00\n",
      "Forward/backward pass size (MB): 0.03\n",
      "Params size (MB): 0.00\n",
      "Estimated Total Size (MB): 0.04\n",
      "==========================================================================================\n"
     ]
    }
   ],
   "source": [
    "# light model for mnist\n",
    "# convnet = nn.Sequential( nn.Conv2d(1,1,3), nn.ReLU(), nn.Conv2d(1,1,3), nn.ReLU(), nn.Flatten(), nn.Linear(24*24,10) ).to(mydevice)\n",
    "# convnet = nn.Sequential( nn.Conv2d(1,1,5), nn.ReLU(), nn.Conv2d(1,1,5), nn.ReLU(),nn.Conv2d(1,1,5), nn.ReLU(),nn.Conv2d(1,1,5), nn.ReLU(),nn.Conv2d(1,1,5), nn.ReLU(),\n",
    "#  nn.Flatten(), nn.Linear(8*8,64), nn.ReLU(),nn.Linear(64,10)).to(mydevice)\n",
    "class resnet(nn.Module):\n",
    "    def __init__(self):\n",
    "        super().__init__()\n",
    "        self.rel = nn.ReLU()\n",
    "        self.conv0 = nn.Conv2d(1,1,7) # 22*22\n",
    "        self.conv1 = nn.Conv2d(1,1,3, padding=1)\n",
    "        self.conv2 = nn.Conv2d(1,1,3, padding=1)\n",
    "        self.conv3 = nn.Conv2d(1,1,3, padding=1)\n",
    "        self.conv4 = nn.Conv2d(1,1,5)            # 18*18\n",
    "        self.conv5 = nn.Conv2d(1,1,3, padding=1)\n",
    "        self.conv6 = nn.Conv2d(1,1,3, padding=1)\n",
    "        self.conv7 = nn.Conv2d(1,1,3, padding=1)\n",
    "        self.conv8 = nn.Conv2d(1,1,5)           # 16*16\n",
    "        self.conv9 = nn.Conv2d(1,1,3, padding=1)\n",
    "        self.conv10 = nn.Conv2d(1,1,3, padding=1)\n",
    "        self.conv11 = nn.Conv2d(1,1,3, padding=1)\n",
    "        self.conv12 = nn.Conv2d(1,1,5)         # 12*12\n",
    "        self.fc1 = nn.Linear(100, 10)\n",
    "\n",
    "        # init the weights\n",
    "        for m in self.modules():\n",
    "            if isinstance(m, nn.Conv2d):\n",
    "                nn.init.kaiming_normal_(m.weight, mode='fan_out', nonlinearity='relu')\n",
    "                if m.bias is not None:\n",
    "                    nn.init.constant_(m.bias, 0)\n",
    "            elif isinstance(m, nn.BatchNorm2d):\n",
    "                nn.init.constant_(m.weight, 1)\n",
    "                nn.init.constant_(m.bias, 0)\n",
    "            elif isinstance(m, nn.Linear):\n",
    "                nn.init.normal_(m.weight, 0, 0.01)\n",
    "                nn.init.constant_(m.bias, 0)\n",
    "    \n",
    "    def forward(self, x):\n",
    "        x = self.rel(self.conv0(x))\n",
    "        x1 = self.rel(self.conv1(x))\n",
    "        x2 = self.rel(self.conv2(x1))\n",
    "        x3 = self.rel(self.conv3(x2))\n",
    "        x = x + x3\n",
    "        x = self.rel(self.conv4(x))\n",
    "        x1 = self.rel(self.conv5(x))\n",
    "        x2 = self.rel(self.conv6(x1))\n",
    "        x3 = self.rel(self.conv7(x2))\n",
    "        x = x + x3\n",
    "        x = self.rel(self.conv8(x))\n",
    "        x1 = self.rel(self.conv9(x))\n",
    "        x2 = self.rel(self.conv10(x1))\n",
    "        x3 = self.rel(self.conv11(x2))\n",
    "        x = x + x3\n",
    "        x = self.rel(self.conv12(x))\n",
    "        # x = x.view(-1, 12*12)\n",
    "        x = nn.Flatten()(x)\n",
    "        # print(x.shape)\n",
    "        x = self.fc1(x)\n",
    "        return x\n",
    "\n",
    "convnet = resnet().to(mydevice)\n",
    "# convnet = nn.Sequential( nn.Flatten(), nn.Linear(28*28, 256), nn.ReLU(), nn.Linear(256, 100), nn.ReLU(), nn.Linear(100,10) ).to(mydevice)\n",
    "\n",
    "#  print the operators\n",
    "summary(convnet, (1,28,28))\n",
    "# summary(mlp, (1,28,28))\n",
    "\n",
    "optim = torch.optim.AdamW(convnet.parameters(), lr=0.01)\n",
    "critereon = nn.CrossEntropyLoss().to(mydevice)\n",
    "scheduler = torch.optim.lr_scheduler.ReduceLROnPlateau(optim, patience=5, verbose=True)\n"
   ]
  },
  {
   "cell_type": "code",
   "execution_count": 4,
   "metadata": {},
   "outputs": [
    {
     "name": "stdout",
     "output_type": "stream",
     "text": [
      "train set size:  32400\n",
      "validation set size:  3600\n",
      "test set size:  6000\n",
      "train loader size:  507\n",
      "validation loader size:  3600\n",
      "test loader size:  94\n",
      "train set class distribution:\n",
      "[3261, 3601, 3151, 3362, 3141, 2915, 3145, 3329, 3181, 3314]\n",
      "validation set class distribution:\n",
      "[349, 421, 355, 372, 358, 331, 367, 370, 363, 314]\n",
      "test set class distribution:\n",
      "[557, 706, 599, 595, 601, 544, 582, 592, 595, 629]\n"
     ]
    }
   ],
   "source": [
    "batchsize = 64\n",
    "\n",
    "# load MNIST data\n",
    "train_set = datasets.MNIST(root='./data', train=True, download=True, transform=T.ToTensor())\n",
    "test_set = datasets.MNIST(root='./data', train=False, download=True, transform=T.ToTensor())\n",
    "\n",
    "# split into train and validation\n",
    "total_data = 0.6\n",
    "val_length = int(len(train_set)*0.1)\n",
    "train_length = int(len(train_set)) - val_length\n",
    "train_set, val_set = torch.utils.data.random_split(train_set, [train_length, val_length])\n",
    "train_set, _ = torch.utils.data.random_split(train_set, [int(len(train_set)*total_data), len(train_set)-int(len(train_set)*total_data)])\n",
    "val_set, _ = torch.utils.data.random_split(val_set, [int(len(val_set)*total_data), len(val_set)-int(len(val_set)*total_data)])\n",
    "test_set, _ = torch.utils.data.random_split(test_set, [int(len(test_set)*total_data), len(test_set)-int(len(test_set)*total_data)])\n",
    "# train_set, val_set = torch.utils.data.random_split(train_set, [train_length, val_length])\n",
    "# test_set, _ = torch.utils.data.random_split(test_set, [test_length, len(test_set)-test_length])\n",
    "\n",
    "\n",
    "# create data loaders\n",
    "train_loader = torch.utils.data.DataLoader(train_set, batch_size=batchsize, shuffle=True)\n",
    "val_loader = torch.utils.data.DataLoader(val_set, batch_size=1, shuffle=False)\n",
    "test_loader = torch.utils.data.DataLoader(test_set, batch_size=batchsize, shuffle=False)\n",
    "\n",
    "#  print all the info sizes\n",
    "print(\"train set size: \", len(train_set))\n",
    "print(\"validation set size: \", len(val_set))\n",
    "print(\"test set size: \", len(test_set))\n",
    "print(\"train loader size: \", len(train_loader))\n",
    "print(\"validation loader size: \", len(val_loader))\n",
    "print(\"test loader size: \", len(test_loader))\n",
    "\n",
    "#  print distribution of classes\n",
    "def print_class_distribution(loader):\n",
    "    class_count = [0 for i in range(10)]\n",
    "    for batch in loader:\n",
    "        for label in batch[1]:\n",
    "            class_count[label] += 1\n",
    "    print(class_count)\n",
    "\n",
    "print(\"train set class distribution:\")\n",
    "print_class_distribution(train_loader)\n",
    "print(\"validation set class distribution:\")\n",
    "print_class_distribution(val_loader)\n",
    "print(\"test set class distribution:\")\n",
    "print_class_distribution(test_loader)\n"
   ]
  },
  {
   "cell_type": "code",
   "execution_count": 5,
   "metadata": {},
   "outputs": [
    {
     "name": "stderr",
     "output_type": "stream",
     "text": [
      "  0%|          | 0/30 [00:00<?, ?it/s]"
     ]
    },
    {
     "name": "stdout",
     "output_type": "stream",
     "text": [
      "epoch 0 train acc 0.801: 100%|██████████| 507/507 [00:04<00:00, 121.37it/s]\n",
      "epoch 0 test acc 0.865: 100%|██████████| 94/94 [00:00<00:00, 210.99it/s]"
     ]
    },
    {
     "name": "stderr",
     "output_type": "stream",
     "text": [
      "  3%|▎         | 1/30 [00:04<02:14,  4.63s/it]"
     ]
    },
    {
     "name": "stdout",
     "output_type": "stream",
     "text": [
      "\n",
      "epoch 1 train acc 0.877: 100%|██████████| 507/507 [00:04<00:00, 123.16it/s]\n",
      "epoch 1 test acc 0.887: 100%|██████████| 94/94 [00:00<00:00, 208.20it/s]"
     ]
    },
    {
     "name": "stderr",
     "output_type": "stream",
     "text": [
      "  7%|▋         | 2/30 [00:09<02:08,  4.60s/it]"
     ]
    },
    {
     "name": "stdout",
     "output_type": "stream",
     "text": [
      "\n",
      "epoch 2 train acc 0.889: 100%|██████████| 507/507 [00:04<00:00, 121.70it/s]\n",
      "epoch 2 test acc 0.874: 100%|██████████| 94/94 [00:00<00:00, 202.26it/s]"
     ]
    },
    {
     "name": "stderr",
     "output_type": "stream",
     "text": [
      " 10%|█         | 3/30 [00:13<02:04,  4.61s/it]"
     ]
    },
    {
     "name": "stdout",
     "output_type": "stream",
     "text": [
      "\n",
      "epoch 3 train acc 0.901: 100%|██████████| 507/507 [00:04<00:00, 124.99it/s]\n",
      "epoch 3 test acc 0.888: 100%|██████████| 94/94 [00:00<00:00, 210.07it/s]"
     ]
    },
    {
     "name": "stderr",
     "output_type": "stream",
     "text": [
      " 13%|█▎        | 4/30 [00:18<01:58,  4.57s/it]"
     ]
    },
    {
     "name": "stdout",
     "output_type": "stream",
     "text": [
      "\n",
      "epoch 4 train acc 0.905: 100%|██████████| 507/507 [00:04<00:00, 122.62it/s]\n",
      "epoch 4 test acc 0.918: 100%|██████████| 94/94 [00:00<00:00, 207.28it/s]"
     ]
    },
    {
     "name": "stderr",
     "output_type": "stream",
     "text": [
      " 17%|█▋        | 5/30 [00:22<01:54,  4.58s/it]"
     ]
    },
    {
     "name": "stdout",
     "output_type": "stream",
     "text": [
      "\n",
      "epoch 5 train acc 0.908: 100%|██████████| 507/507 [00:04<00:00, 124.37it/s]\n",
      "epoch 5 test acc 0.916: 100%|██████████| 94/94 [00:00<00:00, 213.07it/s]"
     ]
    },
    {
     "name": "stderr",
     "output_type": "stream",
     "text": [
      " 20%|██        | 6/30 [00:27<01:49,  4.56s/it]"
     ]
    },
    {
     "name": "stdout",
     "output_type": "stream",
     "text": [
      "\n",
      "epoch 6 train acc 0.912: 100%|██████████| 507/507 [00:04<00:00, 123.68it/s]\n",
      "epoch 6 test acc 0.907: 100%|██████████| 94/94 [00:00<00:00, 206.86it/s]"
     ]
    },
    {
     "name": "stderr",
     "output_type": "stream",
     "text": [
      " 23%|██▎       | 7/30 [00:32<01:44,  4.56s/it]"
     ]
    },
    {
     "name": "stdout",
     "output_type": "stream",
     "text": [
      "\n",
      "epoch 7 train acc 0.912: 100%|██████████| 507/507 [00:04<00:00, 122.92it/s]\n",
      "epoch 7 test acc 0.903: 100%|██████████| 94/94 [00:00<00:00, 208.93it/s]"
     ]
    },
    {
     "name": "stderr",
     "output_type": "stream",
     "text": [
      " 27%|██▋       | 8/30 [00:36<01:40,  4.57s/it]"
     ]
    },
    {
     "name": "stdout",
     "output_type": "stream",
     "text": [
      "\n",
      "epoch 8 train acc 0.916: 100%|██████████| 507/507 [00:04<00:00, 122.70it/s]\n",
      "epoch 8 test acc 0.924: 100%|██████████| 94/94 [00:00<00:00, 208.45it/s]"
     ]
    },
    {
     "name": "stderr",
     "output_type": "stream",
     "text": [
      " 30%|███       | 9/30 [00:41<01:36,  4.57s/it]"
     ]
    },
    {
     "name": "stdout",
     "output_type": "stream",
     "text": [
      "\n",
      "epoch 9 train acc 0.914: 100%|██████████| 507/507 [00:04<00:00, 124.38it/s]\n",
      "epoch 9 test acc 0.913: 100%|██████████| 94/94 [00:00<00:00, 212.16it/s]"
     ]
    },
    {
     "name": "stderr",
     "output_type": "stream",
     "text": [
      " 33%|███▎      | 10/30 [00:45<01:31,  4.56s/it]"
     ]
    },
    {
     "name": "stdout",
     "output_type": "stream",
     "text": [
      "\n",
      "epoch 10 train acc 0.915: 100%|██████████| 507/507 [00:04<00:00, 123.33it/s]\n",
      "epoch 10 test acc 0.927: 100%|██████████| 94/94 [00:00<00:00, 208.33it/s]"
     ]
    },
    {
     "name": "stderr",
     "output_type": "stream",
     "text": [
      " 37%|███▋      | 11/30 [00:50<01:26,  4.56s/it]"
     ]
    },
    {
     "name": "stdout",
     "output_type": "stream",
     "text": [
      "\n",
      "epoch 11 train acc 0.917: 100%|██████████| 507/507 [00:04<00:00, 124.85it/s]\n",
      "epoch 11 test acc 0.919: 100%|██████████| 94/94 [00:00<00:00, 207.98it/s]"
     ]
    },
    {
     "name": "stderr",
     "output_type": "stream",
     "text": [
      " 40%|████      | 12/30 [00:54<01:21,  4.55s/it]"
     ]
    },
    {
     "name": "stdout",
     "output_type": "stream",
     "text": [
      "\n",
      "epoch 12 train acc 0.920: 100%|██████████| 507/507 [00:04<00:00, 124.23it/s]\n",
      "epoch 12 test acc 0.925: 100%|██████████| 94/94 [00:00<00:00, 211.05it/s]"
     ]
    },
    {
     "name": "stderr",
     "output_type": "stream",
     "text": [
      " 43%|████▎     | 13/30 [00:59<01:17,  4.54s/it]"
     ]
    },
    {
     "name": "stdout",
     "output_type": "stream",
     "text": [
      "\n",
      "epoch 13 train acc 0.920: 100%|██████████| 507/507 [00:04<00:00, 124.23it/s]\n",
      "epoch 13 test acc 0.934: 100%|██████████| 94/94 [00:00<00:00, 207.79it/s]"
     ]
    },
    {
     "name": "stderr",
     "output_type": "stream",
     "text": [
      " 47%|████▋     | 14/30 [01:03<01:12,  4.54s/it]"
     ]
    },
    {
     "name": "stdout",
     "output_type": "stream",
     "text": [
      "\n",
      "epoch 14 train acc 0.920: 100%|██████████| 507/507 [00:04<00:00, 122.63it/s]\n",
      "epoch 14 test acc 0.919: 100%|██████████| 94/94 [00:00<00:00, 207.71it/s]"
     ]
    },
    {
     "name": "stderr",
     "output_type": "stream",
     "text": [
      " 50%|█████     | 15/30 [01:08<01:08,  4.56s/it]"
     ]
    },
    {
     "name": "stdout",
     "output_type": "stream",
     "text": [
      "\n",
      "epoch 15 train acc 0.920: 100%|██████████| 507/507 [00:04<00:00, 124.59it/s]\n",
      "epoch 15 test acc 0.929: 100%|██████████| 94/94 [00:00<00:00, 206.00it/s]"
     ]
    },
    {
     "name": "stderr",
     "output_type": "stream",
     "text": [
      " 53%|█████▎    | 16/30 [01:12<01:03,  4.55s/it]"
     ]
    },
    {
     "name": "stdout",
     "output_type": "stream",
     "text": [
      "\n",
      "epoch 16 train acc 0.923: 100%|██████████| 507/507 [00:04<00:00, 123.82it/s]\n",
      "epoch 16 test acc 0.934: 100%|██████████| 94/94 [00:00<00:00, 213.35it/s]"
     ]
    },
    {
     "name": "stderr",
     "output_type": "stream",
     "text": [
      " 57%|█████▋    | 17/30 [01:17<00:59,  4.55s/it]"
     ]
    },
    {
     "name": "stdout",
     "output_type": "stream",
     "text": [
      "\n",
      "epoch 17 train acc 0.921: 100%|██████████| 507/507 [00:04<00:00, 124.40it/s]\n",
      "epoch 17 test acc 0.926: 100%|██████████| 94/94 [00:00<00:00, 204.99it/s]"
     ]
    },
    {
     "name": "stderr",
     "output_type": "stream",
     "text": [
      " 60%|██████    | 18/30 [01:22<00:54,  4.54s/it]"
     ]
    },
    {
     "name": "stdout",
     "output_type": "stream",
     "text": [
      "\n",
      "epoch 18 train acc 0.923: 100%|██████████| 507/507 [00:04<00:00, 122.77it/s]\n",
      "epoch 18 test acc 0.923: 100%|██████████| 94/94 [00:00<00:00, 213.50it/s]"
     ]
    },
    {
     "name": "stderr",
     "output_type": "stream",
     "text": [
      " 63%|██████▎   | 19/30 [01:26<00:50,  4.55s/it]"
     ]
    },
    {
     "name": "stdout",
     "output_type": "stream",
     "text": [
      "\n",
      "epoch 19 train acc 0.925: 100%|██████████| 507/507 [00:04<00:00, 125.80it/s]\n",
      "epoch 19 test acc 0.922: 100%|██████████| 94/94 [00:00<00:00, 213.39it/s]"
     ]
    },
    {
     "name": "stderr",
     "output_type": "stream",
     "text": [
      " 67%|██████▋   | 20/30 [01:31<00:45,  4.53s/it]"
     ]
    },
    {
     "name": "stdout",
     "output_type": "stream",
     "text": [
      "\n",
      "Epoch 00020: reducing learning rate of group 0 to 1.0000e-03.\n",
      "epoch 20 train acc 0.945: 100%|██████████| 507/507 [00:04<00:00, 124.20it/s]\n",
      "epoch 20 test acc 0.945: 100%|██████████| 94/94 [00:00<00:00, 207.66it/s]"
     ]
    },
    {
     "name": "stderr",
     "output_type": "stream",
     "text": [
      " 70%|███████   | 21/30 [01:35<00:40,  4.53s/it]"
     ]
    },
    {
     "name": "stdout",
     "output_type": "stream",
     "text": [
      "\n",
      "epoch 21 train acc 0.949: 100%|██████████| 507/507 [00:04<00:00, 121.82it/s]\n",
      "epoch 21 test acc 0.949: 100%|██████████| 94/94 [00:00<00:00, 212.92it/s]"
     ]
    },
    {
     "name": "stderr",
     "output_type": "stream",
     "text": [
      " 73%|███████▎  | 22/30 [01:40<00:36,  4.56s/it]"
     ]
    },
    {
     "name": "stdout",
     "output_type": "stream",
     "text": [
      "\n",
      "epoch 22 train acc 0.948: 100%|██████████| 507/507 [00:04<00:00, 123.47it/s]\n",
      "epoch 22 test acc 0.946: 100%|██████████| 94/94 [00:00<00:00, 213.78it/s]"
     ]
    },
    {
     "name": "stderr",
     "output_type": "stream",
     "text": [
      " 77%|███████▋  | 23/30 [01:44<00:31,  4.55s/it]"
     ]
    },
    {
     "name": "stdout",
     "output_type": "stream",
     "text": [
      "\n",
      "epoch 23 train acc 0.949: 100%|██████████| 507/507 [00:04<00:00, 125.40it/s]\n",
      "epoch 23 test acc 0.945: 100%|██████████| 94/94 [00:00<00:00, 214.44it/s]"
     ]
    },
    {
     "name": "stderr",
     "output_type": "stream",
     "text": [
      " 80%|████████  | 24/30 [01:49<00:27,  4.53s/it]"
     ]
    },
    {
     "name": "stdout",
     "output_type": "stream",
     "text": [
      "\n",
      "epoch 24 train acc 0.950: 100%|██████████| 507/507 [00:04<00:00, 123.79it/s]\n",
      "epoch 24 test acc 0.948: 100%|██████████| 94/94 [00:00<00:00, 202.44it/s]"
     ]
    },
    {
     "name": "stderr",
     "output_type": "stream",
     "text": [
      " 83%|████████▎ | 25/30 [01:53<00:22,  4.54s/it]"
     ]
    },
    {
     "name": "stdout",
     "output_type": "stream",
     "text": [
      "\n",
      "epoch 25 train acc 0.950: 100%|██████████| 507/507 [00:04<00:00, 122.26it/s]\n",
      "epoch 25 test acc 0.946: 100%|██████████| 94/94 [00:00<00:00, 207.19it/s]"
     ]
    },
    {
     "name": "stderr",
     "output_type": "stream",
     "text": [
      " 87%|████████▋ | 26/30 [01:58<00:18,  4.56s/it]"
     ]
    },
    {
     "name": "stdout",
     "output_type": "stream",
     "text": [
      "\n",
      "epoch 26 train acc 0.950: 100%|██████████| 507/507 [00:04<00:00, 123.03it/s]\n",
      "epoch 26 test acc 0.948: 100%|██████████| 94/94 [00:00<00:00, 212.46it/s]"
     ]
    },
    {
     "name": "stderr",
     "output_type": "stream",
     "text": [
      " 90%|█████████ | 27/30 [02:03<00:13,  4.56s/it]"
     ]
    },
    {
     "name": "stdout",
     "output_type": "stream",
     "text": [
      "\n",
      "epoch 27 train acc 0.951: 100%|██████████| 507/507 [00:04<00:00, 122.84it/s]\n",
      "epoch 27 test acc 0.950: 100%|██████████| 94/94 [00:00<00:00, 208.39it/s]"
     ]
    },
    {
     "name": "stderr",
     "output_type": "stream",
     "text": [
      " 93%|█████████▎| 28/30 [02:07<00:09,  4.57s/it]"
     ]
    },
    {
     "name": "stdout",
     "output_type": "stream",
     "text": [
      "\n",
      "epoch 28 train acc 0.950: 100%|██████████| 507/507 [00:04<00:00, 123.65it/s]\n",
      "epoch 28 test acc 0.948: 100%|██████████| 94/94 [00:00<00:00, 203.84it/s]"
     ]
    },
    {
     "name": "stderr",
     "output_type": "stream",
     "text": [
      " 97%|█████████▋| 29/30 [02:12<00:04,  4.57s/it]"
     ]
    },
    {
     "name": "stdout",
     "output_type": "stream",
     "text": [
      "\n",
      "epoch 29 train acc 0.951: 100%|██████████| 507/507 [00:04<00:00, 122.16it/s]\n",
      "epoch 29 test acc 0.946: 100%|██████████| 94/94 [00:00<00:00, 214.17it/s]"
     ]
    },
    {
     "name": "stderr",
     "output_type": "stream",
     "text": [
      "100%|██████████| 30/30 [02:16<00:00,  4.56s/it]"
     ]
    },
    {
     "name": "stdout",
     "output_type": "stream",
     "text": [
      "\n"
     ]
    },
    {
     "name": "stderr",
     "output_type": "stream",
     "text": [
      "\n"
     ]
    }
   ],
   "source": [
    "\n",
    "best_loss = np.inf\n",
    "\n",
    "train_losses = []\n",
    "tain_accs = []\n",
    "test_losses = []\n",
    "test_accs = []\n",
    "\n",
    "weights = []\n",
    "biases = []\n",
    "grads = []\n",
    "\n",
    "\n",
    "# train\n",
    "for epoch in tqdm(range(30)):\n",
    "    convnet.train()\n",
    "    total_loss = 0\n",
    "    total_acc = 0\n",
    "    with tqdm(total=len(train_loader), file=sys.stdout) as pbar:\n",
    "        for x, y in train_loader:\n",
    "            pbar.update(1)\n",
    "            x = x.to(mydevice)\n",
    "            y = y.to(mydevice)\n",
    "            optim.zero_grad(set_to_none = True)\n",
    "            y_ = convnet(x)\n",
    "            loss = critereon(y_, y)\n",
    "            total_acc += (y_.argmax(dim=1) == y).sum().item()\n",
    "            loss.backward()\n",
    "            optim.step()\n",
    "            total_loss += loss.item()\n",
    "        train_losses.append(total_loss / len(train_loader))\n",
    "        tain_accs.append(total_acc / len(train_set))\n",
    "        # print(f\"epoch {epoch} train loss {total_loss / len(train_loader)}\")\n",
    "        pbar.set_description(f\"epoch {epoch} train acc {total_acc / len(train_set):.3f}\")\n",
    "        pbar.refresh()\n",
    "    # if epoch % 2 == 0:\n",
    "    #     weights.append(convnet[0].weight.detach().cpu().numpy())\n",
    "    #     biases.append(convnet[0].bias.detach().cpu().numpy())\n",
    "    #     grads.append(convnet[0].weight.grad.detach().cpu().numpy())\n",
    "    \n",
    "    # test\n",
    "    convnet.eval()\n",
    "    with torch.no_grad():\n",
    "        total_loss = 0\n",
    "        total_acc = 0\n",
    "        with tqdm(total=len(test_loader), file=sys.stdout) as pbar:\n",
    "            for x, y in test_loader:\n",
    "                pbar.update(1)\n",
    "                x = x.to(mydevice)\n",
    "                y = y.to(mydevice)\n",
    "                y_ = convnet(x)\n",
    "                loss = critereon(y_, y)\n",
    "                total_acc += (y_.argmax(dim=1) == y).sum().item()\n",
    "                total_loss += loss.item()\n",
    "            test_losses.append(total_loss / len(test_loader))\n",
    "            test_accs.append(total_acc / len(test_set))\n",
    "            # print(f\"epoch {epoch} test loss {total_loss / len(test_loader)}\")\n",
    "            pbar.set_description(f\"epoch {epoch} test acc {total_acc / len(test_set):.3f}\")\n",
    "            pbar.refresh()\n",
    "            if total_loss < best_loss:\n",
    "                best_loss = total_loss\n",
    "                torch.save(convnet.state_dict(), \"convnet.pt\")\n",
    "                # print(\"saved model\")\n",
    "        scheduler.step(total_loss / len(test_loader))\n",
    "\n"
   ]
  },
  {
   "cell_type": "code",
   "execution_count": 9,
   "metadata": {},
   "outputs": [
    {
     "data": {
      "image/png": "[encoded data removed]",
      "text/plain": [
       "<Figure size 720x360 with 3 Axes>"
      ]
     },
     "metadata": {
      "needs_background": "light"
     },
     "output_type": "display_data"
    }
   ],
   "source": [
    "# plot\n",
    "#  set size\n",
    "plt.figure(figsize=(10, 5))\n",
    "#  losses\n",
    "plt.subplot(3, 1, 1)\n",
    "plt.plot(train_losses, label=\"train\")\n",
    "plt.plot(test_losses, label=\"test\")\n",
    "plt.xlabel(\"epoch\")\n",
    "plt.ylabel(\"loss\")\n",
    "plt.legend()\n",
    "\n",
    "#  log losses\n",
    "plt.subplot(3, 1, 2)\n",
    "plt.plot(train_losses, label=\"train\")\n",
    "plt.plot(test_losses, label=\"test\")\n",
    "plt.yscale(\"log\")\n",
    "plt.ylabel(\"log loss\")\n",
    "plt.xlabel(\"epoch\")\n",
    "plt.legend()\n",
    "\n",
    "#  derivative of loss\n",
    "plt.subplot(3, 1, 3)\n",
    "plt.plot(np.gradient(train_losses), label=\"train\")\n",
    "plt.plot(np.gradient(test_losses), label=\"test\")\n",
    "plt.ylabel(\"derivative of loss\")\n",
    "plt.xlabel(\"epoch\")\n",
    "plt.legend()\n",
    "\n",
    "plt.show()"
   ]
  },
  {
   "cell_type": "code",
   "execution_count": 10,
   "metadata": {},
   "outputs": [
    {
     "data": {
      "image/png": "[encoded data removed]",
      "text/plain": [
       "<Figure size 720x360 with 2 Axes>"
      ]
     },
     "metadata": {
      "needs_background": "light"
     },
     "output_type": "display_data"
    }
   ],
   "source": [
    "#  plot accuracy\n",
    "plt.figure(figsize=(10, 5))\n",
    "\n",
    "plt.subplot(2, 1, 1)\n",
    "plt.plot(tain_accs, label=\"train\")\n",
    "plt.plot(test_accs, label=\"test\")\n",
    "plt.ylabel(\"accuracy\")\n",
    "plt.xlabel(\"epoch\")\n",
    "plt.legend()\n",
    "\n",
    "plt.subplot(2, 1, 2)\n",
    "plt.plot(tain_accs, label=\"train\")\n",
    "plt.plot(test_accs, label=\"test\")\n",
    "plt.yscale(\"log\")\n",
    "plt.ylabel(\"log accuracy\")\n",
    "plt.xlabel(\"epoch\")\n",
    "plt.legend()\n",
    "plt.show()\n"
   ]
  },
  {
   "cell_type": "markdown",
   "metadata": {},
   "source": [
    "# evaluate the raw model"
   ]
  },
  {
   "cell_type": "code",
   "execution_count": 5,
   "metadata": {},
   "outputs": [
    {
     "name": "stderr",
     "output_type": "stream",
     "text": [
      "100%|██████████| 3600/3600 [00:05<00:00, 638.51it/s]\n"
     ]
    },
    {
     "name": "stdout",
     "output_type": "stream",
     "text": [
      "raw model accuracy: 0.9547222222222222\n",
      "raw model class accuracy: [0.09527777777777778, 0.11555555555555555, 0.095, 0.0975, 0.09527777777777778, 0.0875, 0.09972222222222223, 0.0975, 0.09305555555555556, 0.07833333333333334]\n"
     ]
    },
    {
     "data": {
      "image/png": "[encoded data removed]",
      "text/plain": [
       "<Figure size 720x360 with 1 Axes>"
      ]
     },
     "metadata": {
      "needs_background": "light"
     },
     "output_type": "display_data"
    }
   ],
   "source": [
    "# evaluatre the model\n",
    "convnet.load_state_dict(torch.load(\"convnet.pt\"))\n",
    "convnet.eval()\n",
    "\n",
    "#  estimate accuracy on valid set of raw model\n",
    "total_acc = 0\n",
    "class_acc = [0 for _ in range(10)]\n",
    "with torch.no_grad():\n",
    "    for x,y in tqdm(val_loader):\n",
    "        x,y = x.to(mydevice), y.to(mydevice)\n",
    "\n",
    "        y_ = convnet(x)\n",
    "        loss = critereon(y_, y)\n",
    "        total_acc+= (y_.argmax(dim=1) == y).sum().item()\n",
    "        for i in range(10):\n",
    "            class_acc[i] += ((y_.argmax(dim=1) == y) & (y == i)).sum().item()\n",
    "total_acc /= len(val_set)\n",
    "class_acc = [x / len(val_set) for x in class_acc]\n",
    "print(f\"raw model accuracy: {total_acc}\")\n",
    "print(f\"raw model class accuracy: {class_acc}\")\n",
    "\n",
    "\n",
    "#  graph class accuracy in a bar chart\n",
    "plt.figure(figsize=(10, 5))\n",
    "plt.bar(range(10), class_acc)\n",
    "plt.xlabel(\"class\")\n",
    "plt.ylabel(\"accuracy\")\n",
    "plt.show()\n"
   ]
  },
  {
   "cell_type": "markdown",
   "metadata": {},
   "source": [
    "# quantization"
   ]
  },
  {
   "cell_type": "code",
   "execution_count": null,
   "metadata": {},
   "outputs": [],
   "source": [
    "# #  now we quantize the model\n",
    "# convnet.load_state_dict(torch.load(\"convnet.pt\"))\n",
    "\n",
    "# # static quantization\n",
    "# convnet.qconfig = torch.quantization.get_default_qconfig('fbgemm')\n",
    "# torch.quantization.prepare(convnet, inplace=True)\n",
    "# torch.quantization.convert(convnet, inplace=True)\n",
    "\n",
    "# #  estimate accuracy on valid set of quantized model\n",
    "# total_acc = 0\n",
    "# class_acc = [0 for _ in range(10)]\n",
    "# with torch.no_grad():\n",
    "#     for x,y in tqdm(val_loader):\n",
    "#         x,y = x.to(mydevice), y.to(mydevice)\n",
    "\n",
    "#         y_ = convnet(x)\n",
    "#         loss = critereon(y_, y)\n",
    "#         total_acc+= (y_.argmax(dim=1) == y).sum().item()\n",
    "#         for i in range(10):\n",
    "#             class_acc[i] += ((y_.argmax(dim=1) == y) & (y == i)).sum().item()\n",
    "# total_acc /= len(val_set)\n",
    "# class_acc = [x / len(val_set) for x in class_acc]\n",
    "# print(f\"quantized model accuracy: {total_acc}\")\n",
    "# print(f\"quantized model class accuracy: {class_acc}\")\n",
    "\n",
    "# #  graph class accuracy in a bar chart\n",
    "# plt.figure(figsize=(10, 5))\n",
    "# plt.bar(range(10), class_acc)\n",
    "# plt.xlabel(\"class\")\n",
    "# plt.ylabel(\"accuracy\")\n",
    "# plt.show()\n",
    "\n",
    "#!  we quantize the model in onnx\n",
    "\n"
   ]
  },
  {
   "cell_type": "code",
   "execution_count": 6,
   "metadata": {},
   "outputs": [],
   "source": [
    "def get_size_of_model(model):\n",
    "    torch.save(model.state_dict(), \"temp.p\")\n",
    "    size = os.path.getsize(\"temp.p\")\n",
    "    os.remove('temp.p')\n",
    "    return size"
   ]
  },
  {
   "cell_type": "code",
   "execution_count": null,
   "metadata": {},
   "outputs": [],
   "source": [
    "# #  evaluate on a grid\n",
    "# x = torch.linspace(-10, 10, 1000).unsqueeze(1).to(mydevice) \n",
    "# y = torch.sin(x).to(mydevice)\n",
    "# y_ = quantized_model(x).to(mydevice)\n",
    "\n",
    "# #  plot the results\n",
    "# plt.plot(x.cpu().numpy(), y.cpu().numpy(), label=\"sin(x)\")\n",
    "# plt.plot(x.cpu().numpy(), y_.cpu().detach().numpy(), label=\"model\")\n",
    "# plt.legend()\n",
    "# plt.show()\n",
    "\n",
    "# Qerror = 0\n",
    "\n",
    "# #  calculate the error\n",
    "# with torch.no_grad():\n",
    "#     Qerror = torch.mean(torch.abs(y - y_))\n",
    "#     print(f\"error {Qerror}\")\n",
    "\n",
    "# print(f\"error reduction {rawerror / Qerror}\")\n",
    "# print(f\"abs error reduction {abs(rawerror - Qerror)}\")\n",
    "# print(f\"model size {get_size_of_model(sineModel)}\")\n",
    "# print(f\"quantized model size {get_size_of_model(quantized_model)}\")\n",
    "\n",
    "\n",
    "# print(quantized_model)\n",
    "# # summary(quantized_model, (1,))\n"
   ]
  },
  {
   "cell_type": "code",
   "execution_count": null,
   "metadata": {},
   "outputs": [],
   "source": [
    "# #  save the model\n",
    "# torch.jit.save(torch.jit.script(quantized_model), \"Q_sineModel.pt\")"
   ]
  },
  {
   "cell_type": "markdown",
   "metadata": {},
   "source": [
    "# export to onnx"
   ]
  },
  {
   "cell_type": "code",
   "execution_count": 6,
   "metadata": {},
   "outputs": [
    {
     "name": "stdout",
     "output_type": "stream",
     "text": [
      "torch.Size([1, 1, 28, 28])\n",
      "Exported graph: graph(%input : Float(1, 1, 28, 28, strides=[1, 1, 28, 1], requires_grad=0, device=cpu),\n",
      "      %conv0.weight : Float(1, 1, 7, 7, strides=[49, 49, 7, 1], requires_grad=1, device=cpu),\n",
      "      %conv0.bias : Float(1, strides=[1], requires_grad=1, device=cpu),\n",
      "      %conv1.weight : Float(1, 1, 3, 3, strides=[9, 9, 3, 1], requires_grad=1, device=cpu),\n",
      "      %conv1.bias : Float(1, strides=[1], requires_grad=1, device=cpu),\n",
      "      %conv2.weight : Float(1, 1, 3, 3, strides=[9, 9, 3, 1], requires_grad=1, device=cpu),\n",
      "      %conv2.bias : Float(1, strides=[1], requires_grad=1, device=cpu),\n",
      "      %conv3.weight : Float(1, 1, 3, 3, strides=[9, 9, 3, 1], requires_grad=1, device=cpu),\n",
      "      %conv3.bias : Float(1, strides=[1], requires_grad=1, device=cpu),\n",
      "      %conv4.weight : Float(1, 1, 5, 5, strides=[25, 25, 5, 1], requires_grad=1, device=cpu),\n",
      "      %conv4.bias : Float(1, strides=[1], requires_grad=1, device=cpu),\n",
      "      %conv5.weight : Float(1, 1, 3, 3, strides=[9, 9, 3, 1], requires_grad=1, device=cpu),\n",
      "      %conv5.bias : Float(1, strides=[1], requires_grad=1, device=cpu),\n",
      "      %conv6.weight : Float(1, 1, 3, 3, strides=[9, 9, 3, 1], requires_grad=1, device=cpu),\n",
      "      %conv6.bias : Float(1, strides=[1], requires_grad=1, device=cpu),\n",
      "      %conv7.weight : Float(1, 1, 3, 3, strides=[9, 9, 3, 1], requires_grad=1, device=cpu),\n",
      "      %conv7.bias : Float(1, strides=[1], requires_grad=1, device=cpu),\n",
      "      %conv8.weight : Float(1, 1, 5, 5, strides=[25, 25, 5, 1], requires_grad=1, device=cpu),\n",
      "      %conv8.bias : Float(1, strides=[1], requires_grad=1, device=cpu),\n",
      "      %conv9.weight : Float(1, 1, 3, 3, strides=[9, 9, 3, 1], requires_grad=1, device=cpu),\n",
      "      %conv9.bias : Float(1, strides=[1], requires_grad=1, device=cpu),\n",
      "      %conv10.weight : Float(1, 1, 3, 3, strides=[9, 9, 3, 1], requires_grad=1, device=cpu),\n",
      "      %conv10.bias : Float(1, strides=[1], requires_grad=1, device=cpu),\n",
      "      %conv11.weight : Float(1, 1, 3, 3, strides=[9, 9, 3, 1], requires_grad=1, device=cpu),\n",
      "      %conv11.bias : Float(1, strides=[1], requires_grad=1, device=cpu),\n",
      "      %conv12.weight : Float(1, 1, 5, 5, strides=[25, 25, 5, 1], requires_grad=1, device=cpu),\n",
      "      %conv12.bias : Float(1, strides=[1], requires_grad=1, device=cpu),\n",
      "      %fc1.weight : Float(10, 100, strides=[100, 1], requires_grad=1, device=cpu),\n",
      "      %fc1.bias : Float(10, strides=[1], requires_grad=1, device=cpu)):\n",
      "  %input.1 : Float(1, 1, 22, 22, strides=[484, 484, 22, 1], requires_grad=0, device=cpu) = onnx::Conv[dilations=[1, 1], group=1, kernel_shape=[7, 7], pads=[0, 0, 0, 0], strides=[1, 1], onnx_name=\"Conv_0\"](%input, %conv0.weight, %conv0.bias) # /usr/local/lib/python3.8/dist-packages/torch/nn/modules/conv.py:453:0\n",
      "  %input.4 : Float(1, 1, 22, 22, strides=[484, 484, 22, 1], requires_grad=1, device=cpu) = onnx::Relu[onnx_name=\"Relu_1\"](%input.1) # /usr/local/lib/python3.8/dist-packages/torch/nn/functional.py:1457:0\n",
      "  %input.8 : Float(1, 1, 22, 22, strides=[484, 484, 22, 1], requires_grad=0, device=cpu) = onnx::Conv[dilations=[1, 1], group=1, kernel_shape=[3, 3], pads=[1, 1, 1, 1], strides=[1, 1], onnx_name=\"Conv_2\"](%input.4, %conv1.weight, %conv1.bias) # /usr/local/lib/python3.8/dist-packages/torch/nn/modules/conv.py:453:0\n",
      "  %input.12 : Float(1, 1, 22, 22, strides=[484, 484, 22, 1], requires_grad=1, device=cpu) = onnx::Relu[onnx_name=\"Relu_3\"](%input.8) # /usr/local/lib/python3.8/dist-packages/torch/nn/functional.py:1457:0\n",
      "  %input.16 : Float(1, 1, 22, 22, strides=[484, 484, 22, 1], requires_grad=0, device=cpu) = onnx::Conv[dilations=[1, 1], group=1, kernel_shape=[3, 3], pads=[1, 1, 1, 1], strides=[1, 1], onnx_name=\"Conv_4\"](%input.12, %conv2.weight, %conv2.bias) # /usr/local/lib/python3.8/dist-packages/torch/nn/modules/conv.py:453:0\n",
      "  %input.20 : Float(1, 1, 22, 22, strides=[484, 484, 22, 1], requires_grad=1, device=cpu) = onnx::Relu[onnx_name=\"Relu_5\"](%input.16) # /usr/local/lib/python3.8/dist-packages/torch/nn/functional.py:1457:0\n",
      "  %input.24 : Float(1, 1, 22, 22, strides=[484, 484, 22, 1], requires_grad=0, device=cpu) = onnx::Conv[dilations=[1, 1], group=1, kernel_shape=[3, 3], pads=[1, 1, 1, 1], strides=[1, 1], onnx_name=\"Conv_6\"](%input.20, %conv3.weight, %conv3.bias) # /usr/local/lib/python3.8/dist-packages/torch/nn/modules/conv.py:453:0\n",
      "  %onnx::Add_36 : Float(1, 1, 22, 22, strides=[484, 484, 22, 1], requires_grad=1, device=cpu) = onnx::Relu[onnx_name=\"Relu_7\"](%input.24) # /usr/local/lib/python3.8/dist-packages/torch/nn/functional.py:1457:0\n",
      "  %input.28 : Float(1, 1, 22, 22, strides=[484, 484, 22, 1], requires_grad=1, device=cpu) = onnx::Add[onnx_name=\"Add_8\"](%input.4, %onnx::Add_36) # /tmp/ipykernel_38597/3036947060.py:42:0\n",
      "  %input.32 : Float(1, 1, 18, 18, strides=[324, 324, 18, 1], requires_grad=0, device=cpu) = onnx::Conv[dilations=[1, 1], group=1, kernel_shape=[5, 5], pads=[0, 0, 0, 0], strides=[1, 1], onnx_name=\"Conv_9\"](%input.28, %conv4.weight, %conv4.bias) # /usr/local/lib/python3.8/dist-packages/torch/nn/modules/conv.py:453:0\n",
      "  %input.36 : Float(1, 1, 18, 18, strides=[324, 324, 18, 1], requires_grad=1, device=cpu) = onnx::Relu[onnx_name=\"Relu_10\"](%input.32) # /usr/local/lib/python3.8/dist-packages/torch/nn/functional.py:1457:0\n",
      "  %input.40 : Float(1, 1, 18, 18, strides=[324, 324, 18, 1], requires_grad=0, device=cpu) = onnx::Conv[dilations=[1, 1], group=1, kernel_shape=[3, 3], pads=[1, 1, 1, 1], strides=[1, 1], onnx_name=\"Conv_11\"](%input.36, %conv5.weight, %conv5.bias) # /usr/local/lib/python3.8/dist-packages/torch/nn/modules/conv.py:453:0\n",
      "  %input.44 : Float(1, 1, 18, 18, strides=[324, 324, 18, 1], requires_grad=1, device=cpu) = onnx::Relu[onnx_name=\"Relu_12\"](%input.40) # /usr/local/lib/python3.8/dist-packages/torch/nn/functional.py:1457:0\n",
      "  %input.48 : Float(1, 1, 18, 18, strides=[324, 324, 18, 1], requires_grad=0, device=cpu) = onnx::Conv[dilations=[1, 1], group=1, kernel_shape=[3, 3], pads=[1, 1, 1, 1], strides=[1, 1], onnx_name=\"Conv_13\"](%input.44, %conv6.weight, %conv6.bias) # /usr/local/lib/python3.8/dist-packages/torch/nn/modules/conv.py:453:0\n",
      "  %input.52 : Float(1, 1, 18, 18, strides=[324, 324, 18, 1], requires_grad=1, device=cpu) = onnx::Relu[onnx_name=\"Relu_14\"](%input.48) # /usr/local/lib/python3.8/dist-packages/torch/nn/functional.py:1457:0\n",
      "  %input.56 : Float(1, 1, 18, 18, strides=[324, 324, 18, 1], requires_grad=0, device=cpu) = onnx::Conv[dilations=[1, 1], group=1, kernel_shape=[3, 3], pads=[1, 1, 1, 1], strides=[1, 1], onnx_name=\"Conv_15\"](%input.52, %conv7.weight, %conv7.bias) # /usr/local/lib/python3.8/dist-packages/torch/nn/modules/conv.py:453:0\n",
      "  %onnx::Add_45 : Float(1, 1, 18, 18, strides=[324, 324, 18, 1], requires_grad=1, device=cpu) = onnx::Relu[onnx_name=\"Relu_16\"](%input.56) # /usr/local/lib/python3.8/dist-packages/torch/nn/functional.py:1457:0\n",
      "  %input.60 : Float(1, 1, 18, 18, strides=[324, 324, 18, 1], requires_grad=1, device=cpu) = onnx::Add[onnx_name=\"Add_17\"](%input.36, %onnx::Add_45) # /tmp/ipykernel_38597/3036947060.py:47:0\n",
      "  %input.64 : Float(1, 1, 14, 14, strides=[196, 196, 14, 1], requires_grad=0, device=cpu) = onnx::Conv[dilations=[1, 1], group=1, kernel_shape=[5, 5], pads=[0, 0, 0, 0], strides=[1, 1], onnx_name=\"Conv_18\"](%input.60, %conv8.weight, %conv8.bias) # /usr/local/lib/python3.8/dist-packages/torch/nn/modules/conv.py:453:0\n",
      "  %input.68 : Float(1, 1, 14, 14, strides=[196, 196, 14, 1], requires_grad=1, device=cpu) = onnx::Relu[onnx_name=\"Relu_19\"](%input.64) # /usr/local/lib/python3.8/dist-packages/torch/nn/functional.py:1457:0\n",
      "  %input.72 : Float(1, 1, 14, 14, strides=[196, 196, 14, 1], requires_grad=0, device=cpu) = onnx::Conv[dilations=[1, 1], group=1, kernel_shape=[3, 3], pads=[1, 1, 1, 1], strides=[1, 1], onnx_name=\"Conv_20\"](%input.68, %conv9.weight, %conv9.bias) # /usr/local/lib/python3.8/dist-packages/torch/nn/modules/conv.py:453:0\n",
      "  %input.76 : Float(1, 1, 14, 14, strides=[196, 196, 14, 1], requires_grad=1, device=cpu) = onnx::Relu[onnx_name=\"Relu_21\"](%input.72) # /usr/local/lib/python3.8/dist-packages/torch/nn/functional.py:1457:0\n",
      "  %input.80 : Float(1, 1, 14, 14, strides=[196, 196, 14, 1], requires_grad=0, device=cpu) = onnx::Conv[dilations=[1, 1], group=1, kernel_shape=[3, 3], pads=[1, 1, 1, 1], strides=[1, 1], onnx_name=\"Conv_22\"](%input.76, %conv10.weight, %conv10.bias) # /usr/local/lib/python3.8/dist-packages/torch/nn/modules/conv.py:453:0\n",
      "  %input.84 : Float(1, 1, 14, 14, strides=[196, 196, 14, 1], requires_grad=1, device=cpu) = onnx::Relu[onnx_name=\"Relu_23\"](%input.80) # /usr/local/lib/python3.8/dist-packages/torch/nn/functional.py:1457:0\n",
      "  %input.88 : Float(1, 1, 14, 14, strides=[196, 196, 14, 1], requires_grad=0, device=cpu) = onnx::Conv[dilations=[1, 1], group=1, kernel_shape=[3, 3], pads=[1, 1, 1, 1], strides=[1, 1], onnx_name=\"Conv_24\"](%input.84, %conv11.weight, %conv11.bias) # /usr/local/lib/python3.8/dist-packages/torch/nn/modules/conv.py:453:0\n",
      "  %onnx::Add_54 : Float(1, 1, 14, 14, strides=[196, 196, 14, 1], requires_grad=1, device=cpu) = onnx::Relu[onnx_name=\"Relu_25\"](%input.88) # /usr/local/lib/python3.8/dist-packages/torch/nn/functional.py:1457:0\n",
      "  %input.92 : Float(1, 1, 14, 14, strides=[196, 196, 14, 1], requires_grad=1, device=cpu) = onnx::Add[onnx_name=\"Add_26\"](%input.68, %onnx::Add_54) # /tmp/ipykernel_38597/3036947060.py:52:0\n",
      "  %input.96 : Float(1, 1, 10, 10, strides=[100, 100, 10, 1], requires_grad=0, device=cpu) = onnx::Conv[dilations=[1, 1], group=1, kernel_shape=[5, 5], pads=[0, 0, 0, 0], strides=[1, 1], onnx_name=\"Conv_27\"](%input.92, %conv12.weight, %conv12.bias) # /usr/local/lib/python3.8/dist-packages/torch/nn/modules/conv.py:453:0\n",
      "  %onnx::Flatten_57 : Float(1, 1, 10, 10, strides=[100, 100, 10, 1], requires_grad=1, device=cpu) = onnx::Relu[onnx_name=\"Relu_28\"](%input.96) # /usr/local/lib/python3.8/dist-packages/torch/nn/functional.py:1457:0\n",
      "  %onnx::Gemm_58 : Float(1, 100, strides=[100, 1], requires_grad=1, device=cpu) = onnx::Flatten[axis=1, onnx_name=\"Flatten_29\"](%onnx::Flatten_57) # /usr/local/lib/python3.8/dist-packages/torch/nn/modules/flatten.py:45:0\n",
      "  %output : Float(1, 10, strides=[10, 1], requires_grad=1, device=cpu) = onnx::Gemm[alpha=1., beta=1., transB=1, onnx_name=\"Gemm_30\"](%onnx::Gemm_58, %fc1.weight, %fc1.bias) # /usr/local/lib/python3.8/dist-packages/torch/nn/modules/linear.py:114:0\n",
      "  return (%output)\n",
      "\n",
      "model exported\n",
      "model checked\n",
      "strating inference\n"
     ]
    },
    {
     "name": "stderr",
     "output_type": "stream",
     "text": [
      "100%|██████████| 3600/3600 [00:03<00:00, 1035.01it/s]\n"
     ]
    },
    {
     "name": "stdout",
     "output_type": "stream",
     "text": [
      "onnx model accuracy: 0.9547222222222222\n",
      "onnx model class accuracy: [0.09527777777777778, 0.11555555555555555, 0.095, 0.0975, 0.09527777777777778, 0.0875, 0.09972222222222223, 0.0975, 0.09305555555555556, 0.07833333333333334]\n"
     ]
    },
    {
     "data": {
      "image/png": "[encoded data removed]",
      "text/plain": [
       "<Figure size 720x360 with 1 Axes>"
      ]
     },
     "metadata": {
      "needs_background": "light"
     },
     "output_type": "display_data"
    }
   ],
   "source": [
    "# export to onnx\n",
    "convnet.load_state_dict(torch.load(\"convnet.pt\"))\n",
    "convnet = convnet.cpu()\n",
    "convnet.eval()\n",
    "# dummy_input = torch.randn(1, 1, 28, 28)\n",
    "# use valiadtion set as dummy input\n",
    "dummy_input = val_set[0][0].unsqueeze(0)\n",
    "print(dummy_input.shape)\n",
    "torch.onnx.export(convnet,\n",
    "    dummy_input,\n",
    "    \"convnet.onnx\",\n",
    "    verbose=True,\n",
    "    do_constant_folding=True,\n",
    "    input_names=[\"input\"],\n",
    "    output_names=[\"output\"])\n",
    "\n",
    "\n",
    "#  test the model\n",
    "onnx_model = onnx.load(\"convnet.onnx\")\n",
    "print(\"model exported\")\n",
    "onnx.checker.check_model(onnx_model)\n",
    "print(\"model checked\")\n",
    "#  print a human readable representation of the graph\n",
    "onnx.helper.printable_graph(onnx_model.graph)\n",
    "print(\"strating inference\")\n",
    "ort_session = onnxruntime.InferenceSession(\"convnet.onnx\")\n",
    "\n",
    "# compute ONNX Runtime output prediction\n",
    "def to_numpy(tensor):\n",
    "    return tensor.detach().cpu().numpy() if tensor.requires_grad else tensor.cpu().numpy()\n",
    "\n",
    "\n",
    "#  estimate accuracy on valid set of onnx model\n",
    "total_acc = 0\n",
    "class_acc = [0 for _ in range(10)]\n",
    "with torch.no_grad():\n",
    "    for x,y in tqdm(val_loader):\n",
    "        x,y = x.to(mydevice), y.to(mydevice)\n",
    "\n",
    "        # x = x.\n",
    "        # print(x.shape)\n",
    "        ort_inputs = {ort_session.get_inputs()[0].name: to_numpy( x)}\n",
    "        ort_outs = ort_session.run([\"output\"], ort_inputs)\n",
    "        y_ = torch.from_numpy(ort_outs[0]).to(mydevice)\n",
    "        loss = critereon(y_, y)\n",
    "        total_acc+= (y_.argmax(dim=1) == y).sum().item()\n",
    "        for i in range(10):\n",
    "            class_acc[i] += ((y_.argmax(dim=1) == y) & (y == i)).sum().item()\n",
    "total_acc /= len(val_set)\n",
    "class_acc = [x / len(val_set) for x in class_acc]\n",
    "print(f\"onnx model accuracy: {total_acc}\")\n",
    "print(f\"onnx model class accuracy: {class_acc}\")\n",
    "\n",
    "#  graph class accuracy in a bar chart\n",
    "plt.figure(figsize=(10, 5))\n",
    "plt.bar(range(10), class_acc)\n",
    "plt.xlabel(\"class\")\n",
    "plt.ylabel(\"accuracy\")\n",
    "plt.show()\n",
    "\n",
    "\n"
   ]
  },
  {
   "cell_type": "code",
   "execution_count": null,
   "metadata": {},
   "outputs": [],
   "source": [
    "#  model summary\n",
    "# summary(Q_sineModel, (1,))\n"
   ]
  },
  {
   "cell_type": "code",
   "execution_count": null,
   "metadata": {},
   "outputs": [],
   "source": [
    "# # export the model\n",
    "# import torch._C as _C\n",
    "# OperatorExportTypes = _C._onnx.OperatorExportTypes\n",
    "# # torch.onnx.export(torch.jit.script(Q_sineModel), x, \"Q_sineModel.onnx\", opset_version=11, input_names=[\"x\"], output_names=[\"y\"])\n",
    "\n",
    "# #  export model to onnx\n",
    "# torch.onnx.export(convnet,\\\n",
    "#      x,                         # dummy input\n",
    "#     \"sineModel.onnx\",           # save path\n",
    "#     opset_version=11,            # the ONNX version to export the model to\n",
    "#     # operator_export_type=OperatorExportTypes.ONNX_FALLTHROUGH,\n",
    "#     export_params=True,         # store the trained parameter weights inside the model file\n",
    "#     do_constant_folding=True,   # whether to execute constant folding for optimization #! am not sure what this does\n",
    "#     input_names=[\"x\"],          # the model's input names\n",
    "#     output_names=[\"y\"]          # the model's output names\n",
    "#     )\n",
    "\n"
   ]
  },
  {
   "cell_type": "markdown",
   "metadata": {},
   "source": [
    "# check onnx model\n"
   ]
  },
  {
   "cell_type": "code",
   "execution_count": null,
   "metadata": {},
   "outputs": [],
   "source": [
    "\n",
    "\n",
    "\n",
    "\n"
   ]
  },
  {
   "cell_type": "code",
   "execution_count": null,
   "metadata": {},
   "outputs": [],
   "source": [
    "# #  run the model using the onnxruntime  \n",
    "# ort_session = onnxruntime.InferenceSession(\"sineModel.onnx\")\n",
    "\n",
    "# def to_numpy(tensor):\n",
    "#     return tensor.detach().cpu().numpy() if tensor.requires_grad else tensor.cpu().numpy()\n",
    "\n",
    "# # compute ONNX Runtime output prediction\n",
    "# ort_inputs = {ort_session.get_inputs()[0].name: to_numpy(x)}  #  x is the input that was defined before\n",
    "# ort_outs = ort_session.run(None, ort_inputs)\n",
    "\n",
    "# # compare ONNX Runtime and PyTorch results\n",
    "# np.testing.assert_allclose(to_numpy(sineModel(x) ), ort_outs[0], rtol=1e-03, atol=1e-05)\n",
    "\n",
    "# print(\"Exported model has been tested with ONNXRuntime, and the result looks good!\")"
   ]
  },
  {
   "cell_type": "code",
   "execution_count": null,
   "metadata": {},
   "outputs": [],
   "source": [
    "# #  quantize the onnx model\n",
    "# from onnxruntime.quantization import quantize_dynamic, QuantType\n",
    "\n",
    "# quantized_model = quantize_dynamic('sineModel.onnx', 'Q_sineModel.onnx', weight_type=QuantType.QUInt8)\n",
    "\n",
    "# print(\"Exported model has been quantized with ONNXRuntime, and the result looks good!\")\n",
    "# #  print size of the model\n",
    "# print(f\"Q ONNX model size {os.path.getsize('Q_sineModel.onnx')}\")\n",
    "\n",
    "# #  load the quantized onnx model and test\n",
    "# onnx_model = onnx.load(\"Q_sineModel.onnx\")\n",
    "\n",
    "# #  check that the IR is well formed\n",
    "# print(\"check that the IR is well formed: \")\n",
    "# print(onnx.checker.check_model(onnx_model))\n",
    "# print()\n",
    "# #  print a human readable representation of the graph\n",
    "# print(onnx.helper.printable_graph(onnx_model.graph))\n",
    "\n",
    "# #  run the model using the onnxruntime\n",
    "# qort_session = onnxruntime.InferenceSession(\"Q_sineModel.onnx\")\n",
    "\n",
    "# def to_numpy(tensor):\n",
    "#     return tensor.detach().cpu().numpy() if tensor.requires_grad else tensor.cpu().numpy()\n",
    "\n",
    "# # compute ONNX Runtime output prediction\n",
    "# qort_inputs = {qort_session.get_inputs()[0].name: to_numpy(x)}  #  x is the input that was defined before\n",
    "# qort_outs = qort_session.run(None, qort_inputs)\n",
    "\n",
    "# # compare ONNX Runtime and PyTorch results\n",
    "\n",
    "# rtol_ = 1e-03\n",
    "# atol_ = 1e-05\n",
    "\n",
    "# # plot all the results\n",
    "# plt.subplot(5, 1, 1)\n",
    "# plt.plot(x.cpu().numpy(), y.cpu().numpy(), label=\"sin(x)\")\n",
    "# plt.legend()\n",
    "# plt.subplot(5, 1, 2)\n",
    "# plt.plot(x.cpu().numpy(), ort_outs[0], label=\"onnx\")\n",
    "# plt.legend()\n",
    "# plt.subplot(5, 1, 3)\n",
    "# plt.plot(x.cpu().numpy(), qort_outs[0], label=\"quantized onnx\")\n",
    "# plt.legend()\n",
    "# plt.subplot(5, 1, 4)\n",
    "# plt.plot(x.cpu().numpy(), to_numpy(sineModel(x)), label=\"pytorch\")\n",
    "# plt.legend()\n",
    "# plt.subplot(5, 1, 5)\n",
    "# plt.plot(x.cpu().numpy(), to_numpy(Q_sineModel(x)), label=\"quantized pytorch\")\n",
    "# plt.legend()\n",
    "\n",
    "\n",
    "# try:\n",
    "#     np.testing.assert_allclose(to_numpy(Q_sineModel(x) ), ort_outs[0], rtol=rtol_, atol=atol_)\n",
    "#     print(\"SUCCESS comparasion between original onnx and quantized pytorch model\")\n",
    "# except:\n",
    "#     print(\"FAILED comparasion between original onnx and quantized pytorch model\")\n",
    "# # print(\"Exported model has been tested with ONNXRuntime, and the result looks good!\")\n",
    "# try:\n",
    "#     np.testing.assert_allclose(to_numpy(sineModel(x) ), ort_outs[0], rtol=rtol_, atol=atol_)\n",
    "#     print(\"SUCCESS comparasion between original onnx and original pytorch model\")\n",
    "# except:\n",
    "#     print(\"FAILED comparasion between original onnx and original pytorch model\")\n",
    "# # print(\"Exported model has been tested with ONNXRuntime, and the result looks good!\")\n",
    "\n",
    "# #  compare with original onnx model\n",
    "# try:\n",
    "#     np.testing.assert_allclose(ort_outs[0], qort_outs[0], rtol=rtol_, atol=atol_)\n",
    "#     print(\"SUCCESS comparasion between original onnx and quantized onnx model\")\n",
    "# except:\n",
    "#     print(\"FAILED comparasion between original onnx and quantized onnx model\")\n",
    "\n",
    "# #  compare with original pytorch model\n",
    "# try:\n",
    "#     np.testing.assert_allclose(to_numpy(sineModel(x) ), qort_outs[0], rtol=rtol_, atol=atol_)\n",
    "#     print(\"SUCCESS comparasion between original pytorch and quantized onnx model\")\n",
    "# except:\n",
    "#     print(\"FAILED comparasion between original pytorch and quantized onnx model\")"
   ]
  },
  {
   "cell_type": "markdown",
   "metadata": {},
   "source": [
    "# export to tflite"
   ]
  },
  {
   "cell_type": "code",
   "execution_count": 7,
   "metadata": {},
   "outputs": [
    {
     "ename": "",
     "evalue": "",
     "output_type": "error",
     "traceback": [
      "\u001b[1;31mCanceled future for execute_request message before replies were done"
     ]
    },
    {
     "ename": "",
     "evalue": "",
     "output_type": "error",
     "traceback": [
      "\u001b[1;31mThe Kernel crashed while executing code in the the current cell or a previous cell. Please review the code in the cell(s) to identify a possible cause of the failure. Click <a href='https://aka.ms/vscodeJupyterKernelCrash'>here</a> for more info. View Jupyter <a href='command:jupyter.viewOutput'>log</a> for further details."
     ]
    }
   ],
   "source": [
    "#  convert the onnx model to tf freezed graph\n",
    "# import tensorflow as tf\n",
    "\n",
    "#  load the onnx model\n",
    "onnx_model = onnx.load(\"sineModel.onnx\")\n",
    "\n",
    "#  convert the onnx model to tf\n",
    "tf_rep = prepare(onnx_model)\n",
    "tf_rep.export_graph(\"sineModel.pb\")\n",
    "\n",
    "representative_dataset = tf.data.Dataset.from_tensor_slices(x.cpu().numpy()).batch(1)\n",
    "def representative_dataset_gen():\n",
    "    for input_value in representative_dataset.take(100):\n",
    "        # Model has only one input so each data point has one element.\n",
    "        yield [input_value]\n",
    "\n",
    "converter = tf.lite.TFLiteConverter.from_saved_model(\"sineModel.pb\")\n",
    "converter.target_spec.supported_ops = [\n",
    "  tf.lite.OpsSet.TFLITE_BUILTINS, # enable TensorFlow Lite ops.\n",
    "  tf.lite.OpsSet.TFLITE_BUILTINS_INT8, # enable TensorFlow Lite ops.\n",
    "#   tf.lite.OpsSet.SELECT_TF_OPS # enable TensorFlow ops.\n",
    "]\n",
    "converter.optimizations = [tf.lite.Optimize.DEFAULT]\n",
    "converter.representative_dataset = representative_dataset_gen\n",
    "\n",
    "tflite_model = converter.convert()\n",
    "\n",
    "#  save the model\n",
    "open(\"sineModel.tflite\", \"wb\").write(tflite_model)"
   ]
  },
  {
   "cell_type": "code",
   "execution_count": null,
   "metadata": {},
   "outputs": [],
   "source": [
    "#  load the model\n",
    "interpreter = tf.lite.Interpreter(model_path=\"Q_sineModel.tflite\")\n",
    "interpreter.allocate_tensors()\n",
    "\n",
    "#  get input and output tensors\n",
    "input_details = interpreter.get_input_details()\n",
    "output_details = interpreter.get_output_details()\n",
    "\n",
    "#  test the model\n",
    "input_data = x.cpu().detach().numpy()\n",
    "interpreter.set_tensor(input_details[0]['index'], input_data)\n",
    "interpreter.invoke()\n",
    "tflite_results = interpreter.get_tensor(output_details[0]['index'])\n",
    "\n",
    "#  compare the results\n",
    "try:\n",
    "    np.testing.assert_allclose(qort_outs[0], tflite_results, rtol=1e-03, atol=1e-05)\n",
    "except:\n",
    "    print(\"FAILED comparasion between quantized onnx and tflite model\")\n",
    "\n",
    "print(\"Exported model has been tested with tflite, and the result looks good!\")\n",
    "print(\"size of the tflite model is: \", os.path.getsize(\"Q_sineModel.tflite\"))"
   ]
  },
  {
   "cell_type": "code",
   "execution_count": null,
   "metadata": {},
   "outputs": [],
   "source": [
    "# compare all the sizes\n",
    "print(\"size of the original pytorch model is: \", os.path.getsize(\"sineModel.pt\"), \" bytes\")\n",
    "print(\"size of the quantized pytorch model is: \", os.path.getsize(\"Q_sineModel.pt\"), \" bytes\")\n",
    "print(\"size of the original onnx model is: \", os.path.getsize(\"sineModel.onnx\"), \" bytes\")\n",
    "print(\"size of the quantized onnx model is: \", os.path.getsize(\"Q_sineModel.onnx\"), \" bytes\")\n",
    "# print(\"size of the tf model is: \", os.path.getsize(\"sineModel.pb\"), \" bytes\") # there might be some problem with the tf model\n",
    "print(\"size of the tflite model is: \", os.path.getsize(\"sineModel.tflite\"), \" bytes\")\n"
   ]
  },
  {
   "cell_type": "code",
   "execution_count": null,
   "metadata": {},
   "outputs": [],
   "source": [
    "#  compare performance\n",
    "import time\n",
    "\n",
    "load = 10000\n",
    "\n",
    "print(\"for a load of \", load, \" samples\")\n",
    "\n",
    "#  pytorch\n",
    "start = time.time()\n",
    "for i in range(load):\n",
    "    to_numpy(sineModel(x))\n",
    "end = time.time()\n",
    "print(f\" pytorch time: {(end - start):.3f} seconds\")\n",
    "# print(\"pytorch time: \", end - start, \" seconds\")\n",
    "\n",
    "#  quantized pytorch\n",
    "start = time.time()\n",
    "for i in range(load):\n",
    "    to_numpy(Q_sineModel(x))\n",
    "end = time.time()\n",
    "print(f\" quantized pytorch time: {(end - start):.3f} seconds\")\n",
    "# print(\"quantized pytorch time: \", end - start, \" seconds\")\n",
    "\n",
    "# onnx\n",
    "start = time.time()\n",
    "for i in range(load):\n",
    "    ort_outs = ort_session.run(None, ort_inputs)\n",
    "end = time.time()\n",
    "print(f\" onnx time: {(end - start):.3f} seconds\")\n",
    "# print(\"onnx time: \", end - start, \" seconds\")\n",
    "\n",
    "#  quantized onnx\n",
    "start = time.time()\n",
    "for i in range(load):\n",
    "    ort_outs = qort_session.run(None, qort_inputs)\n",
    "end = time.time()\n",
    "print(f\" quantized onnx time: {(end - start):.3f} seconds\")\n",
    "# print(\"quantized onnx time: \", end - start, \" seconds\")\n",
    "\n",
    "#  tflite\n",
    "start = time.time()\n",
    "for i in range(load):\n",
    "    interpreter.set_tensor(input_details[0]['index'], input_data)\n",
    "    interpreter.invoke()\n",
    "    tflite_results = interpreter.get_tensor(output_details[0]['index'])\n",
    "end = time.time()\n",
    "print(f\" tflite time: {(end - start):.3f} seconds\")\n",
    "# print(\"tflite time: \", end - start, \" seconds\")\n",
    "\n"
   ]
  },
  {
   "cell_type": "code",
   "execution_count": null,
   "metadata": {},
   "outputs": [],
   "source": [
    "# compare plots\n",
    "plt.figure(figsize=(10, 10))\n",
    "plt.subplot(5, 1, 1)\n",
    "plt.plot(x.cpu().numpy(), ort_outs[0], label=\"onnx\")\n",
    "plt.legend()\n",
    "plt.subplot(5, 1, 2)\n",
    "plt.plot(x.cpu().numpy(), qort_outs[0], label=\"quantized onnx\")\n",
    "plt.legend()\n",
    "plt.subplot(5, 1, 3)\n",
    "plt.plot(x.cpu().numpy(), tflite_results, label=\"tflite\")\n",
    "plt.legend()\n",
    "plt.subplot(5, 1, 4)\n",
    "plt.plot(x.cpu().numpy(), to_numpy(sineModel(x)), label=\"pytorch\")\n",
    "plt.legend()\n",
    "plt.subplot(5, 1, 5)\n",
    "plt.plot(x.cpu().numpy(), to_numpy(Q_sineModel(x)), label=\"quantized pytorch\")\n",
    "plt.legend()\n",
    "plt.show()\n",
    "\n"
   ]
  },
  {
   "cell_type": "code",
   "execution_count": null,
   "metadata": {},
   "outputs": [],
   "source": [
    "! xxd -i sineModel.tflite > tfLite_esp32/src/sineModel.cpp\n",
    "! cat tfLite_esp32/src/sineModel.cpp"
   ]
  }
 ],
 "metadata": {
  "kernelspec": {
   "display_name": "Python 3.8.10 64-bit",
   "language": "python",
   "name": "python3"
  },
  "language_info": {
   "codemirror_mode": {
    "name": "ipython",
    "version": 3
   },
   "file_extension": ".py",
   "mimetype": "text/x-python",
   "name": "python",
   "nbconvert_exporter": "python",
   "pygments_lexer": "ipython3",
   "version": "3.8.10"
  },
  "orig_nbformat": 4,
  "vscode": {
   "interpreter": {
    "hash": "31f2aee4e71d21fbe5cf8b01ff0e069b9275f58929596ceb00d14d90e3e16cd6"
   }
  }
 },
 "nbformat": 4,
 "nbformat_minor": 2
}
