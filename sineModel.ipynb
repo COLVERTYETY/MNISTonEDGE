{
 "cells": [
  {
   "cell_type": "code",
   "execution_count": 15,
   "metadata": {},
   "outputs": [
    {
     "name": "stdout",
     "output_type": "stream",
     "text": [
      "cpu\n"
     ]
    }
   ],
   "source": [
    "import torch\n",
    "import torch.nn as nn\n",
    "import torchvision.transforms as T\n",
    "import torch.nn.functional as F\n",
    "import torchvision.datasets as datasets\n",
    "import numpy as np\n",
    "import matplotlib.pyplot as plt\n",
    "import tensorflow as tf\n",
    "from torchsummary import summary\n",
    "import onnx\n",
    "import onnxruntime\n",
    "import tensorflow_addons as tfa\n",
    "from onnx_tf.backend import prepare\n",
    "import sys\n",
    "import os\n",
    "from tqdm import tqdm\n",
    "\n",
    "mydevice = torch.device(\"cuda:0\" if torch.cuda.is_available() else \"cpu\")\n",
    "print(mydevice)"
   ]
  },
  {
   "cell_type": "markdown",
   "metadata": {},
   "source": [
    "# train a convnet model"
   ]
  },
  {
   "cell_type": "code",
   "execution_count": 9,
   "metadata": {},
   "outputs": [
    {
     "name": "stdout",
     "output_type": "stream",
     "text": [
      "----------------------------------------------------------------\n",
      "        Layer (type)               Output Shape         Param #\n",
      "================================================================\n",
      "            Conv2d-1            [-1, 1, 22, 22]              50\n",
      "              ReLU-2            [-1, 1, 22, 22]               0\n",
      "            Conv2d-3            [-1, 1, 22, 22]              10\n",
      "              ReLU-4            [-1, 1, 22, 22]               0\n",
      "            Conv2d-5            [-1, 1, 22, 22]              10\n",
      "              ReLU-6            [-1, 1, 22, 22]               0\n",
      "            Conv2d-7            [-1, 1, 22, 22]              10\n",
      "              ReLU-8            [-1, 1, 22, 22]               0\n",
      "            Conv2d-9            [-1, 1, 18, 18]              26\n",
      "             ReLU-10            [-1, 1, 18, 18]               0\n",
      "           Conv2d-11            [-1, 1, 18, 18]              10\n",
      "             ReLU-12            [-1, 1, 18, 18]               0\n",
      "           Conv2d-13            [-1, 1, 18, 18]              10\n",
      "             ReLU-14            [-1, 1, 18, 18]               0\n",
      "           Conv2d-15            [-1, 1, 18, 18]              10\n",
      "             ReLU-16            [-1, 1, 18, 18]               0\n",
      "           Conv2d-17            [-1, 1, 14, 14]              26\n",
      "             ReLU-18            [-1, 1, 14, 14]               0\n",
      "           Conv2d-19            [-1, 1, 14, 14]              10\n",
      "             ReLU-20            [-1, 1, 14, 14]               0\n",
      "           Conv2d-21            [-1, 1, 14, 14]              10\n",
      "             ReLU-22            [-1, 1, 14, 14]               0\n",
      "           Conv2d-23            [-1, 1, 14, 14]              10\n",
      "             ReLU-24            [-1, 1, 14, 14]               0\n",
      "           Conv2d-25            [-1, 1, 10, 10]              26\n",
      "             ReLU-26            [-1, 1, 10, 10]               0\n",
      "           Linear-27                   [-1, 10]           1,010\n",
      "================================================================\n",
      "Total params: 1,228\n",
      "Trainable params: 1,228\n",
      "Non-trainable params: 0\n",
      "----------------------------------------------------------------\n",
      "Input size (MB): 0.00\n",
      "Forward/backward pass size (MB): 0.06\n",
      "Params size (MB): 0.00\n",
      "Estimated Total Size (MB): 0.07\n",
      "----------------------------------------------------------------\n"
     ]
    }
   ],
   "source": [
    "# light model for mnist\n",
    "# convnet = nn.Sequential( nn.Conv2d(1,1,3), nn.ReLU(), nn.Conv2d(1,1,3), nn.ReLU(), nn.Flatten(), nn.Linear(24*24,10) ).to(mydevice)\n",
    "# convnet = nn.Sequential( nn.Conv2d(1,1,5), nn.ReLU(), nn.Conv2d(1,1,5), nn.ReLU(),nn.Conv2d(1,1,5), nn.ReLU(),nn.Conv2d(1,1,5), nn.ReLU(),nn.Conv2d(1,1,5), nn.ReLU(),\n",
    "#  nn.Flatten(), nn.Linear(8*8,64), nn.ReLU(),nn.Linear(64,10)).to(mydevice)\n",
    "class resnet(nn.Module):\n",
    "    def __init__(self):\n",
    "        super().__init__()\n",
    "        self.rel = nn.ReLU()\n",
    "        self.conv0 = nn.Conv2d(1,1,7) # 22*22\n",
    "        self.conv1 = nn.Conv2d(1,1,3, padding=1)\n",
    "        self.conv2 = nn.Conv2d(1,1,3, padding=1)\n",
    "        self.conv3 = nn.Conv2d(1,1,3, padding=1)\n",
    "        self.conv4 = nn.Conv2d(1,1,5)            # 18*18\n",
    "        self.conv5 = nn.Conv2d(1,1,3, padding=1)\n",
    "        self.conv6 = nn.Conv2d(1,1,3, padding=1)\n",
    "        self.conv7 = nn.Conv2d(1,1,3, padding=1)\n",
    "        self.conv8 = nn.Conv2d(1,1,5)           # 16*16\n",
    "        self.conv9 = nn.Conv2d(1,1,3, padding=1)\n",
    "        self.conv10 = nn.Conv2d(1,1,3, padding=1)\n",
    "        self.conv11 = nn.Conv2d(1,1,3, padding=1)\n",
    "        self.conv12 = nn.Conv2d(1,1,5)         # 12*12\n",
    "        self.fc1 = nn.Linear(100, 10)\n",
    "    \n",
    "    def forward(self, x):\n",
    "        x = self.rel(self.conv0(x))\n",
    "        x1 = self.rel(self.conv1(x))\n",
    "        x2 = self.rel(self.conv2(x1))\n",
    "        x3 = self.rel(self.conv3(x2))\n",
    "        x = x + x3\n",
    "        x = self.rel(self.conv4(x))\n",
    "        x1 = self.rel(self.conv5(x))\n",
    "        x2 = self.rel(self.conv6(x1))\n",
    "        x3 = self.rel(self.conv7(x2))\n",
    "        x = x + x3\n",
    "        x = self.rel(self.conv8(x))\n",
    "        x1 = self.rel(self.conv9(x))\n",
    "        x2 = self.rel(self.conv10(x1))\n",
    "        x3 = self.rel(self.conv11(x2))\n",
    "        x = x + x3\n",
    "        x = self.rel(self.conv12(x))\n",
    "        # x = x.view(-1, 12*12)\n",
    "        x = nn.Flatten()(x)\n",
    "        # print(x.shape)\n",
    "        x = self.fc1(x)\n",
    "        return x\n",
    "\n",
    "convnet = resnet().to(mydevice)\n",
    "# convnet = nn.Sequential( nn.Flatten(), nn.Linear(28*28, 256), nn.ReLU(), nn.Linear(256, 100), nn.ReLU(), nn.Linear(100,10) ).to(mydevice)\n",
    "\n",
    "#  print the operators\n",
    "summary(convnet, (1,28,28))\n",
    "# summary(mlp, (1,28,28))\n",
    "\n",
    "optim = torch.optim.AdamW(convnet.parameters(), lr=0.01)\n",
    "critereon = nn.CrossEntropyLoss().to(mydevice)\n",
    "scheduler = torch.optim.lr_scheduler.ReduceLROnPlateau(optim, patience=5, verbose=True)\n"
   ]
  },
  {
   "cell_type": "code",
   "execution_count": 10,
   "metadata": {},
   "outputs": [
    {
     "name": "stdout",
     "output_type": "stream",
     "text": [
      "train set size:  27000\n",
      "validation set size:  3000\n",
      "test set size:  5000\n",
      "train loader size:  422\n",
      "validation loader size:  47\n",
      "test loader size:  79\n",
      "train set class distribution:\n",
      "[2686, 3032, 2725, 2767, 2653, 2422, 2667, 2819, 2650, 2579]\n",
      "validation set class distribution:\n",
      "[312, 339, 270, 308, 306, 252, 294, 310, 273, 336]\n",
      "test set class distribution:\n",
      "[470, 576, 498, 509, 507, 469, 471, 505, 484, 511]\n"
     ]
    }
   ],
   "source": [
    "batchsize = 64\n",
    "\n",
    "# load MNIST data\n",
    "train_set = datasets.MNIST(root='./data', train=True, download=True, transform=T.ToTensor())\n",
    "test_set = datasets.MNIST(root='./data', train=False, download=True, transform=T.ToTensor())\n",
    "\n",
    "# split into train and validation\n",
    "total_data = 0.5\n",
    "val_length = int(len(train_set)*0.1)\n",
    "train_length = int(len(train_set)) - val_length\n",
    "train_set, val_set = torch.utils.data.random_split(train_set, [train_length, val_length])\n",
    "train_set, _ = torch.utils.data.random_split(train_set, [int(len(train_set)*total_data), len(train_set)-int(len(train_set)*total_data)])\n",
    "val_set, _ = torch.utils.data.random_split(val_set, [int(len(val_set)*total_data), len(val_set)-int(len(val_set)*total_data)])\n",
    "test_set, _ = torch.utils.data.random_split(test_set, [int(len(test_set)*total_data), len(test_set)-int(len(test_set)*total_data)])\n",
    "# train_set, val_set = torch.utils.data.random_split(train_set, [train_length, val_length])\n",
    "# test_set, _ = torch.utils.data.random_split(test_set, [test_length, len(test_set)-test_length])\n",
    "\n",
    "\n",
    "# create data loaders\n",
    "train_loader = torch.utils.data.DataLoader(train_set, batch_size=batchsize, shuffle=True)\n",
    "val_loader = torch.utils.data.DataLoader(val_set, batch_size=batchsize, shuffle=False)\n",
    "test_loader = torch.utils.data.DataLoader(test_set, batch_size=batchsize, shuffle=False)\n",
    "\n",
    "#  print all the info sizes\n",
    "print(\"train set size: \", len(train_set))\n",
    "print(\"validation set size: \", len(val_set))\n",
    "print(\"test set size: \", len(test_set))\n",
    "print(\"train loader size: \", len(train_loader))\n",
    "print(\"validation loader size: \", len(val_loader))\n",
    "print(\"test loader size: \", len(test_loader))\n",
    "\n",
    "#  print distribution of classes\n",
    "def print_class_distribution(loader):\n",
    "    class_count = [0 for i in range(10)]\n",
    "    for batch in loader:\n",
    "        for label in batch[1]:\n",
    "            class_count[label] += 1\n",
    "    print(class_count)\n",
    "\n",
    "print(\"train set class distribution:\")\n",
    "print_class_distribution(train_loader)\n",
    "print(\"validation set class distribution:\")\n",
    "print_class_distribution(val_loader)\n",
    "print(\"test set class distribution:\")\n",
    "print_class_distribution(test_loader)\n"
   ]
  },
  {
   "cell_type": "code",
   "execution_count": 11,
   "metadata": {},
   "outputs": [
    {
     "name": "stderr",
     "output_type": "stream",
     "text": [
      "  0%|          | 0/20 [00:00<?, ?it/s]"
     ]
    },
    {
     "name": "stdout",
     "output_type": "stream",
     "text": [
      "epoch 0 train acc 0.111: 100%|██████████| 422/422 [00:11<00:00, 37.59it/s]\n",
      "epoch 0 test acc 0.115: 100%|██████████| 79/79 [00:00<00:00, 111.32it/s]"
     ]
    },
    {
     "name": "stderr",
     "output_type": "stream",
     "text": [
      "  5%|▌         | 1/20 [00:11<03:46, 11.94s/it]"
     ]
    },
    {
     "name": "stdout",
     "output_type": "stream",
     "text": [
      "\n",
      "epoch 1 train acc 0.111: 100%|██████████| 422/422 [00:09<00:00, 42.22it/s]\n",
      "epoch 1 test acc 0.101: 100%|██████████| 79/79 [00:00<00:00, 118.06it/s]"
     ]
    },
    {
     "name": "stderr",
     "output_type": "stream",
     "text": [
      " 10%|█         | 2/20 [00:22<03:21, 11.20s/it]"
     ]
    },
    {
     "name": "stdout",
     "output_type": "stream",
     "text": [
      "\n",
      "epoch 2 train acc 0.110: 100%|██████████| 422/422 [00:13<00:00, 31.20it/s]\n",
      "epoch 2 test acc 0.115: 100%|██████████| 79/79 [00:01<00:00, 75.23it/s]"
     ]
    },
    {
     "name": "stderr",
     "output_type": "stream",
     "text": [
      " 15%|█▌        | 3/20 [00:37<03:36, 12.74s/it]"
     ]
    },
    {
     "name": "stdout",
     "output_type": "stream",
     "text": [
      "\n",
      "epoch 3 train acc 0.111: 100%|██████████| 422/422 [00:13<00:00, 31.27it/s]\n",
      "epoch 3 test acc 0.115: 100%|██████████| 79/79 [00:01<00:00, 75.70it/s]"
     ]
    },
    {
     "name": "stderr",
     "output_type": "stream",
     "text": [
      " 20%|██        | 4/20 [00:51<03:35, 13.46s/it]"
     ]
    },
    {
     "name": "stdout",
     "output_type": "stream",
     "text": [
      "\n",
      "epoch 4 train acc 0.111: 100%|██████████| 422/422 [00:12<00:00, 33.98it/s]\n",
      "epoch 4 test acc 0.115: 100%|██████████| 79/79 [00:00<00:00, 121.20it/s]"
     ]
    },
    {
     "name": "stderr",
     "output_type": "stream",
     "text": [
      " 25%|██▌       | 5/20 [01:04<03:19, 13.32s/it]"
     ]
    },
    {
     "name": "stdout",
     "output_type": "stream",
     "text": [
      "\n",
      "epoch 5 train acc 0.109: 100%|██████████| 422/422 [00:09<00:00, 44.55it/s]\n",
      "epoch 5 test acc 0.101: 100%|██████████| 79/79 [00:00<00:00, 100.50it/s]"
     ]
    },
    {
     "name": "stderr",
     "output_type": "stream",
     "text": [
      " 30%|███       | 6/20 [01:15<02:51, 12.28s/it]"
     ]
    },
    {
     "name": "stdout",
     "output_type": "stream",
     "text": [
      "\n",
      "epoch 6 train acc 0.110: 100%|██████████| 422/422 [00:09<00:00, 43.57it/s]\n",
      "epoch 6 test acc 0.102: 100%|██████████| 79/79 [00:00<00:00, 110.43it/s]"
     ]
    },
    {
     "name": "stderr",
     "output_type": "stream",
     "text": [
      " 35%|███▌      | 7/20 [01:25<02:31, 11.67s/it]"
     ]
    },
    {
     "name": "stdout",
     "output_type": "stream",
     "text": [
      "\n",
      "epoch 7 train acc 0.109: 100%|██████████| 422/422 [00:09<00:00, 44.06it/s]\n",
      "epoch 7 test acc 0.115: 100%|██████████| 79/79 [00:00<00:00, 109.23it/s]"
     ]
    },
    {
     "name": "stderr",
     "output_type": "stream",
     "text": [
      " 40%|████      | 8/20 [01:35<02:14, 11.24s/it]"
     ]
    },
    {
     "name": "stdout",
     "output_type": "stream",
     "text": [
      "\n",
      "epoch 8 train acc 0.109: 100%|██████████| 422/422 [00:11<00:00, 36.76it/s]\n",
      "epoch 8 test acc 0.115: 100%|██████████| 79/79 [00:00<00:00, 90.99it/s]"
     ]
    },
    {
     "name": "stderr",
     "output_type": "stream",
     "text": [
      " 45%|████▌     | 9/20 [01:48<02:07, 11.59s/it]"
     ]
    },
    {
     "name": "stdout",
     "output_type": "stream",
     "text": [
      "\n",
      "epoch 9 train acc 0.112: 100%|██████████| 422/422 [00:10<00:00, 39.73it/s]\n",
      "epoch 9 test acc 0.101: 100%|██████████| 79/79 [00:00<00:00, 117.24it/s]"
     ]
    },
    {
     "name": "stderr",
     "output_type": "stream",
     "text": [
      " 50%|█████     | 10/20 [01:59<01:54, 11.50s/it]"
     ]
    },
    {
     "name": "stdout",
     "output_type": "stream",
     "text": [
      "\n",
      "Epoch 00010: reducing learning rate of group 0 to 1.0000e-03.\n",
      "epoch 10 train acc 0.111: 100%|██████████| 422/422 [00:09<00:00, 46.85it/s]\n",
      "epoch 10 test acc 0.115: 100%|██████████| 79/79 [00:00<00:00, 114.64it/s]"
     ]
    },
    {
     "name": "stderr",
     "output_type": "stream",
     "text": [
      " 55%|█████▌    | 11/20 [02:09<01:38, 10.95s/it]"
     ]
    },
    {
     "name": "stdout",
     "output_type": "stream",
     "text": [
      "\n",
      "epoch 11 train acc 0.112: 100%|██████████| 422/422 [00:10<00:00, 41.49it/s]\n",
      "epoch 11 test acc 0.115: 100%|██████████| 79/79 [00:00<00:00, 113.42it/s]"
     ]
    },
    {
     "name": "stderr",
     "output_type": "stream",
     "text": [
      " 60%|██████    | 12/20 [02:20<01:27, 10.93s/it]"
     ]
    },
    {
     "name": "stdout",
     "output_type": "stream",
     "text": [
      "\n",
      "epoch 12 train acc 0.112: 100%|██████████| 422/422 [00:09<00:00, 42.36it/s]\n",
      "epoch 12 test acc 0.115: 100%|██████████| 79/79 [00:00<00:00, 117.73it/s]"
     ]
    },
    {
     "name": "stderr",
     "output_type": "stream",
     "text": [
      " 65%|██████▌   | 13/20 [02:30<01:15, 10.84s/it]"
     ]
    },
    {
     "name": "stdout",
     "output_type": "stream",
     "text": [
      "\n",
      "epoch 13 train acc 0.112: 100%|██████████| 422/422 [00:10<00:00, 41.65it/s]\n",
      "epoch 13 test acc 0.115: 100%|██████████| 79/79 [00:00<00:00, 116.55it/s]"
     ]
    },
    {
     "name": "stderr",
     "output_type": "stream",
     "text": [
      " 70%|███████   | 14/20 [02:41<01:05, 10.83s/it]"
     ]
    },
    {
     "name": "stdout",
     "output_type": "stream",
     "text": [
      "\n",
      "epoch 14 train acc 0.112: 100%|██████████| 422/422 [00:09<00:00, 44.22it/s]\n",
      "epoch 14 test acc 0.115: 100%|██████████| 79/79 [00:00<00:00, 111.00it/s]"
     ]
    },
    {
     "name": "stderr",
     "output_type": "stream",
     "text": [
      " 75%|███████▌  | 15/20 [02:51<00:53, 10.66s/it]"
     ]
    },
    {
     "name": "stdout",
     "output_type": "stream",
     "text": [
      "\n",
      "epoch 15 train acc 0.112: 100%|██████████| 422/422 [00:10<00:00, 40.95it/s]\n",
      "epoch 15 test acc 0.115: 100%|██████████| 79/79 [00:00<00:00, 114.42it/s]"
     ]
    },
    {
     "name": "stderr",
     "output_type": "stream",
     "text": [
      " 80%|████████  | 16/20 [03:02<00:43, 10.76s/it]"
     ]
    },
    {
     "name": "stdout",
     "output_type": "stream",
     "text": [
      "\n",
      "Epoch 00016: reducing learning rate of group 0 to 1.0000e-04.\n",
      "epoch 16 train acc 0.112: 100%|██████████| 422/422 [00:09<00:00, 43.71it/s]\n",
      "epoch 16 test acc 0.115: 100%|██████████| 79/79 [00:00<00:00, 134.59it/s]"
     ]
    },
    {
     "name": "stderr",
     "output_type": "stream",
     "text": [
      " 85%|████████▌ | 17/20 [03:13<00:31, 10.61s/it]"
     ]
    },
    {
     "name": "stdout",
     "output_type": "stream",
     "text": [
      "\n",
      "epoch 17 train acc 0.112: 100%|██████████| 422/422 [00:09<00:00, 42.63it/s]\n",
      "epoch 17 test acc 0.115: 100%|██████████| 79/79 [00:00<00:00, 105.80it/s]"
     ]
    },
    {
     "name": "stderr",
     "output_type": "stream",
     "text": [
      " 90%|█████████ | 18/20 [03:23<00:21, 10.62s/it]"
     ]
    },
    {
     "name": "stdout",
     "output_type": "stream",
     "text": [
      "\n",
      "epoch 18 train acc 0.112: 100%|██████████| 422/422 [00:09<00:00, 43.43it/s]\n",
      "epoch 18 test acc 0.115: 100%|██████████| 79/79 [00:00<00:00, 119.53it/s]"
     ]
    },
    {
     "name": "stderr",
     "output_type": "stream",
     "text": [
      " 95%|█████████▌| 19/20 [03:34<00:10, 10.55s/it]"
     ]
    },
    {
     "name": "stdout",
     "output_type": "stream",
     "text": [
      "\n",
      "epoch 19 train acc 0.112: 100%|██████████| 422/422 [00:09<00:00, 45.06it/s]\n",
      "epoch 19 test acc 0.115: 100%|██████████| 79/79 [00:00<00:00, 112.93it/s]"
     ]
    },
    {
     "name": "stderr",
     "output_type": "stream",
     "text": [
      "100%|██████████| 20/20 [03:44<00:00, 11.21s/it]"
     ]
    },
    {
     "name": "stdout",
     "output_type": "stream",
     "text": [
      "\n"
     ]
    },
    {
     "name": "stderr",
     "output_type": "stream",
     "text": [
      "\n"
     ]
    }
   ],
   "source": [
    "\n",
    "best_loss = np.inf\n",
    "\n",
    "train_losses = []\n",
    "tain_accs = []\n",
    "test_losses = []\n",
    "test_accs = []\n",
    "\n",
    "weights = []\n",
    "biases = []\n",
    "grads = []\n",
    "\n",
    "\n",
    "# train\n",
    "for epoch in tqdm(range(20)):\n",
    "    convnet.train()\n",
    "    total_loss = 0\n",
    "    total_acc = 0\n",
    "    with tqdm(total=len(train_loader), file=sys.stdout) as pbar:\n",
    "        for x, y in train_loader:\n",
    "            pbar.update(1)\n",
    "            x = x.to(mydevice)\n",
    "            y = y.to(mydevice)\n",
    "            optim.zero_grad(set_to_none = True)\n",
    "            y_ = convnet(x)\n",
    "            loss = critereon(y_, y)\n",
    "            total_acc += (y_.argmax(dim=1) == y).sum().item()\n",
    "            loss.backward()\n",
    "            optim.step()\n",
    "            total_loss += loss.item()\n",
    "        train_losses.append(total_loss / len(train_loader))\n",
    "        tain_accs.append(total_acc / len(train_set))\n",
    "        # print(f\"epoch {epoch} train loss {total_loss / len(train_loader)}\")\n",
    "        pbar.set_description(f\"epoch {epoch} train acc {total_acc / len(train_set):.3f}\")\n",
    "        pbar.refresh()\n",
    "    # if epoch % 2 == 0:\n",
    "    #     weights.append(convnet[0].weight.detach().cpu().numpy())\n",
    "    #     biases.append(convnet[0].bias.detach().cpu().numpy())\n",
    "    #     grads.append(convnet[0].weight.grad.detach().cpu().numpy())\n",
    "    \n",
    "    # test\n",
    "    convnet.eval()\n",
    "    with torch.no_grad():\n",
    "        total_loss = 0\n",
    "        total_acc = 0\n",
    "        with tqdm(total=len(test_loader), file=sys.stdout) as pbar:\n",
    "            for x, y in test_loader:\n",
    "                pbar.update(1)\n",
    "                x = x.to(mydevice)\n",
    "                y = y.to(mydevice)\n",
    "                y_ = convnet(x)\n",
    "                loss = critereon(y_, y)\n",
    "                total_acc += (y_.argmax(dim=1) == y).sum().item()\n",
    "                total_loss += loss.item()\n",
    "            test_losses.append(total_loss / len(test_loader))\n",
    "            test_accs.append(total_acc / len(test_set))\n",
    "            # print(f\"epoch {epoch} test loss {total_loss / len(test_loader)}\")\n",
    "            pbar.set_description(f\"epoch {epoch} test acc {total_acc / len(test_set):.3f}\")\n",
    "            pbar.refresh()\n",
    "            if total_loss < best_loss:\n",
    "                best_loss = total_loss\n",
    "                torch.save(convnet.state_dict(), \"convnet.pt\")\n",
    "                # print(\"saved model\")\n",
    "        scheduler.step(total_loss / len(test_loader))\n",
    "\n"
   ]
  },
  {
   "cell_type": "code",
   "execution_count": 12,
   "metadata": {},
   "outputs": [
    {
     "data": {
      "image/png": "[encoded data removed]",
      "text/plain": [
       "<Figure size 720x360 with 3 Axes>"
      ]
     },
     "metadata": {
      "needs_background": "light"
     },
     "output_type": "display_data"
    }
   ],
   "source": [
    "# plot\n",
    "#  set size\n",
    "plt.figure(figsize=(10, 5))\n",
    "#  losses\n",
    "plt.subplot(3, 1, 1)\n",
    "plt.plot(train_losses, label=\"train\")\n",
    "plt.plot(test_losses, label=\"test\")\n",
    "plt.xlabel(\"epoch\")\n",
    "plt.ylabel(\"loss\")\n",
    "plt.legend()\n",
    "\n",
    "#  log losses\n",
    "plt.subplot(3, 1, 2)\n",
    "plt.plot(train_losses, label=\"train\")\n",
    "plt.plot(test_losses, label=\"test\")\n",
    "plt.yscale(\"log\")\n",
    "plt.ylabel(\"log loss\")\n",
    "plt.xlabel(\"epoch\")\n",
    "plt.legend()\n",
    "\n",
    "#  derivative of loss\n",
    "plt.subplot(3, 1, 3)\n",
    "plt.plot(np.gradient(train_losses), label=\"train\")\n",
    "plt.plot(np.gradient(test_losses), label=\"test\")\n",
    "plt.ylabel(\"derivative of loss\")\n",
    "plt.xlabel(\"epoch\")\n",
    "plt.legend()\n",
    "\n",
    "plt.show()"
   ]
  },
  {
   "cell_type": "code",
   "execution_count": 13,
   "metadata": {},
   "outputs": [
    {
     "data": {
      "image/png": "[encoded data removed]",
      "text/plain": [
       "<Figure size 720x360 with 2 Axes>"
      ]
     },
     "metadata": {
      "needs_background": "light"
     },
     "output_type": "display_data"
    }
   ],
   "source": [
    "#  plot accuracy\n",
    "plt.figure(figsize=(10, 5))\n",
    "\n",
    "plt.subplot(2, 1, 1)\n",
    "plt.plot(tain_accs, label=\"train\")\n",
    "plt.plot(test_accs, label=\"test\")\n",
    "plt.ylabel(\"accuracy\")\n",
    "plt.xlabel(\"epoch\")\n",
    "plt.legend()\n",
    "\n",
    "plt.subplot(2, 1, 2)\n",
    "plt.plot(tain_accs, label=\"train\")\n",
    "plt.plot(test_accs, label=\"test\")\n",
    "plt.yscale(\"log\")\n",
    "plt.ylabel(\"log accuracy\")\n",
    "plt.xlabel(\"epoch\")\n",
    "plt.legend()\n",
    "plt.show()\n"
   ]
  },
  {
   "cell_type": "markdown",
   "metadata": {},
   "source": [
    "# evaluate the raw model"
   ]
  },
  {
   "cell_type": "code",
   "execution_count": 14,
   "metadata": {},
   "outputs": [
    {
     "name": "stderr",
     "output_type": "stream",
     "text": [
      "100%|██████████| 47/47 [00:00<00:00, 107.69it/s]\n"
     ]
    },
    {
     "name": "stdout",
     "output_type": "stream",
     "text": [
      "raw model accuracy: 0.113\n",
      "raw model class accuracy: [0.0, 0.113, 0.0, 0.0, 0.0, 0.0, 0.0, 0.0, 0.0, 0.0]\n"
     ]
    },
    {
     "data": {
      "image/png": "[encoded data removed]",
      "text/plain": [
       "<Figure size 720x360 with 1 Axes>"
      ]
     },
     "metadata": {
      "needs_background": "light"
     },
     "output_type": "display_data"
    }
   ],
   "source": [
    "# evaluatre the model\n",
    "convnet.load_state_dict(torch.load(\"convnet.pt\"))\n",
    "convnet.eval()\n",
    "\n",
    "#  estimate accuracy on valid set of raw model\n",
    "total_acc = 0\n",
    "class_acc = [0 for _ in range(10)]\n",
    "with torch.no_grad():\n",
    "    for x,y in tqdm(val_loader):\n",
    "        x,y = x.to(mydevice), y.to(mydevice)\n",
    "\n",
    "        y_ = convnet(x)\n",
    "        loss = critereon(y_, y)\n",
    "        total_acc+= (y_.argmax(dim=1) == y).sum().item()\n",
    "        for i in range(10):\n",
    "            class_acc[i] += ((y_.argmax(dim=1) == y) & (y == i)).sum().item()\n",
    "total_acc /= len(val_set)\n",
    "class_acc = [x / len(val_set) for x in class_acc]\n",
    "print(f\"raw model accuracy: {total_acc}\")\n",
    "print(f\"raw model class accuracy: {class_acc}\")\n",
    "\n",
    "\n",
    "#  graph class accuracy in a bar chart\n",
    "plt.figure(figsize=(10, 5))\n",
    "plt.bar(range(10), class_acc)\n",
    "plt.xlabel(\"class\")\n",
    "plt.ylabel(\"accuracy\")\n",
    "plt.show()\n"
   ]
  },
  {
   "cell_type": "markdown",
   "metadata": {},
   "source": [
    "# quantization"
   ]
  },
  {
   "cell_type": "code",
   "execution_count": 7,
   "metadata": {},
   "outputs": [],
   "source": [
    "#  now we quantize the model\n",
    "sineModel.load_state_dict(torch.load(\"sineModel.pt\"))\n",
    "\n",
    "#  generate random data to calibrate the model\n",
    "x = torch.rand(10000, 1) * 20 - 10\n",
    "y = torch.sin(x)\n",
    "x = x.to(mydevice)\n",
    "y = y.to(mydevice)\n",
    "\n",
    "quantized_model = torch.quantization.quantize_dynamic(sineModel, {nn.Linear}, dtype=torch.qint8)\n"
   ]
  },
  {
   "cell_type": "code",
   "execution_count": 8,
   "metadata": {},
   "outputs": [],
   "source": [
    "def get_size_of_model(model):\n",
    "    torch.save(model.state_dict(), \"temp.p\")\n",
    "    size = os.path.getsize(\"temp.p\")\n",
    "    os.remove('temp.p')\n",
    "    return size"
   ]
  },
  {
   "cell_type": "code",
   "execution_count": 9,
   "metadata": {},
   "outputs": [
    {
     "data": {
      "image/png": "[encoded data removed]",
      "text/plain": [
       "<Figure size 432x288 with 1 Axes>"
      ]
     },
     "metadata": {
      "needs_background": "light"
     },
     "output_type": "display_data"
    },
    {
     "name": "stdout",
     "output_type": "stream",
     "text": [
      "error 0.03798678144812584\n",
      "error reduction 0.09959664195775986\n",
      "abs error reduction 0.0342034250497818\n",
      "model size 12863\n",
      "quantized model size 6935\n",
      "Sequential(\n",
      "  (0): DynamicQuantizedLinear(in_features=1, out_features=50, dtype=torch.qint8, qscheme=torch.per_tensor_affine)\n",
      "  (1): Sigmoid()\n",
      "  (2): DynamicQuantizedLinear(in_features=50, out_features=50, dtype=torch.qint8, qscheme=torch.per_tensor_affine)\n",
      "  (3): Sigmoid()\n",
      "  (4): DynamicQuantizedLinear(in_features=50, out_features=1, dtype=torch.qint8, qscheme=torch.per_tensor_affine)\n",
      ")\n"
     ]
    }
   ],
   "source": [
    "#  evaluate on a grid\n",
    "x = torch.linspace(-10, 10, 1000).unsqueeze(1).to(mydevice) \n",
    "y = torch.sin(x).to(mydevice)\n",
    "y_ = quantized_model(x).to(mydevice)\n",
    "\n",
    "#  plot the results\n",
    "plt.plot(x.cpu().numpy(), y.cpu().numpy(), label=\"sin(x)\")\n",
    "plt.plot(x.cpu().numpy(), y_.cpu().detach().numpy(), label=\"model\")\n",
    "plt.legend()\n",
    "plt.show()\n",
    "\n",
    "Qerror = 0\n",
    "\n",
    "#  calculate the error\n",
    "with torch.no_grad():\n",
    "    Qerror = torch.mean(torch.abs(y - y_))\n",
    "    print(f\"error {Qerror}\")\n",
    "\n",
    "print(f\"error reduction {rawerror / Qerror}\")\n",
    "print(f\"abs error reduction {abs(rawerror - Qerror)}\")\n",
    "print(f\"model size {get_size_of_model(sineModel)}\")\n",
    "print(f\"quantized model size {get_size_of_model(quantized_model)}\")\n",
    "\n",
    "\n",
    "print(quantized_model)\n",
    "# summary(quantized_model, (1,))\n"
   ]
  },
  {
   "cell_type": "code",
   "execution_count": 10,
   "metadata": {},
   "outputs": [],
   "source": [
    "#  save the model\n",
    "torch.jit.save(torch.jit.script(quantized_model), \"Q_sineModel.pt\")"
   ]
  },
  {
   "cell_type": "markdown",
   "metadata": {},
   "source": [
    "# export to onnx"
   ]
  },
  {
   "cell_type": "code",
   "execution_count": 11,
   "metadata": {},
   "outputs": [
    {
     "data": {
      "image/png": "[encoded data removed]",
      "text/plain": [
       "<Figure size 432x288 with 1 Axes>"
      ]
     },
     "metadata": {
      "needs_background": "light"
     },
     "output_type": "display_data"
    }
   ],
   "source": [
    "# load the Quantized model\n",
    "Q_sineModel = torch.jit.load(\"Q_sineModel.pt\")\n",
    "\n",
    "# plot model\n",
    "x = torch.linspace(-10, 10, 3000).unsqueeze(1).to(mydevice) #! this x is super important because it is used for the rest of the code\n",
    "y = Q_sineModel(x)\n",
    "plt.plot(x.cpu().detach().numpy(), y.cpu().detach().numpy())\n",
    "plt.show()"
   ]
  },
  {
   "cell_type": "code",
   "execution_count": 12,
   "metadata": {},
   "outputs": [
    {
     "name": "stdout",
     "output_type": "stream",
     "text": [
      "RecursiveScriptModule(\n",
      "  original_name=Sequential\n",
      "  (0): RecursiveScriptModule(\n",
      "    original_name=Linear\n",
      "    (_packed_params): RecursiveScriptModule(original_name=LinearPackedParams)\n",
      "  )\n",
      "  (1): RecursiveScriptModule(original_name=Sigmoid)\n",
      "  (2): RecursiveScriptModule(\n",
      "    original_name=Linear\n",
      "    (_packed_params): RecursiveScriptModule(original_name=LinearPackedParams)\n",
      "  )\n",
      "  (3): RecursiveScriptModule(original_name=Sigmoid)\n",
      "  (4): RecursiveScriptModule(\n",
      "    original_name=Linear\n",
      "    (_packed_params): RecursiveScriptModule(original_name=LinearPackedParams)\n",
      "  )\n",
      ")\n"
     ]
    }
   ],
   "source": [
    "#  model summary\n",
    "print(Q_sineModel)\n",
    "# summary(Q_sineModel, (1,))\n"
   ]
  },
  {
   "cell_type": "code",
   "execution_count": 13,
   "metadata": {},
   "outputs": [],
   "source": [
    "# export the model\n",
    "import torch._C as _C\n",
    "OperatorExportTypes = _C._onnx.OperatorExportTypes\n",
    "# torch.onnx.export(torch.jit.script(Q_sineModel), x, \"Q_sineModel.onnx\", opset_version=11, input_names=[\"x\"], output_names=[\"y\"])\n",
    "\n",
    "#  export model to onnx\n",
    "torch.onnx.export(sineModel,\\\n",
    "     x,                         # dummy input\n",
    "    \"sineModel.onnx\",           # save path\n",
    "    opset_version=11,            # the ONNX version to export the model to\n",
    "    # operator_export_type=OperatorExportTypes.ONNX_FALLTHROUGH,\n",
    "    export_params=True,         # store the trained parameter weights inside the model file\n",
    "    do_constant_folding=True,   # whether to execute constant folding for optimization #! am not sure what this does\n",
    "    input_names=[\"x\"],          # the model's input names\n",
    "    output_names=[\"y\"]          # the model's output names\n",
    "    )\n",
    "\n"
   ]
  },
  {
   "cell_type": "markdown",
   "metadata": {},
   "source": [
    "# check onnx model\n"
   ]
  },
  {
   "cell_type": "code",
   "execution_count": 14,
   "metadata": {},
   "outputs": [
    {
     "name": "stdout",
     "output_type": "stream",
     "text": [
      "check that the IR is well formed: \n",
      "None\n",
      "\n",
      "graph torch_jit (\n",
      "  %x[FLOAT, 3000x1]\n",
      ") initializers (\n",
      "  %0.weight[FLOAT, 50x1]\n",
      "  %0.bias[FLOAT, 50]\n",
      "  %2.weight[FLOAT, 50x50]\n",
      "  %2.bias[FLOAT, 50]\n",
      "  %4.weight[FLOAT, 1x50]\n",
      "  %4.bias[FLOAT, 1]\n",
      ") {\n",
      "  %/0/Gemm_output_0 = Gemm[alpha = 1, beta = 1, transB = 1](%x, %0.weight, %0.bias)\n",
      "  %/1/Sigmoid_output_0 = Sigmoid(%/0/Gemm_output_0)\n",
      "  %/2/Gemm_output_0 = Gemm[alpha = 1, beta = 1, transB = 1](%/1/Sigmoid_output_0, %2.weight, %2.bias)\n",
      "  %/3/Sigmoid_output_0 = Sigmoid(%/2/Gemm_output_0)\n",
      "  %y = Gemm[alpha = 1, beta = 1, transB = 1](%/3/Sigmoid_output_0, %4.weight, %4.bias)\n",
      "  return %y\n",
      "}\n"
     ]
    }
   ],
   "source": [
    "#  load the onnx model and test\n",
    "onnx_model = onnx.load(\"sineModel.onnx\")\n",
    "\n",
    "#  check that the IR is well formed\n",
    "print(\"check that the IR is well formed: \")\n",
    "print(onnx.checker.check_model(onnx_model))\n",
    "print()\n",
    "#  print a human readable representation of the graph\n",
    "print(onnx.helper.printable_graph(onnx_model.graph))\n",
    "\n",
    "\n",
    "\n"
   ]
  },
  {
   "cell_type": "code",
   "execution_count": 15,
   "metadata": {},
   "outputs": [
    {
     "name": "stdout",
     "output_type": "stream",
     "text": [
      "Exported model has been tested with ONNXRuntime, and the result looks good!\n"
     ]
    }
   ],
   "source": [
    "#  run the model using the onnxruntime  \n",
    "ort_session = onnxruntime.InferenceSession(\"sineModel.onnx\")\n",
    "\n",
    "def to_numpy(tensor):\n",
    "    return tensor.detach().cpu().numpy() if tensor.requires_grad else tensor.cpu().numpy()\n",
    "\n",
    "# compute ONNX Runtime output prediction\n",
    "ort_inputs = {ort_session.get_inputs()[0].name: to_numpy(x)}  #  x is the input that was defined before\n",
    "ort_outs = ort_session.run(None, ort_inputs)\n",
    "\n",
    "# compare ONNX Runtime and PyTorch results\n",
    "np.testing.assert_allclose(to_numpy(sineModel(x) ), ort_outs[0], rtol=1e-03, atol=1e-05)\n",
    "\n",
    "print(\"Exported model has been tested with ONNXRuntime, and the result looks good!\")"
   ]
  },
  {
   "cell_type": "code",
   "execution_count": 16,
   "metadata": {},
   "outputs": [
    {
     "name": "stdout",
     "output_type": "stream",
     "text": [
      "Exported model has been quantized with ONNXRuntime, and the result looks good!\n",
      "Q ONNX model size 6252\n",
      "check that the IR is well formed: \n",
      "None\n",
      "\n",
      "graph torch_jit (\n",
      "  %x[FLOAT, 3000x1]\n",
      ") initializers (\n",
      "  %0.bias[FLOAT, 50]\n",
      "  %2.bias[FLOAT, 50]\n",
      "  %4.bias[FLOAT, 1]\n",
      "  %0.weight_scale[FLOAT, scalar]\n",
      "  %0.weight_zero_point[UINT8, scalar]\n",
      "  %0.weight_quantized[UINT8, 1x50]\n",
      "  %2.weight_scale[FLOAT, scalar]\n",
      "  %2.weight_zero_point[UINT8, scalar]\n",
      "  %2.weight_quantized[UINT8, 50x50]\n",
      "  %4.weight_scale[FLOAT, scalar]\n",
      "  %4.weight_zero_point[UINT8, scalar]\n",
      "  %4.weight_quantized[UINT8, 50x1]\n",
      ") {\n",
      "  %x_quantized, %x_scale, %x_zero_point = DynamicQuantizeLinear(%x)\n",
      "  %/0/Gemm_MatMul_quant_scales_mul:0 = Mul(%x_scale, %0.weight_scale)\n",
      "  %/0/Gemm_output_0_MatMul_output_quantized = MatMulInteger(%x_quantized, %0.weight_quantized, %x_zero_point, %0.weight_zero_point)\n",
      "  %/0/Gemm_output_0_MatMul_output_quantized_cast_output = Cast[to = 1](%/0/Gemm_output_0_MatMul_output_quantized)\n",
      "  %/0/Gemm_output_0_MatMul = Mul(%/0/Gemm_output_0_MatMul_output_quantized_cast_output, %/0/Gemm_MatMul_quant_scales_mul:0)\n",
      "  %/0/Gemm_output_0 = Add(%/0/Gemm_output_0_MatMul, %0.bias)\n",
      "  %/1/Sigmoid_output_0 = Sigmoid(%/0/Gemm_output_0)\n",
      "  %/1/Sigmoid_output_0_quantized, %/1/Sigmoid_output_0_scale, %/1/Sigmoid_output_0_zero_point = DynamicQuantizeLinear(%/1/Sigmoid_output_0)\n",
      "  %/2/Gemm_MatMul_quant_scales_mul:0 = Mul(%/1/Sigmoid_output_0_scale, %2.weight_scale)\n",
      "  %/2/Gemm_output_0_MatMul_output_quantized = MatMulInteger(%/1/Sigmoid_output_0_quantized, %2.weight_quantized, %/1/Sigmoid_output_0_zero_point, %2.weight_zero_point)\n",
      "  %/2/Gemm_output_0_MatMul_output_quantized_cast_output = Cast[to = 1](%/2/Gemm_output_0_MatMul_output_quantized)\n",
      "  %/2/Gemm_output_0_MatMul = Mul(%/2/Gemm_output_0_MatMul_output_quantized_cast_output, %/2/Gemm_MatMul_quant_scales_mul:0)\n",
      "  %/2/Gemm_output_0 = Add(%/2/Gemm_output_0_MatMul, %2.bias)\n",
      "  %/3/Sigmoid_output_0 = Sigmoid(%/2/Gemm_output_0)\n",
      "  %/3/Sigmoid_output_0_quantized, %/3/Sigmoid_output_0_scale, %/3/Sigmoid_output_0_zero_point = DynamicQuantizeLinear(%/3/Sigmoid_output_0)\n",
      "  %/4/Gemm_MatMul_quant_scales_mul:0 = Mul(%/3/Sigmoid_output_0_scale, %4.weight_scale)\n",
      "  %y_MatMul_output_quantized = MatMulInteger(%/3/Sigmoid_output_0_quantized, %4.weight_quantized, %/3/Sigmoid_output_0_zero_point, %4.weight_zero_point)\n",
      "  %y_MatMul_output_quantized_cast_output = Cast[to = 1](%y_MatMul_output_quantized)\n",
      "  %y_MatMul = Mul(%y_MatMul_output_quantized_cast_output, %/4/Gemm_MatMul_quant_scales_mul:0)\n",
      "  %y = Add(%y_MatMul, %4.bias)\n",
      "  return %y\n",
      "}\n",
      "FAILED comparasion between original onnx and quantized pytorch model\n",
      "SUCCESS comparasion between original onnx and original pytorch model\n",
      "FAILED comparasion between original onnx and quantized onnx model\n",
      "FAILED comparasion between original pytorch and quantized onnx model\n"
     ]
    },
    {
     "data": {
      "image/png": "[encoded data removed]",
      "text/plain": [
       "<Figure size 432x288 with 5 Axes>"
      ]
     },
     "metadata": {
      "needs_background": "light"
     },
     "output_type": "display_data"
    }
   ],
   "source": [
    "#  quantize the onnx model\n",
    "from onnxruntime.quantization import quantize_dynamic, QuantType\n",
    "\n",
    "quantized_model = quantize_dynamic('sineModel.onnx', 'Q_sineModel.onnx', weight_type=QuantType.QUInt8)\n",
    "\n",
    "print(\"Exported model has been quantized with ONNXRuntime, and the result looks good!\")\n",
    "#  print size of the model\n",
    "print(f\"Q ONNX model size {os.path.getsize('Q_sineModel.onnx')}\")\n",
    "\n",
    "#  load the quantized onnx model and test\n",
    "onnx_model = onnx.load(\"Q_sineModel.onnx\")\n",
    "\n",
    "#  check that the IR is well formed\n",
    "print(\"check that the IR is well formed: \")\n",
    "print(onnx.checker.check_model(onnx_model))\n",
    "print()\n",
    "#  print a human readable representation of the graph\n",
    "print(onnx.helper.printable_graph(onnx_model.graph))\n",
    "\n",
    "#  run the model using the onnxruntime\n",
    "qort_session = onnxruntime.InferenceSession(\"Q_sineModel.onnx\")\n",
    "\n",
    "def to_numpy(tensor):\n",
    "    return tensor.detach().cpu().numpy() if tensor.requires_grad else tensor.cpu().numpy()\n",
    "\n",
    "# compute ONNX Runtime output prediction\n",
    "qort_inputs = {qort_session.get_inputs()[0].name: to_numpy(x)}  #  x is the input that was defined before\n",
    "qort_outs = qort_session.run(None, qort_inputs)\n",
    "\n",
    "# compare ONNX Runtime and PyTorch results\n",
    "\n",
    "rtol_ = 1e-03\n",
    "atol_ = 1e-05\n",
    "\n",
    "# plot all the results\n",
    "plt.subplot(5, 1, 1)\n",
    "plt.plot(x.cpu().numpy(), y.cpu().numpy(), label=\"sin(x)\")\n",
    "plt.legend()\n",
    "plt.subplot(5, 1, 2)\n",
    "plt.plot(x.cpu().numpy(), ort_outs[0], label=\"onnx\")\n",
    "plt.legend()\n",
    "plt.subplot(5, 1, 3)\n",
    "plt.plot(x.cpu().numpy(), qort_outs[0], label=\"quantized onnx\")\n",
    "plt.legend()\n",
    "plt.subplot(5, 1, 4)\n",
    "plt.plot(x.cpu().numpy(), to_numpy(sineModel(x)), label=\"pytorch\")\n",
    "plt.legend()\n",
    "plt.subplot(5, 1, 5)\n",
    "plt.plot(x.cpu().numpy(), to_numpy(Q_sineModel(x)), label=\"quantized pytorch\")\n",
    "plt.legend()\n",
    "\n",
    "\n",
    "try:\n",
    "    np.testing.assert_allclose(to_numpy(Q_sineModel(x) ), ort_outs[0], rtol=rtol_, atol=atol_)\n",
    "    print(\"SUCCESS comparasion between original onnx and quantized pytorch model\")\n",
    "except:\n",
    "    print(\"FAILED comparasion between original onnx and quantized pytorch model\")\n",
    "# print(\"Exported model has been tested with ONNXRuntime, and the result looks good!\")\n",
    "try:\n",
    "    np.testing.assert_allclose(to_numpy(sineModel(x) ), ort_outs[0], rtol=rtol_, atol=atol_)\n",
    "    print(\"SUCCESS comparasion between original onnx and original pytorch model\")\n",
    "except:\n",
    "    print(\"FAILED comparasion between original onnx and original pytorch model\")\n",
    "# print(\"Exported model has been tested with ONNXRuntime, and the result looks good!\")\n",
    "\n",
    "#  compare with original onnx model\n",
    "try:\n",
    "    np.testing.assert_allclose(ort_outs[0], qort_outs[0], rtol=rtol_, atol=atol_)\n",
    "    print(\"SUCCESS comparasion between original onnx and quantized onnx model\")\n",
    "except:\n",
    "    print(\"FAILED comparasion between original onnx and quantized onnx model\")\n",
    "\n",
    "#  compare with original pytorch model\n",
    "try:\n",
    "    np.testing.assert_allclose(to_numpy(sineModel(x) ), qort_outs[0], rtol=rtol_, atol=atol_)\n",
    "    print(\"SUCCESS comparasion between original pytorch and quantized onnx model\")\n",
    "except:\n",
    "    print(\"FAILED comparasion between original pytorch and quantized onnx model\")"
   ]
  },
  {
   "cell_type": "markdown",
   "metadata": {},
   "source": [
    "# export to tflite"
   ]
  },
  {
   "cell_type": "code",
   "execution_count": 17,
   "metadata": {},
   "outputs": [
    {
     "name": "stderr",
     "output_type": "stream",
     "text": [
      "2022-12-03 10:49:28.606571: W tensorflow/compiler/xla/stream_executor/platform/default/dso_loader.cc:64] Could not load dynamic library 'libcuda.so.1'; dlerror: libcuda.so.1: cannot open shared object file: No such file or directory; LD_LIBRARY_PATH: /opt/ros/humble/opt/rviz_ogre_vendor/lib:/opt/ros/humble/lib/x86_64-linux-gnu:/opt/ros/humble/lib\n",
      "2022-12-03 10:49:28.606912: W tensorflow/compiler/xla/stream_executor/cuda/cuda_driver.cc:265] failed call to cuInit: UNKNOWN ERROR (303)\n",
      "2022-12-03 10:49:28.606939: I tensorflow/compiler/xla/stream_executor/cuda/cuda_diagnostics.cc:156] kernel driver does not appear to be running on this host (nicolas-XPS-13-9305): /proc/driver/nvidia/version does not exist\n",
      "2022-12-03 10:49:28.609086: I tensorflow/core/platform/cpu_feature_guard.cc:193] This TensorFlow binary is optimized with oneAPI Deep Neural Network Library (oneDNN) to use the following CPU instructions in performance-critical operations:  AVX2 AVX512F AVX512_VNNI FMA\n",
      "To enable them in other operations, rebuild TensorFlow with the appropriate compiler flags.\n",
      "WARNING:absl:Found untraced functions such as gen_tensor_dict while saving (showing 1 of 1). These functions will not be directly callable after loading.\n"
     ]
    },
    {
     "name": "stdout",
     "output_type": "stream",
     "text": [
      "INFO:tensorflow:Assets written to: sineModel.pb/assets\n"
     ]
    },
    {
     "name": "stderr",
     "output_type": "stream",
     "text": [
      "INFO:tensorflow:Assets written to: sineModel.pb/assets\n",
      "2022-12-03 10:49:30.114160: W tensorflow/compiler/mlir/lite/python/tf_tfl_flatbuffer_helpers.cc:362] Ignored output_format.\n",
      "2022-12-03 10:49:30.114206: W tensorflow/compiler/mlir/lite/python/tf_tfl_flatbuffer_helpers.cc:365] Ignored drop_control_dependency.\n",
      "2022-12-03 10:49:30.115087: I tensorflow/cc/saved_model/reader.cc:45] Reading SavedModel from: sineModel.pb\n",
      "2022-12-03 10:49:30.115753: I tensorflow/cc/saved_model/reader.cc:89] Reading meta graph with tags { serve }\n",
      "2022-12-03 10:49:30.115783: I tensorflow/cc/saved_model/reader.cc:130] Reading SavedModel debug info (if present) from: sineModel.pb\n",
      "2022-12-03 10:49:30.117408: I tensorflow/compiler/mlir/mlir_graph_optimization_pass.cc:357] MLIR V1 optimization pass is not enabled\n",
      "2022-12-03 10:49:30.117722: I tensorflow/cc/saved_model/loader.cc:229] Restoring SavedModel bundle.\n",
      "2022-12-03 10:49:30.193253: I tensorflow/cc/saved_model/loader.cc:213] Running initialization op on SavedModel bundle at path: sineModel.pb\n",
      "2022-12-03 10:49:30.205110: I tensorflow/cc/saved_model/loader.cc:305] SavedModel load for tags { serve }; Status: success: OK. Took 90023 microseconds.\n",
      "2022-12-03 10:49:30.236570: I tensorflow/compiler/mlir/tensorflow/utils/dump_mlir_util.cc:268] disabling MLIR crash reproducer, set env var `MLIR_CRASH_REPRODUCER_DIRECTORY` to enable.\n",
      "2022-12-03 10:49:30.286511: I tensorflow/compiler/mlir/lite/flatbuffer_export.cc:2111] Estimated count of arithmetic ops: 35.103 M  ops, equivalently 17.552 M  MACs\n",
      "fully_quantize: 0, inference_type: 6, input_inference_type: FLOAT32, output_inference_type: FLOAT32\n",
      "2022-12-03 10:49:30.344028: I tensorflow/compiler/mlir/lite/flatbuffer_export.cc:2111] Estimated count of arithmetic ops: 35.103 M  ops, equivalently 17.552 M  MACs\n"
     ]
    },
    {
     "data": {
      "text/plain": [
       "5464"
      ]
     },
     "execution_count": 17,
     "metadata": {},
     "output_type": "execute_result"
    }
   ],
   "source": [
    "#  convert the onnx model to tf freezed graph\n",
    "\n",
    "#  load the onnx model\n",
    "onnx_model = onnx.load(\"sineModel.onnx\")\n",
    "\n",
    "#  convert the onnx model to tf\n",
    "tf_rep = prepare(onnx_model)\n",
    "tf_rep.export_graph(\"sineModel.pb\")\n",
    "\n",
    "representative_dataset = tf.data.Dataset.from_tensor_slices(x.cpu().numpy()).batch(1)\n",
    "def representative_dataset_gen():\n",
    "    for input_value in representative_dataset.take(100):\n",
    "        # Model has only one input so each data point has one element.\n",
    "        yield [input_value]\n",
    "\n",
    "converter = tf.lite.TFLiteConverter.from_saved_model(\"sineModel.pb\")\n",
    "converter.target_spec.supported_ops = [\n",
    "  tf.lite.OpsSet.TFLITE_BUILTINS, # enable TensorFlow Lite ops.\n",
    "  tf.lite.OpsSet.TFLITE_BUILTINS_INT8, # enable TensorFlow Lite ops.\n",
    "#   tf.lite.OpsSet.SELECT_TF_OPS # enable TensorFlow ops.\n",
    "]\n",
    "converter.optimizations = [tf.lite.Optimize.DEFAULT]\n",
    "converter.representative_dataset = representative_dataset_gen\n",
    "\n",
    "tflite_model = converter.convert()\n",
    "\n",
    "#  save the model\n",
    "open(\"sineModel.tflite\", \"wb\").write(tflite_model)"
   ]
  },
  {
   "cell_type": "code",
   "execution_count": 18,
   "metadata": {},
   "outputs": [
    {
     "name": "stderr",
     "output_type": "stream",
     "text": [
      "INFO: Created TensorFlow Lite delegate for select TF ops.\n",
      "INFO: TfLiteFlexDelegate delegate: 3 nodes delegated out of 80 nodes with 3 partitions.\n",
      "\n",
      "INFO: Created TensorFlow Lite XNNPACK delegate for CPU.\n"
     ]
    },
    {
     "name": "stdout",
     "output_type": "stream",
     "text": [
      "FAILED comparasion between quantized onnx and tflite model\n",
      "Exported model has been tested with tflite, and the result looks good!\n",
      "size of the tflite model is:  22284\n"
     ]
    }
   ],
   "source": [
    "#  load the model\n",
    "interpreter = tf.lite.Interpreter(model_path=\"Q_sineModel.tflite\")\n",
    "interpreter.allocate_tensors()\n",
    "\n",
    "#  get input and output tensors\n",
    "input_details = interpreter.get_input_details()\n",
    "output_details = interpreter.get_output_details()\n",
    "\n",
    "#  test the model\n",
    "input_data = x.cpu().detach().numpy()\n",
    "interpreter.set_tensor(input_details[0]['index'], input_data)\n",
    "interpreter.invoke()\n",
    "tflite_results = interpreter.get_tensor(output_details[0]['index'])\n",
    "\n",
    "#  compare the results\n",
    "try:\n",
    "    np.testing.assert_allclose(qort_outs[0], tflite_results, rtol=1e-03, atol=1e-05)\n",
    "except:\n",
    "    print(\"FAILED comparasion between quantized onnx and tflite model\")\n",
    "\n",
    "print(\"Exported model has been tested with tflite, and the result looks good!\")\n",
    "print(\"size of the tflite model is: \", os.path.getsize(\"Q_sineModel.tflite\"))"
   ]
  },
  {
   "cell_type": "code",
   "execution_count": 24,
   "metadata": {},
   "outputs": [
    {
     "name": "stdout",
     "output_type": "stream",
     "text": [
      "size of the original pytorch model is:  12903  bytes\n",
      "size of the quantized pytorch model is:  12384  bytes\n",
      "size of the original onnx model is:  11460  bytes\n",
      "size of the quantized onnx model is:  6252  bytes\n",
      "size of the tflite model is:  5464  bytes\n"
     ]
    }
   ],
   "source": [
    "# compare all the sizes\n",
    "print(\"size of the original pytorch model is: \", os.path.getsize(\"sineModel.pt\"), \" bytes\")\n",
    "print(\"size of the quantized pytorch model is: \", os.path.getsize(\"Q_sineModel.pt\"), \" bytes\")\n",
    "print(\"size of the original onnx model is: \", os.path.getsize(\"sineModel.onnx\"), \" bytes\")\n",
    "print(\"size of the quantized onnx model is: \", os.path.getsize(\"Q_sineModel.onnx\"), \" bytes\")\n",
    "# print(\"size of the tf model is: \", os.path.getsize(\"sineModel.pb\"), \" bytes\") # there might be some problem with the tf model\n",
    "print(\"size of the tflite model is: \", os.path.getsize(\"sineModel.tflite\"), \" bytes\")\n"
   ]
  },
  {
   "cell_type": "code",
   "execution_count": 25,
   "metadata": {},
   "outputs": [
    {
     "name": "stdout",
     "output_type": "stream",
     "text": [
      "for a load of  10000  samples\n",
      " pytorch time: 4.136 seconds\n",
      " quantized pytorch time: 4.410 seconds\n",
      " onnx time: 3.381 seconds\n",
      " quantized onnx time: 3.621 seconds\n",
      " tflite time: 58.019 seconds\n"
     ]
    }
   ],
   "source": [
    "#  compare performance\n",
    "import time\n",
    "\n",
    "load = 10000\n",
    "\n",
    "print(\"for a load of \", load, \" samples\")\n",
    "\n",
    "#  pytorch\n",
    "start = time.time()\n",
    "for i in range(load):\n",
    "    to_numpy(sineModel(x))\n",
    "end = time.time()\n",
    "print(f\" pytorch time: {(end - start):.3f} seconds\")\n",
    "# print(\"pytorch time: \", end - start, \" seconds\")\n",
    "\n",
    "#  quantized pytorch\n",
    "start = time.time()\n",
    "for i in range(load):\n",
    "    to_numpy(Q_sineModel(x))\n",
    "end = time.time()\n",
    "print(f\" quantized pytorch time: {(end - start):.3f} seconds\")\n",
    "# print(\"quantized pytorch time: \", end - start, \" seconds\")\n",
    "\n",
    "# onnx\n",
    "start = time.time()\n",
    "for i in range(load):\n",
    "    ort_outs = ort_session.run(None, ort_inputs)\n",
    "end = time.time()\n",
    "print(f\" onnx time: {(end - start):.3f} seconds\")\n",
    "# print(\"onnx time: \", end - start, \" seconds\")\n",
    "\n",
    "#  quantized onnx\n",
    "start = time.time()\n",
    "for i in range(load):\n",
    "    ort_outs = qort_session.run(None, qort_inputs)\n",
    "end = time.time()\n",
    "print(f\" quantized onnx time: {(end - start):.3f} seconds\")\n",
    "# print(\"quantized onnx time: \", end - start, \" seconds\")\n",
    "\n",
    "#  tflite\n",
    "start = time.time()\n",
    "for i in range(load):\n",
    "    interpreter.set_tensor(input_details[0]['index'], input_data)\n",
    "    interpreter.invoke()\n",
    "    tflite_results = interpreter.get_tensor(output_details[0]['index'])\n",
    "end = time.time()\n",
    "print(f\" tflite time: {(end - start):.3f} seconds\")\n",
    "# print(\"tflite time: \", end - start, \" seconds\")\n",
    "\n"
   ]
  },
  {
   "cell_type": "code",
   "execution_count": 26,
   "metadata": {},
   "outputs": [
    {
     "data": {
      "image/png": "[encoded data removed]",
      "text/plain": [
       "<Figure size 720x720 with 5 Axes>"
      ]
     },
     "metadata": {
      "needs_background": "light"
     },
     "output_type": "display_data"
    }
   ],
   "source": [
    "# compare plots\n",
    "plt.figure(figsize=(10, 10))\n",
    "plt.subplot(5, 1, 1)\n",
    "plt.plot(x.cpu().numpy(), ort_outs[0], label=\"onnx\")\n",
    "plt.legend()\n",
    "plt.subplot(5, 1, 2)\n",
    "plt.plot(x.cpu().numpy(), qort_outs[0], label=\"quantized onnx\")\n",
    "plt.legend()\n",
    "plt.subplot(5, 1, 3)\n",
    "plt.plot(x.cpu().numpy(), tflite_results, label=\"tflite\")\n",
    "plt.legend()\n",
    "plt.subplot(5, 1, 4)\n",
    "plt.plot(x.cpu().numpy(), to_numpy(sineModel(x)), label=\"pytorch\")\n",
    "plt.legend()\n",
    "plt.subplot(5, 1, 5)\n",
    "plt.plot(x.cpu().numpy(), to_numpy(Q_sineModel(x)), label=\"quantized pytorch\")\n",
    "plt.legend()\n",
    "plt.show()\n",
    "\n"
   ]
  },
  {
   "cell_type": "code",
   "execution_count": 3,
   "metadata": {},
   "outputs": [
    {
     "name": "stdout",
     "output_type": "stream",
     "text": [
      "unsigned char sineModel_tflite[] = {\n",
      "  0x1c, 0x00, 0x00, 0x00, 0x54, 0x46, 0x4c, 0x33, 0x14, 0x00, 0x20, 0x00,\n",
      "  0x1c, 0x00, 0x18, 0x00, 0x14, 0x00, 0x10, 0x00, 0x0c, 0x00, 0x00, 0x00,\n",
      "  0x08, 0x00, 0x04, 0x00, 0x14, 0x00, 0x00, 0x00, 0x1c, 0x00, 0x00, 0x00,\n",
      "  0x78, 0x00, 0x00, 0x00, 0xd0, 0x00, 0x00, 0x00, 0xc4, 0x0d, 0x00, 0x00,\n",
      "  0xd4, 0x0d, 0x00, 0x00, 0xbc, 0x14, 0x00, 0x00, 0x03, 0x00, 0x00, 0x00,\n",
      "  0x01, 0x00, 0x00, 0x00, 0x04, 0x00, 0x00, 0x00, 0x3a, 0xf1, 0xff, 0xff,\n",
      "  0x0c, 0x00, 0x00, 0x00, 0x1c, 0x00, 0x00, 0x00, 0x34, 0x00, 0x00, 0x00,\n",
      "  0x0f, 0x00, 0x00, 0x00, 0x73, 0x65, 0x72, 0x76, 0x69, 0x6e, 0x67, 0x5f,\n",
      "  0x64, 0x65, 0x66, 0x61, 0x75, 0x6c, 0x74, 0x00, 0x01, 0x00, 0x00, 0x00,\n",
      "  0x04, 0x00, 0x00, 0x00, 0xa4, 0xff, 0xff, 0xff, 0x0d, 0x00, 0x00, 0x00,\n",
      "  0x04, 0x00, 0x00, 0x00, 0x01, 0x00, 0x00, 0x00, 0x79, 0x00, 0x00, 0x00,\n",
      "  0x01, 0x00, 0x00, 0x00, 0x04, 0x00, 0x00, 0x00, 0xba, 0xf2, 0xff, 0xff,\n",
      "  0x04, 0x00, 0x00, 0x00, 0x01, 0x00, 0x00, 0x00, 0x78, 0x00, 0x00, 0x00,\n",
      "  0x02, 0x00, 0x00, 0x00, 0x34, 0x00, 0x00, 0x00, 0x04, 0x00, 0x00, 0x00,\n",
      "  0xdc, 0xff, 0xff, 0xff, 0x10, 0x00, 0x00, 0x00, 0x04, 0x00, 0x00, 0x00,\n",
      "  0x13, 0x00, 0x00, 0x00, 0x43, 0x4f, 0x4e, 0x56, 0x45, 0x52, 0x53, 0x49,\n",
      "  0x4f, 0x4e, 0x5f, 0x4d, 0x45, 0x54, 0x41, 0x44, 0x41, 0x54, 0x41, 0x00,\n",
      "  0x08, 0x00, 0x0c, 0x00, 0x08, 0x00, 0x04, 0x00, 0x08, 0x00, 0x00, 0x00,\n",
      "  0x0f, 0x00, 0x00, 0x00, 0x04, 0x00, 0x00, 0x00, 0x13, 0x00, 0x00, 0x00,\n",
      "  0x6d, 0x69, 0x6e, 0x5f, 0x72, 0x75, 0x6e, 0x74, 0x69, 0x6d, 0x65, 0x5f,\n",
      "  0x76, 0x65, 0x72, 0x73, 0x69, 0x6f, 0x6e, 0x00, 0x11, 0x00, 0x00, 0x00,\n",
      "  0xf0, 0x0c, 0x00, 0x00, 0xe8, 0x0c, 0x00, 0x00, 0xd4, 0x0c, 0x00, 0x00,\n",
      "  0x8c, 0x0c, 0x00, 0x00, 0xb4, 0x0b, 0x00, 0x00, 0xe0, 0x01, 0x00, 0x00,\n",
      "  0x08, 0x01, 0x00, 0x00, 0xc4, 0x00, 0x00, 0x00, 0xbc, 0x00, 0x00, 0x00,\n",
      "  0xb4, 0x00, 0x00, 0x00, 0xac, 0x00, 0x00, 0x00, 0xa4, 0x00, 0x00, 0x00,\n",
      "  0x9c, 0x00, 0x00, 0x00, 0x94, 0x00, 0x00, 0x00, 0x8c, 0x00, 0x00, 0x00,\n",
      "  0x6c, 0x00, 0x00, 0x00, 0x04, 0x00, 0x00, 0x00, 0x6e, 0xf3, 0xff, 0xff,\n",
      "  0x04, 0x00, 0x00, 0x00, 0x58, 0x00, 0x00, 0x00, 0x0c, 0x00, 0x00, 0x00,\n",
      "  0x08, 0x00, 0x0e, 0x00, 0x08, 0x00, 0x04, 0x00, 0x08, 0x00, 0x00, 0x00,\n",
      "  0x10, 0x00, 0x00, 0x00, 0x28, 0x00, 0x00, 0x00, 0x00, 0x00, 0x06, 0x00,\n",
      "  0x08, 0x00, 0x04, 0x00, 0x06, 0x00, 0x00, 0x00, 0x04, 0x00, 0x00, 0x00,\n",
      "  0x01, 0x00, 0x00, 0x00, 0xeb, 0x03, 0x00, 0x00, 0x00, 0x00, 0x0a, 0x00,\n",
      "  0x10, 0x00, 0x0c, 0x00, 0x08, 0x00, 0x04, 0x00, 0x0a, 0x00, 0x00, 0x00,\n",
      "  0x01, 0x00, 0x00, 0x00, 0x02, 0x00, 0x00, 0x00, 0x04, 0x00, 0x00, 0x00,\n",
      "  0x06, 0x00, 0x00, 0x00, 0x32, 0x2e, 0x31, 0x31, 0x2e, 0x30, 0x00, 0x00,\n",
      "  0xd2, 0xf3, 0xff, 0xff, 0x04, 0x00, 0x00, 0x00, 0x10, 0x00, 0x00, 0x00,\n",
      "  0x31, 0x2e, 0x31, 0x34, 0x2e, 0x30, 0x00, 0x00, 0x00, 0x00, 0x00, 0x00,\n",
      "  0x00, 0x00, 0x00, 0x00, 0xfc, 0xec, 0xff, 0xff, 0x00, 0xed, 0xff, 0xff,\n",
      "  0x04, 0xed, 0xff, 0xff, 0x08, 0xed, 0xff, 0xff, 0x0c, 0xed, 0xff, 0xff,\n",
      "  0x10, 0xed, 0xff, 0xff, 0x14, 0xed, 0xff, 0xff, 0x0a, 0xf4, 0xff, 0xff,\n",
      "  0x04, 0x00, 0x00, 0x00, 0x32, 0x00, 0x00, 0x00, 0x56, 0xaa, 0x8c, 0x28,\n",
      "  0x63, 0xdc, 0xdc, 0x22, 0xa0, 0xe5, 0x62, 0x4b, 0x1c, 0x14, 0x13, 0x5d,\n",
      "  0x0d, 0x9c, 0x27, 0x1c, 0xb7, 0xe9, 0xe2, 0x62, 0x24, 0xd7, 0xba, 0xd7,\n",
      "  0x8a, 0x63, 0x0e, 0x23, 0xee, 0x0c, 0x1a, 0xea, 0x60, 0xf2, 0x1e, 0xec,\n",
      "  0xb9, 0xd0, 0x1d, 0xe6, 0xb9, 0x60, 0x81, 0x1f, 0xae, 0x60, 0x00, 0x00,\n",
      "  0x4a, 0xf4, 0xff, 0xff, 0x04, 0x00, 0x00, 0x00, 0xc8, 0x00, 0x00, 0x00,\n",
      "  0xe8, 0xe9, 0xff, 0xff, 0x55, 0xea, 0xff, 0xff, 0xac, 0xfe, 0xff, 0xff,\n",
      "  0xf2, 0x20, 0x00, 0x00, 0xa6, 0xfc, 0xff, 0xff, 0xe7, 0xe5, 0xff, 0xff,\n",
      "  0x79, 0xe5, 0xff, 0xff, 0x17, 0xe5, 0xff, 0xff, 0x34, 0xe3, 0xff, 0xff,\n",
      "  0x94, 0xed, 0xff, 0xff, 0xbf, 0xfc, 0xff, 0xff, 0x32, 0x0c, 0x00, 0x00,\n",
      "  0x31, 0xec, 0xff, 0xff, 0x32, 0xf1, 0xff, 0xff, 0x71, 0xf2, 0xff, 0xff,\n",
      "  0x74, 0xe4, 0xff, 0xff, 0xff, 0xf7, 0xff, 0xff, 0x9d, 0x20, 0x00, 0x00,\n",
      "  0xbd, 0xde, 0xff, 0xff, 0xde, 0xef, 0xff, 0xff, 0xa4, 0xf5, 0xff, 0xff,\n",
      "  0x97, 0xf3, 0xff, 0xff, 0xed, 0xeb, 0xff, 0xff, 0xd0, 0xfc, 0xff, 0xff,\n",
      "  0x5b, 0xe2, 0xff, 0xff, 0xd9, 0xe2, 0xff, 0xff, 0x28, 0x00, 0x00, 0x00,\n",
      "  0x1f, 0xe2, 0xff, 0xff, 0x29, 0xd6, 0xff, 0xff, 0xa0, 0xf8, 0xff, 0xff,\n",
      "  0xe5, 0xf6, 0xff, 0xff, 0x53, 0xe3, 0xff, 0xff, 0xe6, 0x08, 0x00, 0x00,\n",
      "  0x03, 0xfa, 0xff, 0xff, 0xa1, 0xec, 0xff, 0xff, 0xdf, 0xfc, 0xff, 0xff,\n",
      "  0x96, 0xfb, 0xff, 0xff, 0x30, 0x04, 0x00, 0x00, 0xb9, 0xe8, 0xff, 0xff,\n",
      "  0xe6, 0xff, 0xff, 0xff, 0x29, 0xfb, 0xff, 0xff, 0x9e, 0xdd, 0xff, 0xff,\n",
      "  0xf6, 0xed, 0xff, 0xff, 0xfe, 0xef, 0xff, 0xff, 0x41, 0xff, 0xff, 0xff,\n",
      "  0xd6, 0xfa, 0xff, 0xff, 0x45, 0xfc, 0xff, 0xff, 0x89, 0xec, 0xff, 0xff,\n",
      "  0x1a, 0x13, 0x00, 0x00, 0x65, 0xfc, 0xff, 0xff, 0x1e, 0xf5, 0xff, 0xff,\n",
      "  0x04, 0x00, 0x00, 0x00, 0xc4, 0x09, 0x00, 0x00, 0x18, 0xf8, 0xf8, 0x03,\n",
      "  0x03, 0xf8, 0xfb, 0xe2, 0xf5, 0x02, 0x04, 0x08, 0xe1, 0xf3, 0xee, 0x21,\n",
      "  0xf6, 0xa2, 0xe1, 0xe8, 0xf3, 0x02, 0xfc, 0x04, 0xda, 0xf9, 0xe9, 0xf9,\n",
      "  0xeb, 0x06, 0xf7, 0xe5, 0x17, 0xf8, 0xe9, 0x08, 0x06, 0x0e, 0xec, 0x0b,\n",
      "  0xee, 0xf9, 0xe6, 0x03, 0xec, 0x03, 0xfa, 0xe3, 0xc9, 0x06, 0x09, 0xfa,\n",
      "  0x06, 0x03, 0xfa, 0xfb, 0xf9, 0xf6, 0xf5, 0xfc, 0xf9, 0x02, 0xf3, 0xfb,\n",
      "  0xf6, 0x0c, 0xfe, 0xf3, 0xfd, 0xf4, 0xfe, 0xfd, 0xfe, 0xfb, 0xf7, 0xfc,\n",
      "  0xff, 0xff, 0xe7, 0xfc, 0xfd, 0xf9, 0x03, 0x03, 0xf7, 0x01, 0xf8, 0xff,\n",
      "  0xfa, 0x02, 0xfe, 0xfc, 0xf3, 0xfe, 0xfd, 0xfc, 0x08, 0xf3, 0xfc, 0xf8,\n",
      "  0xfa, 0x06, 0xfb, 0x0c, 0x06, 0xed, 0xee, 0x07, 0x0f, 0xf4, 0x08, 0xf9,\n",
      "  0x0b, 0x06, 0x07, 0xf5, 0x04, 0x09, 0x00, 0x0a, 0x05, 0xf5, 0xee, 0x07,\n",
      "  0x08, 0xe4, 0x01, 0xe5, 0x1f, 0x03, 0x03, 0x03, 0xfa, 0xfe, 0x06, 0xf9,\n",
      "  0x06, 0xfc, 0x07, 0xfa, 0x01, 0xe0, 0x0b, 0xf5, 0x00, 0x04, 0xfb, 0x0a,\n",
      "  0x05, 0x06, 0x0f, 0xfd, 0x05, 0x04, 0xf7, 0xfb, 0xfa, 0xf3, 0xf3, 0xfb,\n",
      "  0xf7, 0x04, 0xf2, 0xfa, 0xf7, 0x14, 0xfe, 0xed, 0xf8, 0xf4, 0x02, 0x00,\n",
      "  0xfb, 0xf9, 0xf1, 0xfa, 0xff, 0xfa, 0xe3, 0xfc, 0xfc, 0xf9, 0x05, 0x02,\n",
      "  0xf6, 0x02, 0xfb, 0x01, 0xf6, 0x02, 0x00, 0xfb, 0xf0, 0xff, 0x01, 0xfa,\n",
      "  0x08, 0xef, 0xf9, 0xfa, 0x16, 0xf9, 0xf6, 0x04, 0x04, 0xfa, 0xf9, 0xe1,\n",
      "  0xfa, 0x00, 0x06, 0x06, 0xe7, 0xf3, 0xef, 0x20, 0xf9, 0x9e, 0xdc, 0xec,\n",
      "  0xf2, 0x01, 0xfd, 0x02, 0xdd, 0xf9, 0xe7, 0xf8, 0xf3, 0x07, 0xf7, 0xe5,\n",
      "  0x10, 0xfc, 0xed, 0x06, 0x05, 0x0a, 0xe9, 0x08, 0xed, 0xfa, 0xe8, 0x01,\n",
      "  0xe9, 0x05, 0xfa, 0xe5, 0xc5, 0x05, 0x0a, 0xf9, 0x04, 0x01, 0xfa, 0xfc,\n",
      "  0xfc, 0xf5, 0xf3, 0xfc, 0xfc, 0x03, 0xf4, 0xfb, 0xf6, 0x10, 0xfb, 0xf1,\n",
      "  0xfc, 0xf4, 0xfc, 0x00, 0xfd, 0xf9, 0xf7, 0x00, 0xfe, 0xff, 0xe8, 0xfc,\n",
      "  0xfe, 0xfa, 0x02, 0x02, 0xf7, 0x01, 0xf9, 0xfd, 0xfa, 0x00, 0xfc, 0xfd,\n",
      "  0xf1, 0xff, 0xfc, 0xfc, 0x03, 0xf1, 0xfb, 0xfb, 0x03, 0x0b, 0xfb, 0x0b,\n",
      "  0x09, 0xea, 0xed, 0xf5, 0x12, 0xf4, 0x09, 0xf9, 0xff, 0xf8, 0xfd, 0x00,\n",
      "  0xfc, 0x06, 0xea, 0x06, 0x02, 0xf7, 0xef, 0x09, 0xf0, 0xe3, 0xfe, 0xe5,\n",
      "  0x25, 0x0a, 0xfc, 0xf1, 0x00, 0xf5, 0xf9, 0xf8, 0x07, 0x02, 0xf6, 0xfa,\n",
      "  0x02, 0xdf, 0x02, 0xf5, 0xff, 0x07, 0xfb, 0x02, 0x00, 0x07, 0x09, 0xfb,\n",
      "  0x01, 0xee, 0xfa, 0x18, 0x14, 0xf6, 0xf3, 0x0d, 0xfb, 0x05, 0xf4, 0xfb,\n",
      "  0xf7, 0x10, 0xf7, 0xf5, 0xfa, 0xf4, 0xfb, 0x0c, 0x13, 0xfa, 0xf7, 0x1d,\n",
      "  0xfd, 0x1f, 0xe7, 0xfd, 0xf9, 0xfa, 0x05, 0xfd, 0xf5, 0x08, 0xfd, 0x02,\n",
      "  0xf7, 0x08, 0xfd, 0x23, 0xf4, 0x0d, 0xfd, 0xfb, 0x03, 0xf4, 0xfa, 0xfc,\n",
      "  0xf6, 0x0a, 0xfc, 0x0e, 0x04, 0xe6, 0xed, 0x0a, 0x0f, 0xf0, 0x04, 0xfa,\n",
      "  0x0d, 0x05, 0x0c, 0xf1, 0x08, 0x0c, 0x08, 0x0c, 0x05, 0xf4, 0xef, 0x05,\n",
      "  0x0c, 0xe2, 0x03, 0xdf, 0x21, 0x02, 0x04, 0x07, 0xfc, 0x03, 0x09, 0xf7,\n",
      "  0x04, 0xfa, 0x07, 0xf7, 0x03, 0xdc, 0x0c, 0xf3, 0x03, 0x02, 0xfa, 0x0d,\n",
      "  0x05, 0x03, 0xf9, 0x05, 0xfd, 0x01, 0x04, 0xf7, 0xf9, 0x07, 0x0c, 0xf9,\n",
      "  0x03, 0xfb, 0x09, 0x03, 0x06, 0xf7, 0x03, 0x07, 0x01, 0x09, 0x04, 0xfa,\n",
      "  0xf9, 0x02, 0x06, 0xf3, 0xff, 0xf3, 0x13, 0x04, 0x00, 0x02, 0xfe, 0xfa,\n",
      "  0x07, 0xfc, 0x05, 0xfc, 0x02, 0xfb, 0x00, 0xf3, 0x08, 0xf8, 0x00, 0x03,\n",
      "  0xfa, 0x0a, 0x00, 0x03, 0x19, 0xf9, 0xfe, 0x04, 0x04, 0xf9, 0xfb, 0xe2,\n",
      "  0xf6, 0xff, 0x02, 0x07, 0xe3, 0xf4, 0xef, 0x22, 0xf6, 0xb6, 0xe4, 0xe8,\n",
      "  0xf6, 0x04, 0xff, 0x04, 0xdf, 0xfa, 0xf1, 0xf8, 0xea, 0x04, 0xf9, 0xe8,\n",
      "  0x11, 0xf9, 0xe9, 0x07, 0x05, 0x0c, 0xec, 0x0b, 0xf4, 0xfb, 0xe7, 0x02,\n",
      "  0xf3, 0x04, 0xfe, 0xe2, 0xd9, 0x03, 0x04, 0x04, 0xf8, 0x07, 0x0d, 0xf1,\n",
      "  0xf3, 0xf1, 0x0f, 0xf7, 0x0d, 0xfe, 0xfb, 0xf6, 0xff, 0x02, 0xfa, 0x05,\n",
      "  0xe7, 0x03, 0x03, 0xf8, 0xf5, 0x09, 0xec, 0xec, 0xff, 0xeb, 0x1d, 0x09,\n",
      "  0xfa, 0xf1, 0xff, 0xf3, 0xf8, 0xf9, 0x0a, 0x01, 0xf5, 0xfb, 0xff, 0xe6,\n",
      "  0x01, 0xf7, 0xff, 0x0a, 0xf7, 0x02, 0x01, 0x0a, 0x09, 0xfb, 0x03, 0x02,\n",
      "  0xf8, 0xfc, 0xfc, 0xf9, 0xf4, 0xfe, 0xfb, 0x01, 0xf3, 0xfb, 0xf5, 0x0d,\n",
      "  0xfd, 0xf2, 0xfd, 0xf7, 0xfd, 0x00, 0xfe, 0xfb, 0xf9, 0xfc, 0xfc, 0xff,\n",
      "  0xe9, 0xfa, 0xfc, 0xfb, 0x02, 0x05, 0xf8, 0x02, 0xfa, 0xfe, 0xf9, 0x00,\n",
      "  0xfd, 0xfc, 0xf4, 0xfe, 0xfc, 0xfa, 0x04, 0xf4, 0xf8, 0xfa, 0x01, 0x03,\n",
      "  0xfa, 0xfc, 0x0a, 0xf7, 0xfa, 0xf8, 0x0b, 0xfb, 0x08, 0xfc, 0x00, 0xf6,\n",
      "  0xfd, 0xfc, 0xf8, 0x03, 0xef, 0x06, 0x00, 0xfb, 0xf8, 0x08, 0xf5, 0xf2,\n",
      "  0xfd, 0xf0, 0x1b, 0x09, 0xf5, 0xf6, 0xfd, 0xee, 0xf9, 0xf9, 0x07, 0x01,\n",
      "  0xf7, 0xfc, 0xfd, 0xee, 0x05, 0xf9, 0xfd, 0x07, 0xf7, 0x05, 0xff, 0x08,\n",
      "  0xfc, 0xfb, 0xf9, 0xf7, 0xfa, 0xfe, 0xfd, 0xf9, 0xfc, 0xfc, 0xfd, 0xf8,\n",
      "  0xfc, 0xf9, 0xf9, 0xfd, 0xf7, 0xf6, 0xfa, 0xfe, 0xf8, 0xf9, 0xfb, 0xf9,\n",
      "  0xf8, 0xfa, 0xfa, 0xfe, 0xfc, 0xfc, 0xf9, 0xfa, 0xf6, 0xf9, 0xf8, 0xf7,\n",
      "  0xfc, 0xf8, 0xf9, 0xf9, 0xf8, 0xfd, 0xfb, 0xf8, 0xf9, 0xf9, 0xf8, 0xfd,\n",
      "  0xf8, 0xfd, 0x0e, 0xfa, 0x06, 0x05, 0xfb, 0xfa, 0xfa, 0xf3, 0xf4, 0xff,\n",
      "  0xfb, 0x04, 0xef, 0xfc, 0xf5, 0x14, 0xfd, 0xeb, 0xf8, 0xf0, 0x00, 0xfe,\n",
      "  0xfb, 0xfa, 0xf3, 0xfd, 0x01, 0xfc, 0xe3, 0xfc, 0xfe, 0xf7, 0x04, 0x02,\n",
      "  0xf4, 0x02, 0xfc, 0x01, 0xf7, 0x02, 0x01, 0xfa, 0xf0, 0xff, 0x01, 0xfd,\n",
      "  0x0b, 0xee, 0xf6, 0xfc, 0x07, 0xef, 0xf6, 0x8b, 0xfc, 0x2f, 0x2e, 0xf7,\n",
      "  0xea, 0x1e, 0xfa, 0x01, 0xf1, 0xec, 0xe7, 0x08, 0xde, 0xea, 0xfb, 0xee,\n",
      "  0xef, 0x14, 0x23, 0xfc, 0xf7, 0x34, 0xf1, 0x37, 0xe1, 0xfc, 0xe2, 0xf8,\n",
      "  0xfe, 0xdb, 0xf2, 0x00, 0xfa, 0x00, 0xf6, 0x01, 0xf0, 0x35, 0xf2, 0x1b,\n",
      "  0xf1, 0xfa, 0xf7, 0xf2, 0xef, 0xfd, 0x19, 0xfd, 0x03, 0x01, 0xfe, 0xf9,\n",
      "  0xf7, 0xeb, 0xfa, 0xfb, 0xfd, 0x07, 0xed, 0xf8, 0xf5, 0x1d, 0xfa, 0xd2,\n",
      "  0xec, 0xef, 0x01, 0x01, 0xfc, 0xff, 0xe9, 0xf9, 0xfb, 0xfa, 0xe7, 0x00,\n",
      "  0xf9, 0xed, 0x06, 0xff, 0xf2, 0x02, 0x00, 0x03, 0xf2, 0x04, 0xfd, 0xfb,\n",
      "  0xeb, 0xfe, 0xfd, 0x00, 0x03, 0xeb, 0xe8, 0x00, 0x05, 0xfb, 0x00, 0xff,\n",
      "  0xfa, 0xfe, 0xfb, 0xfa, 0xf7, 0xfd, 0xf7, 0x00, 0xf7, 0xfd, 0xf7, 0x08,\n",
      "  0xfd, 0xf4, 0x00, 0xf7, 0xfb, 0xff, 0xfe, 0xfa, 0xfb, 0xfd, 0xfc, 0xfc,\n",
      "  0xee, 0xf9, 0xff, 0xfd, 0xff, 0x04, 0xf9, 0x00, 0xfb, 0xfc, 0xfc, 0xfe,\n",
      "  0xfb, 0xfc, 0xf7, 0xfe, 0xfc, 0xfa, 0x03, 0xf7, 0xf8, 0xfb, 0x0a, 0xfa,\n",
      "  0x01, 0xff, 0xfa, 0xfb, 0xfa, 0xf6, 0xf6, 0xfb, 0xfc, 0x01, 0xf2, 0xfa,\n",
      "  0xf9, 0x0d, 0xfb, 0xf1, 0xf9, 0xf5, 0xfe, 0xff, 0xfd, 0xf9, 0xf7, 0xfe,\n",
      "  0xfe, 0xfb, 0xeb, 0xfd, 0xfb, 0xfa, 0x00, 0x00, 0xf5, 0x00, 0xfb, 0xfd,\n",
      "  0xf8, 0xfe, 0xff, 0xfb, 0xf3, 0xff, 0xfd, 0xfa, 0x02, 0xf4, 0xf6, 0xfa,\n",
      "  0xf9, 0x04, 0xfb, 0x03, 0x05, 0xf1, 0xf6, 0x09, 0x0c, 0xf7, 0x07, 0xfb,\n",
      "  0x0a, 0x05, 0x09, 0xf5, 0x05, 0x05, 0x01, 0x08, 0x03, 0xf8, 0xf2, 0x04,\n",
      "  0x06, 0xed, 0x01, 0xed, 0x18, 0x05, 0x02, 0x02, 0xfc, 0xfa, 0x09, 0xf7,\n",
      "  0x07, 0xfb, 0x06, 0xf8, 0x02, 0xec, 0x0b, 0xf7, 0x00, 0x05, 0xfb, 0x0a,\n",
      "  0x02, 0x04, 0xf8, 0x0c, 0xfe, 0x06, 0xe9, 0xe9, 0xef, 0xfe, 0x15, 0xf5,\n",
      "  0xe9, 0xd1, 0x00, 0xfb, 0xff, 0xfa, 0xfb, 0xfe, 0xf9, 0xfd, 0x04, 0xf6,\n",
      "  0xf1, 0xe8, 0xfc, 0xe1, 0x00, 0xe1, 0x2b, 0xec, 0xf8, 0xfa, 0xfe, 0xf3,\n",
      "  0xfe, 0xfc, 0xeb, 0xfe, 0xfa, 0xfa, 0x03, 0xd7, 0xfd, 0xf7, 0x00, 0xe7,\n",
      "  0xfe, 0xfd, 0xff, 0xe8, 0xf9, 0x01, 0xf1, 0x81, 0xfb, 0x1b, 0x1e, 0xf0,\n",
      "  0x0a, 0x15, 0xfb, 0xe6, 0xe3, 0xc2, 0xbd, 0xf8, 0xb5, 0xf7, 0xf5, 0xe3,\n",
      "  0xfc, 0x0b, 0x14, 0xfb, 0xf6, 0x1a, 0xf6, 0x1c, 0x1a, 0xfb, 0xb5, 0xf1,\n",
      "  0xf7, 0xb0, 0xd7, 0xfe, 0xfb, 0x02, 0xe3, 0xfd, 0xf8, 0x1b, 0xe7, 0x0f,\n",
      "  0xf5, 0xfc, 0xf3, 0xec, 0xf4, 0xfc, 0x08, 0xf9, 0x07, 0x07, 0xf6, 0xfe,\n",
      "  0xf9, 0xf6, 0xf1, 0xfd, 0xf5, 0x08, 0xf5, 0x01, 0xf8, 0x0c, 0x00, 0xf8,\n",
      "  0xfc, 0xf3, 0xfd, 0xff, 0xff, 0xf6, 0xf6, 0xff, 0x01, 0xfd, 0xdf, 0xf8,\n",
      "  0x03, 0xfb, 0x03, 0x0b, 0xf7, 0x03, 0xf8, 0x00, 0xfb, 0x00, 0x01, 0xfd,\n",
      "  0xf3, 0xfe, 0xff, 0xf7, 0x07, 0xf0, 0xfe, 0xf7, 0x06, 0xf8, 0x03, 0x01,\n",
      "  0xf6, 0xfe, 0xfc, 0xfb, 0xf3, 0xfd, 0xf9, 0x01, 0xf8, 0xfc, 0xf9, 0x07,\n",
      "  0xfc, 0xf7, 0xfd, 0xf9, 0xfb, 0xfc, 0x00, 0xfa, 0xf8, 0xfe, 0xff, 0x00,\n",
      "  0xea, 0xfb, 0x00, 0xfc, 0xfe, 0x03, 0xfb, 0xfe, 0xf9, 0xfe, 0xfb, 0x00,\n",
      "  0xfc, 0xff, 0xf7, 0xfd, 0xfe, 0xf8, 0x03, 0xf6, 0xfd, 0xf8, 0xff, 0x0a,\n",
      "  0xf9, 0x0a, 0x0b, 0xea, 0xed, 0xf4, 0x12, 0xf3, 0x08, 0xfc, 0xfc, 0xfb,\n",
      "  0xfd, 0xfb, 0xfd, 0x08, 0xec, 0x02, 0x05, 0xf4, 0xee, 0x09, 0xf2, 0xe5,\n",
      "  0x00, 0xe3, 0x23, 0x08, 0xfd, 0xf2, 0xfe, 0xf5, 0xf8, 0xf9, 0x08, 0x00,\n",
      "  0xf8, 0xfb, 0x00, 0xdf, 0x03, 0xf3, 0x02, 0x07, 0xf9, 0x04, 0x03, 0x0a,\n",
      "  0x05, 0xfb, 0xff, 0xfd, 0xf9, 0xfb, 0xfd, 0xf9, 0xf6, 0xfe, 0xfa, 0x02,\n",
      "  0xf8, 0xfc, 0xf7, 0x08, 0xfd, 0xf6, 0xfe, 0xf6, 0xfb, 0xfd, 0xfe, 0xf9,\n",
      "  0xf8, 0xfe, 0xfc, 0xfe, 0xef, 0xfa, 0xfc, 0xfb, 0xfe, 0x00, 0xf8, 0xff,\n",
      "  0xf9, 0xfc, 0xfd, 0xfe, 0xfa, 0xfc, 0xf7, 0xfe, 0xfa, 0xfa, 0x02, 0xf6,\n",
      "  0xf9, 0xfb, 0x07, 0xf8, 0x02, 0xfe, 0xf8, 0xfe, 0xfb, 0xfc, 0xf5, 0xfe,\n",
      "  0xf7, 0x05, 0xf9, 0xfe, 0xfc, 0x07, 0xff, 0xf8, 0xff, 0xf6, 0xf9, 0xff,\n",
      "  0xff, 0xf8, 0xfd, 0x00, 0xfb, 0xff, 0xeb, 0xf9, 0x00, 0xfe, 0xff, 0x06,\n",
      "  0xf9, 0xfd, 0xf7, 0xfc, 0xfe, 0xfd, 0xfc, 0xfe, 0xf7, 0xfd, 0xfe, 0xf9,\n",
      "  0x02, 0xf7, 0xfc, 0xf8, 0xf7, 0x06, 0xfb, 0x04, 0x06, 0xee, 0xf2, 0x0b,\n",
      "  0x0b, 0xf5, 0x05, 0xf8, 0x0d, 0x04, 0x0b, 0xf1, 0x04, 0x08, 0x04, 0x0a,\n",
      "  0x04, 0xf7, 0xf4, 0x05, 0x0c, 0xeb, 0xff, 0xec, 0x1c, 0x03, 0x04, 0x07,\n",
      "  0xf9, 0xff, 0x08, 0xfa, 0x04, 0xfc, 0x09, 0xf9, 0x01, 0xe8, 0x0e, 0xf4,\n",
      "  0x02, 0x03, 0xf9, 0x0d, 0x03, 0x04, 0xf7, 0xf6, 0x0c, 0x07, 0xed, 0xfc,\n",
      "  0xf7, 0x15, 0xec, 0xfb, 0xec, 0x03, 0x06, 0x0d, 0x05, 0xfe, 0x0a, 0xfe,\n",
      "  0x25, 0xfb, 0x00, 0x01, 0xfc, 0xed, 0x18, 0xfb, 0x03, 0xfb, 0xd8, 0xee,\n",
      "  0x10, 0x19, 0xfe, 0x1e, 0x0b, 0x04, 0xec, 0xfa, 0x12, 0x04, 0x02, 0xfb,\n",
      "  0xff, 0xfd, 0x05, 0xf1, 0x0e, 0xff, 0x04, 0xed, 0x04, 0xf9, 0x0a, 0x09,\n",
      "  0xf6, 0xfb, 0xf9, 0xf7, 0xf1, 0xfb, 0xf5, 0x04, 0xf6, 0xff, 0xf9, 0x0a,\n",
      "  0xfe, 0xf9, 0xff, 0xf5, 0x00, 0x00, 0xfe, 0xf4, 0xf9, 0xfa, 0x04, 0xfa,\n",
      "  0xde, 0xf7, 0x00, 0xfd, 0x04, 0x09, 0xfa, 0x03, 0xf7, 0xff, 0xfc, 0x03,\n",
      "  0x02, 0xfa, 0xf3, 0xff, 0x03, 0xf6, 0x09, 0xf2, 0xfe, 0xf8, 0x08, 0xf2,\n",
      "  0xfb, 0xd1, 0xf9, 0x1a, 0x16, 0xf6, 0xed, 0x0e, 0xf9, 0x04, 0xf4, 0xf7,\n",
      "  0xf2, 0x0c, 0xf2, 0xf5, 0xfb, 0xf3, 0xf6, 0x0c, 0x13, 0xf9, 0xf8, 0x1e,\n",
      "  0xf9, 0x1d, 0xe5, 0xfa, 0xf4, 0xfb, 0x00, 0xf7, 0xf5, 0x01, 0xfb, 0xff,\n",
      "  0xf8, 0x01, 0xf8, 0x1f, 0xf4, 0x0c, 0xf9, 0xfc, 0xff, 0xf5, 0xf6, 0xfc,\n",
      "  0x1c, 0xe9, 0xee, 0x08, 0x0b, 0xf6, 0xfc, 0xd4, 0xe6, 0x08, 0x0b, 0x0e,\n",
      "  0xd2, 0xef, 0xe4, 0x23, 0xf0, 0xbc, 0xd5, 0xde, 0xec, 0x0f, 0x03, 0x09,\n",
      "  0xcc, 0xf1, 0xf0, 0xee, 0xdb, 0x0b, 0xf0, 0xdd, 0x32, 0xf1, 0xe0, 0x20,\n",
      "  0x0b, 0x2a, 0xdf, 0x24, 0xee, 0xec, 0xd7, 0x08, 0xf2, 0x08, 0xeb, 0xd3,\n",
      "  0xda, 0x0a, 0x09, 0xf7, 0x03, 0x00, 0xfa, 0xfe, 0xfb, 0xf5, 0xf3, 0xfe,\n",
      "  0xfc, 0x02, 0xf2, 0xfd, 0xf5, 0x0f, 0xfd, 0xf3, 0xfb, 0xf5, 0xfa, 0xfe,\n",
      "  0xff, 0xf9, 0xf5, 0xff, 0xfe, 0x01, 0xe9, 0xfd, 0xfc, 0xf8, 0x02, 0x04,\n",
      "  0xf8, 0x01, 0xf9, 0xff, 0xf8, 0x01, 0xfb, 0xfe, 0xf5, 0xfe, 0xfc, 0xfd,\n",
      "  0x04, 0xf3, 0xf8, 0xfc, 0xff, 0xfb, 0xf8, 0xf7, 0xf7, 0xfb, 0xfc, 0xf9,\n",
      "  0xf9, 0xfc, 0xf8, 0xf9, 0xf8, 0xfa, 0xf8, 0x03, 0xfb, 0xf3, 0xfa, 0xfa,\n",
      "  0xfb, 0xfa, 0xf9, 0xf7, 0xf9, 0xfc, 0xf9, 0xfa, 0xf8, 0xf7, 0xfc, 0xfb,\n",
      "  0xfa, 0xfb, 0xf9, 0xf8, 0xfb, 0xfa, 0xf9, 0xfb, 0xf9, 0xfc, 0xfa, 0xfa,\n",
      "  0xfa, 0xfa, 0xfb, 0xf7, 0xf4, 0xfa, 0xfc, 0x0a, 0xfc, 0xfd, 0xfa, 0xf0,\n",
      "  0xf3, 0xfc, 0x11, 0xf8, 0xfb, 0xe5, 0x00, 0xf6, 0xfe, 0xfc, 0xf5, 0x02,\n",
      "  0xfb, 0x01, 0x03, 0xfa, 0xf5, 0xfa, 0xfd, 0xed, 0xff, 0xeb, 0x1f, 0xfd,\n",
      "  0xf2, 0xfc, 0xfc, 0xec, 0xfb, 0xfa, 0xfb, 0xfe, 0xfb, 0xfb, 0xfe, 0xe8,\n",
      "  0x02, 0xf6, 0xfe, 0xfa, 0xfc, 0x03, 0xff, 0xf8, 0x09, 0xf7, 0x04, 0xf8,\n",
      "  0xf9, 0x0d, 0x0b, 0xf9, 0xef, 0x08, 0xf8, 0x07, 0xf4, 0xfb, 0xf7, 0x0c,\n",
      "  0xfb, 0xf8, 0xfd, 0xf4, 0xf9, 0x08, 0x09, 0xfb, 0xf6, 0x14, 0xff, 0x14,\n",
      "  0xe1, 0xfa, 0xfb, 0xfc, 0x04, 0x03, 0xf6, 0x07, 0xfa, 0x03, 0xfb, 0x03,\n",
      "  0xfe, 0x16, 0xf3, 0x08, 0xfe, 0xf9, 0x03, 0xf4, 0xfb, 0xfa, 0x05, 0xf7,\n",
      "  0xff, 0xe5, 0xfa, 0x13, 0x0c, 0xf6, 0xf0, 0x0a, 0xf9, 0x04, 0xf5, 0xf9,\n",
      "  0xf6, 0x0a, 0xf6, 0xf4, 0xfd, 0xf3, 0xf7, 0x06, 0x0e, 0xfb, 0xf8, 0x16,\n",
      "  0xfc, 0x18, 0xe4, 0xfb, 0xfb, 0xf9, 0x01, 0xfd, 0xf7, 0x05, 0xf9, 0x00,\n",
      "  0xfa, 0x02, 0xf9, 0x17, 0xf5, 0x09, 0xfa, 0xfd, 0x02, 0xf2, 0xf7, 0xfa,\n",
      "  0x03, 0x0b, 0xfb, 0x0c, 0x0a, 0xeb, 0xef, 0xf0, 0x13, 0xf3, 0x0b, 0xfe,\n",
      "  0xfc, 0xfa, 0xff, 0xff, 0xfe, 0x08, 0xe5, 0x04, 0x05, 0xf6, 0xee, 0x0b,\n",
      "  0xec, 0xe0, 0x01, 0xe1, 0x25, 0x08, 0xfb, 0xf0, 0xfe, 0xf3, 0xf8, 0xfa,\n",
      "  0x0b, 0x01, 0xf3, 0xfb, 0xff, 0xda, 0x01, 0xf4, 0xff, 0x0a, 0xf8, 0x01,\n",
      "  0x03, 0x09, 0xf9, 0x04, 0xfb, 0x03, 0x02, 0xf5, 0xfa, 0x04, 0x0c, 0xfb,\n",
      "  0x03, 0xfb, 0x09, 0x03, 0x08, 0xf4, 0x02, 0x08, 0x01, 0x09, 0x02, 0xfb,\n",
      "  0xf6, 0x05, 0x05, 0xf3, 0x03, 0xf3, 0x14, 0x02, 0x02, 0x04, 0xfb, 0xfb,\n",
      "  0x07, 0xfa, 0x03, 0xfe, 0x05, 0xfb, 0x00, 0xf2, 0x09, 0xfa, 0x01, 0x01,\n",
      "  0xfc, 0x0b, 0x02, 0x01, 0x13, 0xf6, 0x00, 0xec, 0xff, 0x20, 0x1c, 0xf2,\n",
      "  0xef, 0x11, 0xff, 0x06, 0xf2, 0xf7, 0xf1, 0x1c, 0xf5, 0xee, 0xf4, 0xf2,\n",
      "  0xf9, 0x0e, 0x17, 0xfd, 0xf2, 0x29, 0xfa, 0x2a, 0xe0, 0xff, 0xf8, 0xf4,\n",
      "  0x08, 0xf7, 0xf3, 0x08, 0x00, 0x07, 0xf6, 0x08, 0xfb, 0x2e, 0xf2, 0x13,\n",
      "  0xfa, 0x02, 0x04, 0xef, 0xf6, 0xfe, 0x1c, 0xfa, 0xf8, 0x05, 0x05, 0xf7,\n",
      "  0xfc, 0xdd, 0xf3, 0x01, 0x07, 0x0c, 0xdd, 0xf2, 0xec, 0x21, 0xf3, 0xbc,\n",
      "  0xdc, 0xe6, 0xf5, 0x07, 0xfe, 0x06, 0xd7, 0xf7, 0xf0, 0xf9, 0xe6, 0x09,\n",
      "  0xf5, 0xe5, 0x1b, 0xf5, 0xe9, 0x0c, 0x06, 0x15, 0xe6, 0x13, 0xf2, 0xf5,\n",
      "  0xe1, 0x01, 0xf1, 0x08, 0xfc, 0xdc, 0xd8, 0x06, 0xe9, 0x11, 0xff, 0x1b,\n",
      "  0xc8, 0xda, 0xe0, 0x03, 0x1b, 0xf0, 0xc8, 0xc2, 0x06, 0x03, 0x07, 0xef,\n",
      "  0x06, 0x03, 0xfc, 0x05, 0x09, 0xf2, 0xea, 0xc5, 0x00, 0xcf, 0x02, 0xcf,\n",
      "  0x32, 0xcc, 0x04, 0xfe, 0xfb, 0xfb, 0x04, 0xfa, 0xc7, 0xfe, 0x05, 0xfc,\n",
      "  0x06, 0xc1, 0x04, 0xee, 0x01, 0xc7, 0xff, 0x02, 0x01, 0xc7, 0xf1, 0xfe,\n",
      "  0x0b, 0xf3, 0xe7, 0xfc, 0xf9, 0x2b, 0xf6, 0xfc, 0xe9, 0xf3, 0x14, 0x16,\n",
      "  0x0d, 0xf6, 0x0f, 0xff, 0x41, 0x07, 0x05, 0xfb, 0xfd, 0xe7, 0x32, 0xfc,\n",
      "  0x08, 0xfe, 0xe6, 0xe8, 0x11, 0x31, 0xda, 0x17, 0x1b, 0xfc, 0xe7, 0xdd,\n",
      "  0x23, 0xf6, 0x05, 0xfc, 0x0a, 0xfd, 0x05, 0xe9, 0x0d, 0x0d, 0x01, 0xe9,\n",
      "  0x0c, 0xfb, 0x04, 0x01, 0xf9, 0xfb, 0xf9, 0xf6, 0xf5, 0xfc, 0xf9, 0x05,\n",
      "  0xf4, 0xfa, 0xf7, 0x0e, 0xfd, 0xf1, 0xfb, 0xf4, 0xff, 0xfe, 0xfe, 0xfa,\n",
      "  0xf4, 0xfc, 0xff, 0xfb, 0xe5, 0xfb, 0xfe, 0xf8, 0x03, 0x04, 0xf5, 0x01,\n",
      "  0xfa, 0xff, 0xf7, 0x02, 0x00, 0xfb, 0xf3, 0xfd, 0x00, 0xfa, 0x09, 0xf1,\n",
      "  0xf8, 0xf9, 0x0e, 0xf8, 0xfb, 0xc3, 0xfc, 0x30, 0x2b, 0xf5, 0xf3, 0x1a,\n",
      "  0xfc, 0xfd, 0xf0, 0xf0, 0xea, 0x16, 0xea, 0xee, 0xf8, 0xf1, 0xf8, 0x14,\n",
      "  0x24, 0xfe, 0xf4, 0x3e, 0xf7, 0x3e, 0xe5, 0x01, 0xed, 0xf8, 0x03, 0xe8,\n",
      "  0xef, 0x0a, 0xff, 0x04, 0xf1, 0x08, 0xf7, 0x49, 0xee, 0x1a, 0xf6, 0xfe,\n",
      "  0xfc, 0xf0, 0xf2, 0xfd, 0x06, 0x09, 0xfc, 0x19, 0x12, 0xe6, 0xe8, 0xe0,\n",
      "  0x0f, 0xf3, 0x14, 0x08, 0xf1, 0xf1, 0xfa, 0x02, 0xf7, 0x0a, 0xce, 0xfd,\n",
      "  0x02, 0xf4, 0xed, 0x13, 0xda, 0xdb, 0x02, 0xdb, 0x20, 0x11, 0xf7, 0xdd,\n",
      "  0x06, 0xf4, 0xee, 0xfa, 0x14, 0x06, 0xe8, 0xfd, 0x02, 0xd4, 0xfb, 0xf1,\n",
      "  0x00, 0x12, 0xf9, 0xfb, 0x04, 0x14, 0xf4, 0xf9, 0x15, 0x15, 0xea, 0xf5,\n",
      "  0xf3, 0x14, 0xea, 0xf9, 0xea, 0x04, 0x05, 0x13, 0x06, 0xf6, 0x0f, 0x0a,\n",
      "  0x2a, 0xfa, 0x04, 0xff, 0xf7, 0xeb, 0x1b, 0xf5, 0x0e, 0xf2, 0xd0, 0xeb,\n",
      "  0x13, 0x1a, 0x01, 0x23, 0x0c, 0x06, 0xe9, 0xfa, 0x11, 0x08, 0x09, 0xf3,\n",
      "  0xfc, 0xfd, 0x0b, 0xea, 0x17, 0xfe, 0x0f, 0xe9, 0x04, 0xfa, 0x03, 0x01,\n",
      "  0xf7, 0xfc, 0xf9, 0xf8, 0xf6, 0xfb, 0xf9, 0x02, 0xf5, 0xfd, 0xf9, 0x0b,\n",
      "  0xfc, 0xf8, 0xfd, 0xf8, 0xfb, 0x00, 0xfe, 0xf8, 0xfb, 0xfd, 0xff, 0xfc,\n",
      "  0xe8, 0xf9, 0x00, 0xfd, 0x00, 0x02, 0xf8, 0x02, 0xf8, 0xff, 0xfa, 0x00,\n",
      "  0xfe, 0xfc, 0xf7, 0xff, 0xfe, 0xf9, 0x06, 0xf5, 0xfc, 0xf9, 0x08, 0xfa,\n",
      "  0x05, 0x01, 0xf9, 0xfe, 0xf9, 0xf5, 0xf4, 0xfd, 0xfb, 0x03, 0xf2, 0xfc,\n",
      "  0xf7, 0x0d, 0xfb, 0xf2, 0xfc, 0xf5, 0xfd, 0xff, 0xfe, 0xf9, 0xf6, 0xfe,\n",
      "  0xfd, 0xfc, 0xe9, 0xfb, 0xfe, 0xfb, 0x02, 0x03, 0xf7, 0x01, 0xfb, 0x00,\n",
      "  0xfa, 0x00, 0xfc, 0xfb, 0xf5, 0x00, 0xfe, 0xfc, 0x06, 0xf3, 0xf7, 0xf8,\n",
      "  0xee, 0xfe, 0xff, 0xff, 0x04, 0x00, 0x00, 0x00, 0xc8, 0x00, 0x00, 0x00,\n",
      "  0x17, 0x04, 0x00, 0x00, 0x6d, 0xff, 0xff, 0xff, 0x09, 0xff, 0xff, 0xff,\n",
      "  0x5c, 0x02, 0x00, 0x00, 0xd9, 0x01, 0x00, 0x00, 0xf8, 0xff, 0xff, 0xff,\n",
      "  0x23, 0xfd, 0xff, 0xff, 0xbc, 0xff, 0xff, 0xff, 0xea, 0xfe, 0xff, 0xff,\n",
      "  0x2c, 0xfe, 0xff, 0xff, 0xe3, 0x04, 0x00, 0x00, 0xcd, 0xff, 0xff, 0xff,\n",
      "  0xa8, 0xfe, 0xff, 0xff, 0x38, 0xfd, 0xff, 0xff, 0xd2, 0xf5, 0xff, 0xff,\n",
      "  0x4c, 0x01, 0x00, 0x00, 0x5e, 0xf5, 0xff, 0xff, 0x8b, 0x00, 0x00, 0x00,\n",
      "  0xdc, 0xfb, 0xff, 0xff, 0xb8, 0xfe, 0xff, 0xff, 0x0b, 0xfc, 0xff, 0xff,\n",
      "  0x25, 0xfa, 0xff, 0xff, 0xf0, 0xf2, 0xff, 0xff, 0x9a, 0x02, 0x00, 0x00,\n",
      "  0x4f, 0xfd, 0xff, 0xff, 0xbd, 0xfe, 0xff, 0xff, 0x55, 0xfe, 0xff, 0xff,\n",
      "  0xc3, 0xff, 0xff, 0xff, 0x57, 0xfe, 0xff, 0xff, 0xdb, 0xfd, 0xff, 0xff,\n",
      "  0x91, 0x02, 0x00, 0x00, 0x61, 0xfa, 0xff, 0xff, 0x11, 0x07, 0x00, 0x00,\n",
      "  0xd4, 0xfe, 0xff, 0xff, 0x27, 0xf9, 0xff, 0xff, 0xe1, 0xfb, 0xff, 0xff,\n",
      "  0xf9, 0x00, 0x00, 0x00, 0x3a, 0xfe, 0xff, 0xff, 0x47, 0xff, 0xff, 0xff,\n",
      "  0x07, 0xff, 0xff, 0xff, 0x54, 0x00, 0x00, 0x00, 0x8f, 0x05, 0x00, 0x00,\n",
      "  0x9f, 0xfb, 0xff, 0xff, 0x18, 0xf1, 0xff, 0xff, 0xb6, 0xff, 0xff, 0xff,\n",
      "  0x81, 0xfc, 0xff, 0xff, 0x73, 0x04, 0x00, 0x00, 0xca, 0x05, 0x00, 0x00,\n",
      "  0xad, 0xfd, 0xff, 0xff, 0xa7, 0xff, 0xff, 0xff, 0xc2, 0xff, 0xff, 0xff,\n",
      "  0x04, 0x00, 0x00, 0x00, 0x32, 0x00, 0x00, 0x00, 0xbc, 0xf3, 0x0c, 0xf3,\n",
      "  0xd1, 0xf7, 0x20, 0xfa, 0x0e, 0xff, 0xc4, 0x19, 0xf7, 0x0e, 0x00, 0xf0,\n",
      "  0x5f, 0xe9, 0xfb, 0xf8, 0x05, 0x22, 0x4c, 0xf3, 0xfa, 0x22, 0xfc, 0xfa,\n",
      "  0x09, 0xc9, 0xf0, 0x20, 0x9d, 0xf9, 0xff, 0x17, 0x02, 0x12, 0x24, 0xff,\n",
      "  0xeb, 0xb3, 0x50, 0x81, 0xf4, 0xce, 0x38, 0xb6, 0xf7, 0xf7, 0x06, 0x00,\n",
      "  0x08, 0x00, 0x04, 0x00, 0x06, 0x00, 0x00, 0x00, 0x04, 0x00, 0x00, 0x00,\n",
      "  0x04, 0x00, 0x00, 0x00, 0x9e, 0x05, 0x00, 0x00, 0x24, 0xf9, 0xff, 0xff,\n",
      "  0x28, 0xf9, 0xff, 0xff, 0x0f, 0x00, 0x00, 0x00, 0x4d, 0x4c, 0x49, 0x52,\n",
      "  0x20, 0x43, 0x6f, 0x6e, 0x76, 0x65, 0x72, 0x74, 0x65, 0x64, 0x2e, 0x00,\n",
      "  0x01, 0x00, 0x00, 0x00, 0x14, 0x00, 0x00, 0x00, 0x00, 0x00, 0x0e, 0x00,\n",
      "  0x18, 0x00, 0x14, 0x00, 0x10, 0x00, 0x0c, 0x00, 0x08, 0x00, 0x04, 0x00,\n",
      "  0x0e, 0x00, 0x00, 0x00, 0x14, 0x00, 0x00, 0x00, 0x1c, 0x00, 0x00, 0x00,\n",
      "  0x78, 0x01, 0x00, 0x00, 0x7c, 0x01, 0x00, 0x00, 0x80, 0x01, 0x00, 0x00,\n",
      "  0x04, 0x00, 0x00, 0x00, 0x6d, 0x61, 0x69, 0x6e, 0x00, 0x00, 0x00, 0x00,\n",
      "  0x07, 0x00, 0x00, 0x00, 0x40, 0x01, 0x00, 0x00, 0xfc, 0x00, 0x00, 0x00,\n",
      "  0xc8, 0x00, 0x00, 0x00, 0x84, 0x00, 0x00, 0x00, 0x60, 0x00, 0x00, 0x00,\n",
      "  0x28, 0x00, 0x00, 0x00, 0x04, 0x00, 0x00, 0x00, 0x56, 0xff, 0xff, 0xff,\n",
      "  0x0c, 0x00, 0x00, 0x00, 0x10, 0x00, 0x00, 0x00, 0x03, 0x00, 0x00, 0x00,\n",
      "  0x01, 0x00, 0x00, 0x00, 0x0d, 0x00, 0x00, 0x00, 0x01, 0x00, 0x00, 0x00,\n",
      "  0x0c, 0x00, 0x00, 0x00, 0x4a, 0xff, 0xff, 0xff, 0x14, 0x00, 0x00, 0x00,\n",
      "  0x00, 0x00, 0x00, 0x08, 0x10, 0x00, 0x00, 0x00, 0x14, 0x00, 0x00, 0x00,\n",
      "  0x01, 0x00, 0x00, 0x00, 0xd4, 0xf9, 0xff, 0xff, 0x01, 0x00, 0x00, 0x00,\n",
      "  0x0c, 0x00, 0x00, 0x00, 0x03, 0x00, 0x00, 0x00, 0x0b, 0x00, 0x00, 0x00,\n",
      "  0x02, 0x00, 0x00, 0x00, 0x01, 0x00, 0x00, 0x00, 0xaa, 0xff, 0xff, 0xff,\n",
      "  0x0c, 0x00, 0x00, 0x00, 0x10, 0x00, 0x00, 0x00, 0x02, 0x00, 0x00, 0x00,\n",
      "  0x01, 0x00, 0x00, 0x00, 0x0b, 0x00, 0x00, 0x00, 0x01, 0x00, 0x00, 0x00,\n",
      "  0x0a, 0x00, 0x00, 0x00, 0x9e, 0xff, 0xff, 0xff, 0x14, 0x00, 0x00, 0x00,\n",
      "  0x00, 0x00, 0x00, 0x08, 0x10, 0x00, 0x00, 0x00, 0x14, 0x00, 0x00, 0x00,\n",
      "  0x01, 0x00, 0x00, 0x00, 0x28, 0xfa, 0xff, 0xff, 0x01, 0x00, 0x00, 0x00,\n",
      "  0x0a, 0x00, 0x00, 0x00, 0x03, 0x00, 0x00, 0x00, 0x09, 0x00, 0x00, 0x00,\n",
      "  0x04, 0x00, 0x00, 0x00, 0x03, 0x00, 0x00, 0x00, 0x00, 0x00, 0x0a, 0x00,\n",
      "  0x10, 0x00, 0x0c, 0x00, 0x08, 0x00, 0x04, 0x00, 0x0a, 0x00, 0x00, 0x00,\n",
      "  0x0c, 0x00, 0x00, 0x00, 0x10, 0x00, 0x00, 0x00, 0x02, 0x00, 0x00, 0x00,\n",
      "  0x01, 0x00, 0x00, 0x00, 0x09, 0x00, 0x00, 0x00, 0x01, 0x00, 0x00, 0x00,\n",
      "  0x08, 0x00, 0x00, 0x00, 0x00, 0x00, 0x0e, 0x00, 0x18, 0x00, 0x14, 0x00,\n",
      "  0x10, 0x00, 0x0c, 0x00, 0x0b, 0x00, 0x04, 0x00, 0x0e, 0x00, 0x00, 0x00,\n",
      "  0x14, 0x00, 0x00, 0x00, 0x00, 0x00, 0x00, 0x08, 0x10, 0x00, 0x00, 0x00,\n",
      "  0x14, 0x00, 0x00, 0x00, 0x01, 0x00, 0x00, 0x00, 0x98, 0xfa, 0xff, 0xff,\n",
      "  0x01, 0x00, 0x00, 0x00, 0x08, 0x00, 0x00, 0x00, 0x03, 0x00, 0x00, 0x00,\n",
      "  0x07, 0x00, 0x00, 0x00, 0x06, 0x00, 0x00, 0x00, 0x05, 0x00, 0x00, 0x00,\n",
      "  0x00, 0x00, 0x0a, 0x00, 0x0c, 0x00, 0x00, 0x00, 0x08, 0x00, 0x04, 0x00,\n",
      "  0x0a, 0x00, 0x00, 0x00, 0x08, 0x00, 0x00, 0x00, 0x0c, 0x00, 0x00, 0x00,\n",
      "  0x01, 0x00, 0x00, 0x00, 0x07, 0x00, 0x00, 0x00, 0x01, 0x00, 0x00, 0x00,\n",
      "  0x00, 0x00, 0x00, 0x00, 0x01, 0x00, 0x00, 0x00, 0x0d, 0x00, 0x00, 0x00,\n",
      "  0x01, 0x00, 0x00, 0x00, 0x00, 0x00, 0x00, 0x00, 0x0e, 0x00, 0x00, 0x00,\n",
      "  0xf8, 0x04, 0x00, 0x00, 0x80, 0x04, 0x00, 0x00, 0x08, 0x04, 0x00, 0x00,\n",
      "  0xb4, 0x03, 0x00, 0x00, 0x58, 0x03, 0x00, 0x00, 0x04, 0x03, 0x00, 0x00,\n",
      "  0xa8, 0x02, 0x00, 0x00, 0x44, 0x02, 0x00, 0x00, 0xe8, 0x01, 0x00, 0x00,\n",
      "  0x7c, 0x01, 0x00, 0x00, 0x18, 0x01, 0x00, 0x00, 0xac, 0x00, 0x00, 0x00,\n",
      "  0x48, 0x00, 0x00, 0x00, 0x04, 0x00, 0x00, 0x00, 0x56, 0xfb, 0xff, 0xff,\n",
      "  0x00, 0x00, 0x00, 0x01, 0x10, 0x00, 0x00, 0x00, 0x10, 0x00, 0x00, 0x00,\n",
      "  0x0e, 0x00, 0x00, 0x00, 0x20, 0x00, 0x00, 0x00, 0x40, 0xfb, 0xff, 0xff,\n",
      "  0x11, 0x00, 0x00, 0x00, 0x50, 0x61, 0x72, 0x74, 0x69, 0x74, 0x69, 0x6f,\n",
      "  0x6e, 0x65, 0x64, 0x43, 0x61, 0x6c, 0x6c, 0x3a, 0x30, 0x00, 0x00, 0x00,\n",
      "  0x02, 0x00, 0x00, 0x00, 0xb8, 0x0b, 0x00, 0x00, 0x01, 0x00, 0x00, 0x00,\n",
      "  0x0a, 0xfc, 0xff, 0xff, 0x00, 0x00, 0x00, 0x01, 0x14, 0x00, 0x00, 0x00,\n",
      "  0x30, 0x00, 0x00, 0x00, 0x0d, 0x00, 0x00, 0x00, 0x00, 0x00, 0x00, 0x09,\n",
      "  0x3c, 0x00, 0x00, 0x00, 0xf4, 0xfb, 0xff, 0xff, 0x08, 0x00, 0x00, 0x00,\n",
      "  0x10, 0x00, 0x00, 0x00, 0x01, 0x00, 0x00, 0x00, 0xa2, 0xff, 0xff, 0xff,\n",
      "  0xff, 0xff, 0xff, 0xff, 0x01, 0x00, 0x00, 0x00, 0x02, 0x40, 0x1e, 0x3b,\n",
      "  0x12, 0x00, 0x00, 0x00, 0x50, 0x61, 0x72, 0x74, 0x69, 0x74, 0x69, 0x6f,\n",
      "  0x6e, 0x65, 0x64, 0x43, 0x61, 0x6c, 0x6c, 0x3a, 0x30, 0x31, 0x00, 0x00,\n",
      "  0x02, 0x00, 0x00, 0x00, 0xb8, 0x0b, 0x00, 0x00, 0x01, 0x00, 0x00, 0x00,\n",
      "  0x6a, 0xfc, 0xff, 0xff, 0x00, 0x00, 0x00, 0x01, 0x14, 0x00, 0x00, 0x00,\n",
      "  0x30, 0x00, 0x00, 0x00, 0x0c, 0x00, 0x00, 0x00, 0x00, 0x00, 0x00, 0x09,\n",
      "  0x44, 0x00, 0x00, 0x00, 0x54, 0xfc, 0xff, 0xff, 0x08, 0x00, 0x00, 0x00,\n",
      "  0x10, 0x00, 0x00, 0x00, 0x01, 0x00, 0x00, 0x00, 0x80, 0xff, 0xff, 0xff,\n",
      "  0xff, 0xff, 0xff, 0xff, 0x01, 0x00, 0x00, 0x00, 0x00, 0x00, 0x80, 0x3b,\n",
      "  0x19, 0x00, 0x00, 0x00, 0x6f, 0x6e, 0x6e, 0x78, 0x5f, 0x74, 0x66, 0x5f,\n",
      "  0x70, 0x72, 0x65, 0x66, 0x69, 0x78, 0x5f, 0x2f, 0x33, 0x2f, 0x53, 0x69,\n",
      "  0x67, 0x6d, 0x6f, 0x69, 0x64, 0x00, 0x00, 0x00, 0x02, 0x00, 0x00, 0x00,\n",
      "  0xb8, 0x0b, 0x00, 0x00, 0x32, 0x00, 0x00, 0x00, 0xd2, 0xfc, 0xff, 0xff,\n",
      "  0x00, 0x00, 0x00, 0x01, 0x14, 0x00, 0x00, 0x00, 0x34, 0x00, 0x00, 0x00,\n",
      "  0x0b, 0x00, 0x00, 0x00, 0x00, 0x00, 0x00, 0x09, 0x3c, 0x00, 0x00, 0x00,\n",
      "  0xbc, 0xfc, 0xff, 0xff, 0x08, 0x00, 0x00, 0x00, 0x14, 0x00, 0x00, 0x00,\n",
      "  0x01, 0x00, 0x00, 0x00, 0x1c, 0x00, 0x00, 0x00, 0x00, 0x00, 0x00, 0x00,\n",
      "  0x00, 0x00, 0x00, 0x00, 0x01, 0x00, 0x00, 0x00, 0x4d, 0x41, 0x6c, 0x3d,\n",
      "  0x0e, 0x00, 0x00, 0x00, 0x4d, 0x61, 0x74, 0x4d, 0x75, 0x6c, 0x5f, 0x31,\n",
      "  0x3b, 0x61, 0x64, 0x64, 0x5f, 0x31, 0x00, 0x00, 0x02, 0x00, 0x00, 0x00,\n",
      "  0xb8, 0x0b, 0x00, 0x00, 0x32, 0x00, 0x00, 0x00, 0x32, 0xfd, 0xff, 0xff,\n",
      "  0x00, 0x00, 0x00, 0x01, 0x14, 0x00, 0x00, 0x00, 0x30, 0x00, 0x00, 0x00,\n",
      "  0x0a, 0x00, 0x00, 0x00, 0x00, 0x00, 0x00, 0x09, 0x44, 0x00, 0x00, 0x00,\n",
      "  0x1c, 0xfd, 0xff, 0xff, 0x08, 0x00, 0x00, 0x00, 0x10, 0x00, 0x00, 0x00,\n",
      "  0x01, 0x00, 0x00, 0x00, 0x80, 0xff, 0xff, 0xff, 0xff, 0xff, 0xff, 0xff,\n",
      "  0x01, 0x00, 0x00, 0x00, 0x00, 0x00, 0x80, 0x3b, 0x19, 0x00, 0x00, 0x00,\n",
      "  0x6f, 0x6e, 0x6e, 0x78, 0x5f, 0x74, 0x66, 0x5f, 0x70, 0x72, 0x65, 0x66,\n",
      "  0x69, 0x78, 0x5f, 0x2f, 0x31, 0x2f, 0x53, 0x69, 0x67, 0x6d, 0x6f, 0x69,\n",
      "  0x64, 0x00, 0x00, 0x00, 0x02, 0x00, 0x00, 0x00, 0xb8, 0x0b, 0x00, 0x00,\n",
      "  0x32, 0x00, 0x00, 0x00, 0x9a, 0xfd, 0xff, 0xff, 0x00, 0x00, 0x00, 0x01,\n",
      "  0x14, 0x00, 0x00, 0x00, 0x30, 0x00, 0x00, 0x00, 0x09, 0x00, 0x00, 0x00,\n",
      "  0x00, 0x00, 0x00, 0x09, 0x34, 0x00, 0x00, 0x00, 0x84, 0xfd, 0xff, 0xff,\n",
      "  0x08, 0x00, 0x00, 0x00, 0x10, 0x00, 0x00, 0x00, 0x01, 0x00, 0x00, 0x00,\n",
      "  0xf9, 0xff, 0xff, 0xff, 0xff, 0xff, 0xff, 0xff, 0x01, 0x00, 0x00, 0x00,\n",
      "  0xe8, 0xee, 0xdf, 0x3d, 0x0a, 0x00, 0x00, 0x00, 0x4d, 0x61, 0x74, 0x4d,\n",
      "  0x75, 0x6c, 0x3b, 0x61, 0x64, 0x64, 0x00, 0x00, 0x02, 0x00, 0x00, 0x00,\n",
      "  0xb8, 0x0b, 0x00, 0x00, 0x32, 0x00, 0x00, 0x00, 0xf2, 0xfd, 0xff, 0xff,\n",
      "  0x00, 0x00, 0x00, 0x01, 0x14, 0x00, 0x00, 0x00, 0x34, 0x00, 0x00, 0x00,\n",
      "  0x08, 0x00, 0x00, 0x00, 0x00, 0x00, 0x00, 0x09, 0x3c, 0x00, 0x00, 0x00,\n",
      "  0xdc, 0xfd, 0xff, 0xff, 0x08, 0x00, 0x00, 0x00, 0x14, 0x00, 0x00, 0x00,\n",
      "  0x01, 0x00, 0x00, 0x00, 0x7f, 0x00, 0x00, 0x00, 0x00, 0x00, 0x00, 0x00,\n",
      "  0x00, 0x00, 0x00, 0x00, 0x01, 0x00, 0x00, 0x00, 0xa1, 0xa0, 0x20, 0x3d,\n",
      "  0x0c, 0x00, 0x00, 0x00, 0x74, 0x66, 0x6c, 0x2e, 0x71, 0x75, 0x61, 0x6e,\n",
      "  0x74, 0x69, 0x7a, 0x65, 0x00, 0x00, 0x00, 0x00, 0x02, 0x00, 0x00, 0x00,\n",
      "  0xb8, 0x0b, 0x00, 0x00, 0x01, 0x00, 0x00, 0x00, 0x52, 0xfe, 0xff, 0xff,\n",
      "  0x00, 0x00, 0x00, 0x01, 0x14, 0x00, 0x00, 0x00, 0x34, 0x00, 0x00, 0x00,\n",
      "  0x07, 0x00, 0x00, 0x00, 0x00, 0x00, 0x00, 0x09, 0x34, 0x00, 0x00, 0x00,\n",
      "  0x3c, 0xfe, 0xff, 0xff, 0x08, 0x00, 0x00, 0x00, 0x14, 0x00, 0x00, 0x00,\n",
      "  0x01, 0x00, 0x00, 0x00, 0x00, 0x00, 0x00, 0x00, 0x00, 0x00, 0x00, 0x00,\n",
      "  0x00, 0x00, 0x00, 0x00, 0x01, 0x00, 0x00, 0x00, 0x28, 0x36, 0x34, 0x3c,\n",
      "  0x06, 0x00, 0x00, 0x00, 0x4d, 0x61, 0x74, 0x4d, 0x75, 0x6c, 0x00, 0x00,\n",
      "  0x02, 0x00, 0x00, 0x00, 0x32, 0x00, 0x00, 0x00, 0x01, 0x00, 0x00, 0x00,\n",
      "  0xaa, 0xfe, 0xff, 0xff, 0x00, 0x00, 0x00, 0x01, 0x14, 0x00, 0x00, 0x00,\n",
      "  0x30, 0x00, 0x00, 0x00, 0x06, 0x00, 0x00, 0x00, 0x00, 0x00, 0x00, 0x02,\n",
      "  0x30, 0x00, 0x00, 0x00, 0x94, 0xfe, 0xff, 0xff, 0x08, 0x00, 0x00, 0x00,\n",
      "  0x10, 0x00, 0x00, 0x00, 0x01, 0x00, 0x00, 0x00, 0x00, 0x00, 0x00, 0x00,\n",
      "  0x00, 0x00, 0x00, 0x00, 0x01, 0x00, 0x00, 0x00, 0xd8, 0x25, 0xe2, 0x39,\n",
      "  0x07, 0x00, 0x00, 0x00, 0x43, 0x6f, 0x6e, 0x73, 0x74, 0x5f, 0x34, 0x00,\n",
      "  0x01, 0x00, 0x00, 0x00, 0x32, 0x00, 0x00, 0x00, 0xfa, 0xfe, 0xff, 0xff,\n",
      "  0x00, 0x00, 0x00, 0x01, 0x14, 0x00, 0x00, 0x00, 0x30, 0x00, 0x00, 0x00,\n",
      "  0x05, 0x00, 0x00, 0x00, 0x00, 0x00, 0x00, 0x09, 0x34, 0x00, 0x00, 0x00,\n",
      "  0xe4, 0xfe, 0xff, 0xff, 0x08, 0x00, 0x00, 0x00, 0x10, 0x00, 0x00, 0x00,\n",
      "  0x01, 0x00, 0x00, 0x00, 0x00, 0x00, 0x00, 0x00, 0x00, 0x00, 0x00, 0x00,\n",
      "  0x01, 0x00, 0x00, 0x00, 0x12, 0xa7, 0x08, 0x3d, 0x08, 0x00, 0x00, 0x00,\n",
      "  0x4d, 0x61, 0x74, 0x4d, 0x75, 0x6c, 0x5f, 0x31, 0x00, 0x00, 0x00, 0x00,\n",
      "  0x02, 0x00, 0x00, 0x00, 0x32, 0x00, 0x00, 0x00, 0x32, 0x00, 0x00, 0x00,\n",
      "  0x52, 0xff, 0xff, 0xff, 0x00, 0x00, 0x00, 0x01, 0x14, 0x00, 0x00, 0x00,\n",
      "  0x30, 0x00, 0x00, 0x00, 0x04, 0x00, 0x00, 0x00, 0x00, 0x00, 0x00, 0x02,\n",
      "  0x30, 0x00, 0x00, 0x00, 0x3c, 0xff, 0xff, 0xff, 0x08, 0x00, 0x00, 0x00,\n",
      "  0x10, 0x00, 0x00, 0x00, 0x01, 0x00, 0x00, 0x00, 0x00, 0x00, 0x00, 0x00,\n",
      "  0x00, 0x00, 0x00, 0x00, 0x01, 0x00, 0x00, 0x00, 0x12, 0xa7, 0x08, 0x39,\n",
      "  0x07, 0x00, 0x00, 0x00, 0x43, 0x6f, 0x6e, 0x73, 0x74, 0x5f, 0x32, 0x00,\n",
      "  0x01, 0x00, 0x00, 0x00, 0x32, 0x00, 0x00, 0x00, 0xa2, 0xff, 0xff, 0xff,\n",
      "  0x00, 0x00, 0x00, 0x01, 0x14, 0x00, 0x00, 0x00, 0x34, 0x00, 0x00, 0x00,\n",
      "  0x03, 0x00, 0x00, 0x00, 0x00, 0x00, 0x00, 0x09, 0x38, 0x00, 0x00, 0x00,\n",
      "  0x8c, 0xff, 0xff, 0xff, 0x08, 0x00, 0x00, 0x00, 0x14, 0x00, 0x00, 0x00,\n",
      "  0x01, 0x00, 0x00, 0x00, 0x00, 0x00, 0x00, 0x00, 0x00, 0x00, 0x00, 0x00,\n",
      "  0x00, 0x00, 0x00, 0x00, 0x01, 0x00, 0x00, 0x00, 0x34, 0x4e, 0x88, 0x3c,\n",
      "  0x08, 0x00, 0x00, 0x00, 0x4d, 0x61, 0x74, 0x4d, 0x75, 0x6c, 0x5f, 0x32,\n",
      "  0x00, 0x00, 0x00, 0x00, 0x02, 0x00, 0x00, 0x00, 0x01, 0x00, 0x00, 0x00,\n",
      "  0x32, 0x00, 0x00, 0x00, 0x00, 0x00, 0x16, 0x00, 0x1c, 0x00, 0x18, 0x00,\n",
      "  0x17, 0x00, 0x10, 0x00, 0x0c, 0x00, 0x08, 0x00, 0x00, 0x00, 0x00, 0x00,\n",
      "  0x00, 0x00, 0x07, 0x00, 0x16, 0x00, 0x00, 0x00, 0x00, 0x00, 0x00, 0x01,\n",
      "  0x20, 0x00, 0x00, 0x00, 0x3c, 0x00, 0x00, 0x00, 0x02, 0x00, 0x00, 0x00,\n",
      "  0x00, 0x00, 0x00, 0x02, 0x3c, 0x00, 0x00, 0x00, 0x0c, 0x00, 0x0c, 0x00,\n",
      "  0x00, 0x00, 0x00, 0x00, 0x08, 0x00, 0x04, 0x00, 0x0c, 0x00, 0x00, 0x00,\n",
      "  0x08, 0x00, 0x00, 0x00, 0x10, 0x00, 0x00, 0x00, 0x01, 0x00, 0x00, 0x00,\n",
      "  0x00, 0x00, 0x00, 0x00, 0x00, 0x00, 0x00, 0x00, 0x01, 0x00, 0x00, 0x00,\n",
      "  0x34, 0x4e, 0x88, 0x38, 0x05, 0x00, 0x00, 0x00, 0x43, 0x6f, 0x6e, 0x73,\n",
      "  0x74, 0x00, 0x00, 0x00, 0x01, 0x00, 0x00, 0x00, 0x01, 0x00, 0x00, 0x00,\n",
      "  0x00, 0x00, 0x16, 0x00, 0x18, 0x00, 0x14, 0x00, 0x00, 0x00, 0x10, 0x00,\n",
      "  0x0c, 0x00, 0x08, 0x00, 0x00, 0x00, 0x00, 0x00, 0x00, 0x00, 0x07, 0x00,\n",
      "  0x16, 0x00, 0x00, 0x00, 0x00, 0x00, 0x00, 0x01, 0x14, 0x00, 0x00, 0x00,\n",
      "  0x14, 0x00, 0x00, 0x00, 0x01, 0x00, 0x00, 0x00, 0x24, 0x00, 0x00, 0x00,\n",
      "  0x04, 0x00, 0x04, 0x00, 0x04, 0x00, 0x00, 0x00, 0x13, 0x00, 0x00, 0x00,\n",
      "  0x73, 0x65, 0x72, 0x76, 0x69, 0x6e, 0x67, 0x5f, 0x64, 0x65, 0x66, 0x61,\n",
      "  0x75, 0x6c, 0x74, 0x5f, 0x78, 0x3a, 0x30, 0x00, 0x02, 0x00, 0x00, 0x00,\n",
      "  0xb8, 0x0b, 0x00, 0x00, 0x01, 0x00, 0x00, 0x00, 0x04, 0x00, 0x00, 0x00,\n",
      "  0x58, 0x00, 0x00, 0x00, 0x38, 0x00, 0x00, 0x00, 0x18, 0x00, 0x00, 0x00,\n",
      "  0x04, 0x00, 0x00, 0x00, 0xe0, 0xff, 0xff, 0xff, 0x06, 0x00, 0x00, 0x00,\n",
      "  0x02, 0x00, 0x00, 0x00, 0x00, 0x00, 0x00, 0x06, 0xf0, 0xff, 0xff, 0xff,\n",
      "  0x0e, 0x00, 0x00, 0x00, 0x02, 0x00, 0x00, 0x00, 0x00, 0x00, 0x00, 0x0e,\n",
      "  0x0c, 0x00, 0x10, 0x00, 0x0f, 0x00, 0x00, 0x00, 0x08, 0x00, 0x04, 0x00,\n",
      "  0x0c, 0x00, 0x00, 0x00, 0x09, 0x00, 0x00, 0x00, 0x04, 0x00, 0x00, 0x00,\n",
      "  0x00, 0x00, 0x00, 0x09, 0x0c, 0x00, 0x0c, 0x00, 0x0b, 0x00, 0x00, 0x00,\n",
      "  0x00, 0x00, 0x04, 0x00, 0x0c, 0x00, 0x00, 0x00, 0x72, 0x00, 0x00, 0x00,\n",
      "  0x00, 0x00, 0x00, 0x72\n",
      "};\n",
      "unsigned int sineModel_tflite_len = 5464;\n"
     ]
    }
   ],
   "source": [
    "! xxd -i sineModel.tflite > tfLite_esp32/src/sineModel.cpp\n",
    "! cat tfLite_esp32/src/sineModel.cpp"
   ]
  }
 ],
 "metadata": {
  "kernelspec": {
   "display_name": "Python 3.10.6 64-bit",
   "language": "python",
   "name": "python3"
  },
  "language_info": {
   "codemirror_mode": {
    "name": "ipython",
    "version": 3
   },
   "file_extension": ".py",
   "mimetype": "text/x-python",
   "name": "python",
   "nbconvert_exporter": "python",
   "pygments_lexer": "ipython3",
   "version": "3.10.6"
  },
  "orig_nbformat": 4,
  "vscode": {
   "interpreter": {
    "hash": "916dbcbb3f70747c44a77c7bcd40155683ae19c65e1c03b4aa3499c5328201f1"
   }
  }
 },
 "nbformat": 4,
 "nbformat_minor": 2
}
